{
 "cells": [
  {
   "cell_type": "markdown",
   "metadata": {
    "id": "74NTE3-yIlpZ"
   },
   "source": [
    "# 認識資料型態與函式"
   ]
  },
  {
   "cell_type": "markdown",
   "metadata": {
    "id": "Z0SLoL8z-Dvc"
   },
   "source": [
    "## 1. 定義可以呼叫的函式 (function)\n",
    "\n",
    "\n"
   ]
  },
  {
   "cell_type": "markdown",
   "metadata": {
    "id": "hA0VBHGV-H06"
   },
   "source": [
    "定義函式要使用**def陳述句**來定義\n",
    "常見格式如下：\n",
    "<pre>\n",
    "def 函式名稱(指定的變數):\n",
    "    要執行的內容\n",
    "    return 要返回的值\n",
    "</pre>\n",
    "+ 試著定義函式來**模擬寵物的行為**吧！"
   ]
  },
  {
   "cell_type": "code",
   "execution_count": 1,
   "metadata": {
    "colab": {
     "base_uri": "https://localhost:8080/"
    },
    "executionInfo": {
     "elapsed": 6,
     "status": "ok",
     "timestamp": 1728440740642,
     "user": {
      "displayName": "曾吉弘",
      "userId": "06313166903000840460"
     },
     "user_tz": -480
    },
    "id": "yAszv9fG-BmS",
    "outputId": "edfa2c3c-1891-467e-eab0-5afdd54c278c"
   },
   "outputs": [
    {
     "name": "stdout",
     "output_type": "stream",
     "text": [
      "汪汪汪~~~\n"
     ]
    }
   ],
   "source": [
    "#你家狗\n",
    "def dog():\n",
    "    print(\"汪汪汪~~~\")\n",
    "dog()"
   ]
  },
  {
   "cell_type": "code",
   "execution_count": 3,
   "metadata": {
    "colab": {
     "base_uri": "https://localhost:8080/"
    },
    "executionInfo": {
     "elapsed": 474,
     "status": "ok",
     "timestamp": 1728440813842,
     "user": {
      "displayName": "曾吉弘",
      "userId": "06313166903000840460"
     },
     "user_tz": -480
    },
    "id": "G-E9aXyY-7pX",
    "outputId": "c047394a-92b7-4d99-835f-86be8cf3a754"
   },
   "outputs": [
    {
     "name": "stdout",
     "output_type": "stream",
     "text": [
      "Hello, Apple\n",
      "Apple Apple Apple\n"
     ]
    }
   ],
   "source": [
    "#你家鸚鵡\n",
    "def parrot(name):\n",
    "    print(\"Hello, \"+name)\n",
    "    print(name+\" \"+name+\" \"+name)\n",
    "parrot(\"Apple\")"
   ]
  },
  {
   "cell_type": "code",
   "execution_count": 4,
   "metadata": {
    "id": "gO0dEtCD-98A"
   },
   "outputs": [],
   "source": [
    "#你家貓\n",
    "def cat():\n",
    "    return False"
   ]
  },
  {
   "cell_type": "markdown",
   "metadata": {
    "id": "6z57gI5e_S65"
   },
   "source": [
    "==============  \n",
    "\n",
    "呼叫函式的方式如下，沒有指定的變數留空白即可\n",
    "<pre>\n",
    "函式名稱（指定的變數）\n",
    "</pre>\n",
    "+ 試著呼叫狗（沒有指定的變數）"
   ]
  },
  {
   "cell_type": "code",
   "execution_count": 5,
   "metadata": {
    "id": "wNs6_Yf2_VED"
   },
   "outputs": [
    {
     "name": "stdout",
     "output_type": "stream",
     "text": [
      "汪汪汪~~~\n"
     ]
    }
   ],
   "source": [
    "dog()"
   ]
  },
  {
   "cell_type": "markdown",
   "metadata": {
    "id": "pHlRDp9U_XFJ"
   },
   "source": [
    "==============  \n",
    "\n",
    "+ 試著呼叫鸚鵡（需要給函式你的名字）"
   ]
  },
  {
   "cell_type": "code",
   "execution_count": 6,
   "metadata": {
    "colab": {
     "base_uri": "https://localhost:8080/",
     "height": 51
    },
    "executionInfo": {
     "elapsed": 3459,
     "status": "ok",
     "timestamp": 1583685171564,
     "user": {
      "displayName": "曾吉弘",
      "photoUrl": "",
      "userId": "05182442915746015943"
     },
     "user_tz": -480
    },
    "id": "qUnaiNsO_c5M",
    "outputId": "35e194aa-6cc8-4081-cc9b-78dc81d9a3c4"
   },
   "outputs": [
    {
     "name": "stdout",
     "output_type": "stream",
     "text": [
      "Hello, 顆顆\n",
      "顆顆 顆顆 顆顆\n"
     ]
    }
   ],
   "source": [
    "parrot(\"顆顆\")"
   ]
  },
  {
   "cell_type": "markdown",
   "metadata": {
    "id": "cn8GYUjk_iew"
   },
   "source": [
    "==============  \n",
    "\n",
    "+  都呼叫試試看"
   ]
  },
  {
   "cell_type": "code",
   "execution_count": 7,
   "metadata": {
    "colab": {
     "base_uri": "https://localhost:8080/",
     "height": 72
    },
    "executionInfo": {
     "elapsed": 761,
     "status": "ok",
     "timestamp": 1586169196893,
     "user": {
      "displayName": "曾吉弘",
      "photoUrl": "https://lh3.googleusercontent.com/a-/AOh14GhPBVfQL-fJErJNWwYssV_biT7vT2hSmwMvNUmN=s64",
      "userId": "06313166903000840460"
     },
     "user_tz": -480
    },
    "id": "7JYpD1BD_imw",
    "outputId": "94889669-ceab-416f-a855-850119c04d9d"
   },
   "outputs": [
    {
     "name": "stdout",
     "output_type": "stream",
     "text": [
      "汪汪汪~~~\n",
      "Hello, George\n",
      "George George George\n"
     ]
    }
   ],
   "source": [
    "dog()\n",
    "parrot(\"George\")"
   ]
  },
  {
   "cell_type": "markdown",
   "metadata": {
    "id": "I-pFG1BVATeK"
   },
   "source": [
    "==============  \n",
    "\n",
    "\n",
    "+ 試著呼叫貓，檢查貓在不在"
   ]
  },
  {
   "cell_type": "code",
   "execution_count": 8,
   "metadata": {
    "id": "GrBGGniVATkQ"
   },
   "outputs": [
    {
     "name": "stdout",
     "output_type": "stream",
     "text": [
      "<class 'bool'>\n",
      "貓不在家我好難過\n"
     ]
    }
   ],
   "source": [
    "iscat = cat() #回傳 False 並存入 iscat 變數中\n",
    "print(type(iscat))\n",
    "#print(iscat)\n",
    "#print(cat())\n",
    "#可根據這個回傳值來做事情\n",
    "if iscat == False:\n",
    "    print(\"貓不在家我好難過\")"
   ]
  },
  {
   "cell_type": "code",
   "execution_count": 9,
   "metadata": {
    "colab": {
     "base_uri": "https://localhost:8080/"
    },
    "executionInfo": {
     "elapsed": 654,
     "status": "ok",
     "timestamp": 1728440936476,
     "user": {
      "displayName": "曾吉弘",
      "userId": "06313166903000840460"
     },
     "user_tz": -480
    },
    "id": "A48iS70u2rQh",
    "outputId": "48dc7173-e0d7-4c97-8dca-28eb38e9dbc1"
   },
   "outputs": [
    {
     "name": "stdout",
     "output_type": "stream",
     "text": [
      "False\n",
      "True\n"
     ]
    }
   ],
   "source": [
    "# 會除法的貓\n",
    "def cat(x):\n",
    "    if x%7 == 0: #可被7整除\n",
    "        return True\n",
    "    else:\n",
    "        return False\n",
    "\n",
    "print(cat(1))\n",
    "print(cat(42))"
   ]
  },
  {
   "cell_type": "markdown",
   "metadata": {
    "id": "GLxa8nbcAbmG"
   },
   "source": [
    "### 應用：定義函式來計算長方形面積"
   ]
  },
  {
   "cell_type": "code",
   "execution_count": 10,
   "metadata": {
    "colab": {
     "base_uri": "https://localhost:8080/"
    },
    "executionInfo": {
     "elapsed": 449,
     "status": "ok",
     "timestamp": 1728441011066,
     "user": {
      "displayName": "曾吉弘",
      "userId": "06313166903000840460"
     },
     "user_tz": -480
    },
    "id": "WEsLcjE4Afae",
    "outputId": "02aef827-02b1-4ab9-d406-cb07e3d84645"
   },
   "outputs": [
    {
     "name": "stdout",
     "output_type": "stream",
     "text": [
      "20\n",
      "None\n",
      "314.159\n"
     ]
    }
   ],
   "source": [
    "import math\n",
    "\n",
    "def area(width,height):\n",
    "    print(width * height)\n",
    "\n",
    "def circle(r):\n",
    "    return round((r * r * math.pi), 3)\n",
    "\n",
    "print(area (4, 5))\n",
    "print(circle(10))"
   ]
  },
  {
   "cell_type": "code",
   "execution_count": 11,
   "metadata": {},
   "outputs": [
    {
     "name": "stdout",
     "output_type": "stream",
     "text": [
      "20\n",
      "⚠️ 請輸入數字，不要用字串！\n",
      "314.159\n",
      "⚠️ 半徑必須是數字！\n"
     ]
    }
   ],
   "source": [
    "import math\n",
    "\n",
    "def area(width, height):\n",
    "    # 檢查輸入是否為數字\n",
    "    if not (isinstance(width, (int, float)) and isinstance(height, (int, float))):\n",
    "        return \"⚠️ 請輸入數字，不要用字串！\"\n",
    "    return width * height\n",
    "\n",
    "def circle(r):\n",
    "    if not isinstance(r, (int, float)):\n",
    "        return \"⚠️ 半徑必須是數字！\"\n",
    "    return round((r * r * math.pi), 3)\n",
    "\n",
    "# 測試\n",
    "print(area(4, 5))      # 正確 → 20\n",
    "print(area(\"4\", \"5\"))  # 錯誤 → 提醒使用者\n",
    "print(circle(10))      # 正確 → 314.159\n",
    "print(circle(\"10\"))    # 錯誤 → 提醒使用者"
   ]
  },
  {
   "cell_type": "markdown",
   "metadata": {
    "id": "j1erCz6iIlqo"
   },
   "source": [
    "==============  \n",
    "## 清單(List)\n",
    "\n",
    "**List清單** 是按照順序排列的資料，可透過 index 來取得指定位置的資料。概念如同學生座號\n",
    "\n",
    "撰寫格式如下，不同項目用逗號分隔：\n",
    "<pre>\n",
    "清單變數名稱 = [清單元素一,清單元素二,....]\n",
    "</pre>\n",
    "\n",
    "+ 試著建立一個清單"
   ]
  },
  {
   "cell_type": "code",
   "execution_count": 14,
   "metadata": {
    "colab": {
     "base_uri": "https://localhost:8080/"
    },
    "executionInfo": {
     "elapsed": 600,
     "status": "ok",
     "timestamp": 1728441455296,
     "user": {
      "displayName": "曾吉弘",
      "userId": "06313166903000840460"
     },
     "user_tz": -480
    },
    "id": "Md0RHyhhIlqo",
    "outputId": "51a3d499-e8ad-4593-c921-862f32a0fad7"
   },
   "outputs": [
    {
     "name": "stdout",
     "output_type": "stream",
     "text": [
      "<class 'list'>\n",
      "6\n",
      "yellow\n",
      "black\n",
      "violet\n"
     ]
    }
   ],
   "source": [
    "myColor = [\"red\",\"blue\",\"white\",\"violet\",\"black\",\"yellow\"] #維度1\n",
    "print(type(myColor))\n",
    "print(len(myColor))\n",
    "print(myColor[5])\n",
    "print(myColor[-2])\n",
    "print(myColor[-3])"
   ]
  },
  {
   "cell_type": "markdown",
   "metadata": {
    "id": "ZWWsqckOeInb"
   },
   "source": [
    "清單也可具備多個維度，例如以下二維清單。當然要更多維也可以只是太複雜就不好處理。"
   ]
  },
  {
   "cell_type": "code",
   "execution_count": 15,
   "metadata": {
    "colab": {
     "base_uri": "https://localhost:8080/"
    },
    "executionInfo": {
     "elapsed": 390,
     "status": "ok",
     "timestamp": 1665022864217,
     "user": {
      "displayName": "曾吉弘",
      "userId": "06313166903000840460"
     },
     "user_tz": -480
    },
    "id": "e2nPEHH2eInc",
    "outputId": "41619502-2427-490f-d4b9-30443c5dc34c"
   },
   "outputs": [
    {
     "name": "stdout",
     "output_type": "stream",
     "text": [
      "[[1, 2, 3], [4, 5, 6], [7, 8, 9]]\n",
      "3\n",
      "[4, 5, 6]\n",
      "9\n"
     ]
    }
   ],
   "source": [
    "test = [[1,2,3], [4,5,6], [7,8,9]] #維度2\n",
    "print(test)\n",
    "print(len(test))\n",
    "print(test[1])\n",
    "print(test[2][2])"
   ]
  },
  {
   "cell_type": "markdown",
   "metadata": {
    "id": "FOZo7YkeIlqr"
   },
   "source": [
    "==============   \n",
    "\n",
    "### 2-1 呼叫清單中的元素\n",
    "\n",
    "<pre>\n",
    "清單名稱[index編號]\n",
    "</pre>\n",
    "\n",
    "+ 注意，Python 與絕大多數程式語言，index 都是從0開始"
   ]
  },
  {
   "cell_type": "code",
   "execution_count": null,
   "metadata": {
    "id": "oH3HjQ1CIlqs",
    "outputId": "fa449867-07ab-495c-ff6a-d03a2cfb41a9"
   },
   "outputs": [
    {
     "data": {
      "text/plain": [
       "'yellow'"
      ]
     },
     "execution_count": 60,
     "metadata": {
      "tags": []
     },
     "output_type": "execute_result"
    }
   ],
   "source": [
    "myColor[5]"
   ]
  },
  {
   "cell_type": "code",
   "execution_count": null,
   "metadata": {
    "id": "yA0zU3wBIlqv",
    "outputId": "4aba51d4-9707-4116-ed2d-c576ab5ef0e0"
   },
   "outputs": [
    {
     "name": "stdout",
     "output_type": "stream",
     "text": [
      "My favorite Color is red\n"
     ]
    }
   ],
   "source": [
    "print(\"My favorite Color is \" + myColor[0])\n",
    "\n",
    "#L2講到這裡"
   ]
  },
  {
   "cell_type": "markdown",
   "metadata": {
    "id": "ZgQ2lJaVIlqx"
   },
   "source": [
    "==============   \n",
    "\n",
    "### 2-2 使用sorted()將清單中的元素排序\n",
    "\n",
    "數字會由小排到大，英文則是用字首排a~z"
   ]
  },
  {
   "cell_type": "code",
   "execution_count": 16,
   "metadata": {
    "colab": {
     "base_uri": "https://localhost:8080/"
    },
    "executionInfo": {
     "elapsed": 312,
     "status": "ok",
     "timestamp": 1635244275741,
     "user": {
      "displayName": "曾吉弘",
      "photoUrl": "https://lh3.googleusercontent.com/a-/AOh14GhPBVfQL-fJErJNWwYssV_biT7vT2hSmwMvNUmN=s64",
      "userId": "06313166903000840460"
     },
     "user_tz": -480
    },
    "id": "F49U_dxHIlqy",
    "outputId": "428e1aeb-dcb5-44fe-84ce-0695cce86027"
   },
   "outputs": [
    {
     "name": "stdout",
     "output_type": "stream",
     "text": [
      "原始順序\n",
      "['red', 'blue', 'white', 'violet', 'black', 'yellow']\n",
      "新順序\n",
      "['black', 'blue', 'red', 'violet', 'white', 'yellow']\n",
      "[1, 56, 7, -3, 6, 78, 231]\n",
      "[-3, 1, 6, 7, 56, 78, 231]\n",
      "6\n",
      "231\n"
     ]
    }
   ],
   "source": [
    "#myColor = [\"red\",\"blue\",\"white\",\"violet\",\"black\",\"yellow\"] #維度1\n",
    "\n",
    "sorted_color = sorted(myColor)\n",
    "print(\"原始順序\")\n",
    "print(myColor)\n",
    "print(\"新順序\")\n",
    "print(sorted_color)\n",
    "\n",
    "#數值清單\n",
    "x = [1, 56 ,7, -3, 6 , 78, 231]\n",
    "x_ = sorted(x)\n",
    "print(x)\n",
    "print(x_)\n",
    "print(x[-3])\n",
    "print(x_[-1])\n",
    "# -1 代表 list 最後一個，list 長度未知時很方便"
   ]
  },
  {
   "cell_type": "markdown",
   "metadata": {
    "id": "HeM_YcHJeIns"
   },
   "source": [
    "快速初始化為純零 list 或隨機整數/浮點數 list"
   ]
  },
  {
   "cell_type": "code",
   "execution_count": null,
   "metadata": {
    "colab": {
     "base_uri": "https://localhost:8080/"
    },
    "executionInfo": {
     "elapsed": 317,
     "status": "ok",
     "timestamp": 1695792434690,
     "user": {
      "displayName": "曾吉弘",
      "userId": "06313166903000840460"
     },
     "user_tz": -480
    },
    "id": "ImM0r93_eInt",
    "outputId": "7dfac9c8-0701-4e23-b5a2-11d9ced371e8"
   },
   "outputs": [
    {
     "name": "stdout",
     "output_type": "stream",
     "text": [
      "[0 0 0 0 0 0 0 0 0 0]\n",
      "[0. 0. 0. 0. 0. 0.]\n",
      "[17, 2, 38, 34, 29, 27, 3, 28, 12, 34, 50, 19, 26, 44, 9, 29, 24, 44, 40, 14]\n"
     ]
    },
    {
     "name": "stderr",
     "output_type": "stream",
     "text": [
      "<ipython-input-9-1fd832707cf5>:4: DeprecationWarning: `np.int` is a deprecated alias for the builtin `int`. To silence this warning, use `int` by itself. Doing this will not modify any behavior and is safe. When replacing `np.int`, you may wish to use e.g. `np.int64` or `np.int32` to specify the precision. If you wish to review your current use, check the release note link for additional information.\n",
      "Deprecated in NumPy 1.20; for more details and guidance: https://numpy.org/devdocs/release/1.20.0-notes.html#deprecations\n",
      "  x = np.zeros(10, dtype = np.int) #產生長度10的清單，內容皆為0\n",
      "<ipython-input-9-1fd832707cf5>:7: DeprecationWarning: `np.float` is a deprecated alias for the builtin `float`. To silence this warning, use `float` by itself. Doing this will not modify any behavior and is safe. If you specifically wanted the numpy scalar type, use `np.float64` here.\n",
      "Deprecated in NumPy 1.20; for more details and guidance: https://numpy.org/devdocs/release/1.20.0-notes.html#deprecations\n",
      "  y = np.zeros(6, dtype = np.float)  #產生長度6的清單，內容皆為0.0\n"
     ]
    }
   ],
   "source": [
    "import numpy as np\n",
    "import random\n",
    "\n",
    "x = np.zeros(10, dtype = np.int) #產生長度10的清單，內容皆為0\n",
    "print(x)\n",
    "\n",
    "y = np.zeros(6, dtype = np.float)  #產生長度6的清單，內容皆為0.0\n",
    "print(y)\n",
    "\n",
    "z = [random.randint(0,50) for _ in range(20)]\n",
    "print(z)"
   ]
  },
  {
   "cell_type": "markdown",
   "metadata": {
    "id": "fkpdQHsCIlq0"
   },
   "source": [
    "==============   \n",
    "\n",
    "### 2-3 使用remove()將清單中不要的元素移除\n",
    "\n",
    "可以選擇**指定要移除的項目**，或是**指定要移除指定index的項目**\n"
   ]
  },
  {
   "cell_type": "code",
   "execution_count": 18,
   "metadata": {
    "colab": {
     "base_uri": "https://localhost:8080/",
     "height": 275
    },
    "executionInfo": {
     "elapsed": 278,
     "status": "error",
     "timestamp": 1695792645876,
     "user": {
      "displayName": "曾吉弘",
      "userId": "06313166903000840460"
     },
     "user_tz": -480
    },
    "id": "32XaECpXIlq1",
    "outputId": "308b8385-26de-4d43-f6bf-ee7e835b53f1"
   },
   "outputs": [
    {
     "name": "stdout",
     "output_type": "stream",
     "text": [
      "['red', 'blue', 'white', 'violet', 'black', 'yellow']\n",
      "['red', 'blue', 'violet', 'yellow']\n"
     ]
    }
   ],
   "source": [
    "myColor = [\"red\",\"blue\",\"white\",\"violet\",\"black\",\"yellow\"]\n",
    "print(myColor)\n",
    "\n",
    "#myColor.remove(5) #此處語法錯誤\n",
    "myColor.remove(\"white\")\n",
    "myColor.remove(myColor[3])\n",
    "print(myColor)"
   ]
  },
  {
   "cell_type": "code",
   "execution_count": 19,
   "metadata": {},
   "outputs": [
    {
     "name": "stdout",
     "output_type": "stream",
     "text": [
      "['red', 'blue', 'violet', 'KERKER']\n"
     ]
    }
   ],
   "source": [
    "myColor[3]=\"KERKER\"\n",
    "print(myColor)"
   ]
  },
  {
   "cell_type": "code",
   "execution_count": null,
   "metadata": {
    "colab": {
     "base_uri": "https://localhost:8080/"
    },
    "executionInfo": {
     "elapsed": 284,
     "status": "ok",
     "timestamp": 1695792528514,
     "user": {
      "displayName": "曾吉弘",
      "userId": "06313166903000840460"
     },
     "user_tz": -480
    },
    "id": "7oLwNaCPIlq4",
    "outputId": "02099fc9-9e3b-42d9-c447-9e1ec41eb0c6"
   },
   "outputs": [
    {
     "name": "stdout",
     "output_type": "stream",
     "text": [
      "['red', 'blue', 'violet', 'black', 'yellow']\n",
      "['red', 'blue', 'violet', 'yellow']\n",
      "4\n"
     ]
    }
   ],
   "source": [
    "print(myColor)\n",
    "myColor.remove(myColor[3])\n",
    "print(myColor)\n",
    "print(len(myColor))"
   ]
  },
  {
   "cell_type": "markdown",
   "metadata": {
    "id": "t3evEeG8Ilq6"
   },
   "source": [
    "==============   \n",
    "\n",
    "### 2-4 使用append()新增元素到清單尾端\n",
    "\n"
   ]
  },
  {
   "cell_type": "code",
   "execution_count": 20,
   "metadata": {
    "colab": {
     "base_uri": "https://localhost:8080/"
    },
    "executionInfo": {
     "elapsed": 469,
     "status": "ok",
     "timestamp": 1728441488565,
     "user": {
      "displayName": "曾吉弘",
      "userId": "06313166903000840460"
     },
     "user_tz": -480
    },
    "id": "CcoN7JtUIlq7",
    "outputId": "889aafd3-f845-4672-beab-f01c0b68216f"
   },
   "outputs": [
    {
     "name": "stdout",
     "output_type": "stream",
     "text": [
      "['red', 'blue', 'white', 'violet', 'black', 'yellow']\n",
      "['red', 'blue', 'white', 'violet', 'black', 'yellow', 'green']\n"
     ]
    }
   ],
   "source": [
    "myColor = [\"red\",\"blue\",\"white\",\"violet\",\"black\",\"yellow\"]\n",
    "print(myColor)\n",
    "myColor.append(\"green\")\n",
    "print(myColor)"
   ]
  },
  {
   "cell_type": "code",
   "execution_count": 21,
   "metadata": {
    "colab": {
     "base_uri": "https://localhost:8080/"
    },
    "executionInfo": {
     "elapsed": 272,
     "status": "ok",
     "timestamp": 1695792598652,
     "user": {
      "displayName": "曾吉弘",
      "userId": "06313166903000840460"
     },
     "user_tz": -480
    },
    "id": "F7lz3c0lNW7M",
    "outputId": "b0646c2b-3ba8-4df8-cef5-cf73e6eed285"
   },
   "outputs": [
    {
     "name": "stdout",
     "output_type": "stream",
     "text": [
      "['red', 'blue', 'white', 'violet', 'black', 'yellow', 'green']\n",
      "['apple', 'red', 'blue', 'white', 'violet', 'black', 'yellow', 'green']\n"
     ]
    }
   ],
   "source": [
    "print(myColor)\n",
    "myColor.insert(0,\"apple\") #於index 0 位置插入 \"apple\"\n",
    "print(myColor)"
   ]
  },
  {
   "cell_type": "code",
   "execution_count": 22,
   "metadata": {
    "colab": {
     "base_uri": "https://localhost:8080/"
    },
    "executionInfo": {
     "elapsed": 286,
     "status": "ok",
     "timestamp": 1695792608493,
     "user": {
      "displayName": "曾吉弘",
      "userId": "06313166903000840460"
     },
     "user_tz": -480
    },
    "id": "UMT0qTRSN6Of",
    "outputId": "28d09c3c-5142-4433-c80c-130c35bb129c"
   },
   "outputs": [
    {
     "name": "stdout",
     "output_type": "stream",
     "text": [
      "['apple', 'red', 'blue', 'white', 'violet', 'black', 'yellow', 'zebra', 'green']\n"
     ]
    }
   ],
   "source": [
    "myColor.insert(-1, \"zebra\")\n",
    "print(myColor)"
   ]
  },
  {
   "cell_type": "code",
   "execution_count": null,
   "metadata": {
    "colab": {
     "base_uri": "https://localhost:8080/"
    },
    "executionInfo": {
     "elapsed": 282,
     "status": "ok",
     "timestamp": 1695792625615,
     "user": {
      "displayName": "曾吉弘",
      "userId": "06313166903000840460"
     },
     "user_tz": -480
    },
    "id": "auOpdhrXN96z",
    "outputId": "821a4391-a46e-4b3f-88b8-fb8b9f33883c"
   },
   "outputs": [
    {
     "name": "stdout",
     "output_type": "stream",
     "text": [
      "['apple', 'red', 'blue', 'white', 'violet', 'black', 'yellow', 'zebra', 'green']\n"
     ]
    }
   ],
   "source": [
    "print(myColor)"
   ]
  },
  {
   "cell_type": "code",
   "execution_count": 23,
   "metadata": {
    "colab": {
     "base_uri": "https://localhost:8080/"
    },
    "executionInfo": {
     "elapsed": 264,
     "status": "ok",
     "timestamp": 1695792658203,
     "user": {
      "displayName": "曾吉弘",
      "userId": "06313166903000840460"
     },
     "user_tz": -480
    },
    "id": "-ZLse2RtT0XD",
    "outputId": "8510812a-edda-447e-8b86-dcb5c13d9cc8"
   },
   "outputs": [
    {
     "name": "stdout",
     "output_type": "stream",
     "text": [
      "NO\n"
     ]
    }
   ],
   "source": [
    "# 檢查清單中有無指定項目\n",
    "myColor = [\"red\",\"blue\",\"white\",\"violet\",\"black\",\"yellow\"]\n",
    "\n",
    "if \"haha\" in myColor:\n",
    "  print(\"YES\")\n",
    "else:\n",
    "  print(\"NO\")"
   ]
  },
  {
   "cell_type": "markdown",
   "metadata": {
    "id": "nQVnZjw-L8o_"
   },
   "source": [
    "補充說明：pop() 將會移除 list 中最後的項目並回傳它。"
   ]
  },
  {
   "cell_type": "code",
   "execution_count": null,
   "metadata": {
    "colab": {
     "base_uri": "https://localhost:8080/",
     "height": 55
    },
    "executionInfo": {
     "elapsed": 1095,
     "status": "ok",
     "timestamp": 1576306393366,
     "user": {
      "displayName": "曾吉弘",
      "photoUrl": "https://lh3.googleusercontent.com/a-/AAuE7mBFMudOvvUr9m20QjK1d4msAEfkGAgRo5nBGDLw=s64",
      "userId": "06313166903000840460"
     },
     "user_tz": -480
    },
    "id": "2HQOORy7LiuT",
    "outputId": "86ed75e1-8b2f-479c-97f7-9efdba2fde6b"
   },
   "outputs": [
    {
     "name": "stdout",
     "output_type": "stream",
     "text": [
      "['red', 'blue', 'white', 'violet', 'black', 'yellow']\n",
      "['red', 'blue', 'white', 'violet', 'black']\n"
     ]
    }
   ],
   "source": [
    "myColor = [\"red\",\"blue\",\"white\",\"violet\",\"black\",\"yellow\"]\n",
    "print(myColor)\n",
    "myColor.pop()\n",
    "print(myColor)"
   ]
  },
  {
   "cell_type": "markdown",
   "metadata": {
    "id": "FahBJx5WNNeU"
   },
   "source": [
    "### 補充說明：將 List 作為 Stack（堆疊）使用\n",
    "*   List 的操作方法使得它非常簡單可以用來實作 stack（堆疊）。Stack 代表規則為最後加入元素最先被取回（後進先出，\"last-in, first-out\"）的資料結構。\n",
    "*   請想像 stack 就是放在地板上由下往上堆，第一個就是碰到地板，最後一個在最高處。\n",
    "*   使用 append() 方法將一個項目放到堆疊的頂層。而使用 pop() 方法且不給定索引值去取得堆疊最上面的項目。舉例而言：\n",
    "\n"
   ]
  },
  {
   "cell_type": "code",
   "execution_count": null,
   "metadata": {
    "colab": {
     "base_uri": "https://localhost:8080/",
     "height": 36
    },
    "executionInfo": {
     "elapsed": 1089,
     "status": "ok",
     "timestamp": 1576307282730,
     "user": {
      "displayName": "曾吉弘",
      "photoUrl": "https://lh3.googleusercontent.com/a-/AAuE7mBFMudOvvUr9m20QjK1d4msAEfkGAgRo5nBGDLw=s64",
      "userId": "06313166903000840460"
     },
     "user_tz": -480
    },
    "id": "jdwDhlnWNNqJ",
    "outputId": "97993d8b-6713-47f1-e415-7e978ec87d35"
   },
   "outputs": [
    {
     "name": "stdout",
     "output_type": "stream",
     "text": [
      "[3, 4, 5, 6, 7]\n",
      "[3, 4, 5, 6]\n",
      "[3, 4]\n"
     ]
    }
   ],
   "source": [
    "stack = [3, 4, 5]\n",
    "stack.append(6)\n",
    "stack.append(7)\n",
    "print(stack)\n",
    "\n",
    "stack.pop()\n",
    "print(stack)\n",
    "\n",
    "stack.pop()\n",
    "stack.pop()\n",
    "print(stack)"
   ]
  },
  {
   "cell_type": "markdown",
   "metadata": {
    "id": "HHLU94VwNmK0"
   },
   "source": [
    "### 補充說明：將 List 作為 Queue（佇列）使用\n",
    "*   list 也可以當作 queue（佇列）使用，即最先加入元素最先被取回（先進先出，\"first-in, first-out\"）的資料結構。\n",
    "*   然而，list 在這種使用方式下效率較差。使用 append 和 pop 來加入和取出尾端的元素較快，而使用 insert 和 pop 來插入和取出頭端的元素較慢（因為其他元素都需要挪動一格）。\n",
    "*   如果要實作 queue，請使用 collections.deque ，其被設計成能快速的從頭尾兩端加入和取出。例如：\n",
    "\n"
   ]
  },
  {
   "cell_type": "code",
   "execution_count": null,
   "metadata": {
    "colab": {
     "base_uri": "https://localhost:8080/",
     "height": 55
    },
    "executionInfo": {
     "elapsed": 1290,
     "status": "ok",
     "timestamp": 1576307181899,
     "user": {
      "displayName": "曾吉弘",
      "photoUrl": "https://lh3.googleusercontent.com/a-/AAuE7mBFMudOvvUr9m20QjK1d4msAEfkGAgRo5nBGDLw=s64",
      "userId": "06313166903000840460"
     },
     "user_tz": -480
    },
    "id": "Ripi9L4vN--g",
    "outputId": "77beb856-5507-45d7-9a5f-0e8c9de3c72e"
   },
   "outputs": [
    {
     "name": "stdout",
     "output_type": "stream",
     "text": [
      "deque(['Eric', 'John', 'Michael', 'Terry', 'Graham'])\n"
     ]
    },
    {
     "data": {
      "text/plain": [
       "deque(['Michael', 'Terry', 'Graham'])"
      ]
     },
     "execution_count": 12,
     "metadata": {
      "tags": []
     },
     "output_type": "execute_result"
    }
   ],
   "source": [
    "from collections import deque\n",
    "queue = deque([\"Eric\", \"John\", \"Michael\"])\n",
    "queue.append(\"Terry\")           # Terry arrives\n",
    "queue.append(\"Graham\")          # Graham arrives\n",
    "print(queue)\n",
    "\n",
    "queue.popleft()                 # The first to arrive now leaves\n",
    "queue.popleft()                 # The second to arrive now leaves\n",
    "queue                           # Remaining queue in order of arrival"
   ]
  },
  {
   "cell_type": "markdown",
   "metadata": {
    "id": "x8JGnm2ZIlq9"
   },
   "source": [
    "==============\n",
    "\n",
    "## 字典(Dictionary)\n",
    "\n",
    "**Dictionary字典**的每一個元素都由**鍵 (key) 和值 (value)**構成，結構為**key: value**。不同的元素之間會以逗號分隔，並且以大括號{}圍住。\n",
    "\n",
    "相較於 list，dict 在資料的結構與可讀性上更為彈性，也是諸多網路傳輸的常用格式。\n",
    "\n",
    "撰寫格式如下：\n",
    "\n",
    "<pre>\n",
    "字典變數名稱 = {key1:value1,key2:value2,....}\n",
    "</pre>\n",
    "\n",
    "+ 試著建立一個英翻中的字典"
   ]
  },
  {
   "cell_type": "code",
   "execution_count": 24,
   "metadata": {
    "colab": {
     "base_uri": "https://localhost:8080/",
     "height": 36
    },
    "executionInfo": {
     "elapsed": 484,
     "status": "ok",
     "timestamp": 1695793460547,
     "user": {
      "displayName": "曾吉弘",
      "userId": "06313166903000840460"
     },
     "user_tz": -480
    },
    "id": "vpyRa_P0Ilq-",
    "outputId": "8294e3f8-173c-4c09-f876-a54a0d24b4a8"
   },
   "outputs": [
    {
     "data": {
      "text/plain": [
       "'星期五'"
      ]
     },
     "execution_count": 24,
     "metadata": {},
     "output_type": "execute_result"
    }
   ],
   "source": [
    "Chinese_dic={\"Monday\":\"星期一\",\n",
    "             \"Tuesday\":\"星期二\",\n",
    "             \"Wednesday\":\"星期三\",\n",
    "             \"Thursday\":\"星期四\",\n",
    "             \"Friday\":\"星期五\",\n",
    "             \"Saturday\":\"星期六\",\n",
    "             \"Sunday\":\"星期日\"\n",
    "            }\n",
    "Chinese_dic[\"Friday\"]"
   ]
  },
  {
   "cell_type": "markdown",
   "metadata": {
    "id": "rmQHLW83CFpK"
   },
   "source": [
    "字典在資料型態上的彈性更好"
   ]
  },
  {
   "cell_type": "code",
   "execution_count": 25,
   "metadata": {
    "colab": {
     "base_uri": "https://localhost:8080/"
    },
    "executionInfo": {
     "elapsed": 459,
     "status": "ok",
     "timestamp": 1728441692463,
     "user": {
      "displayName": "曾吉弘",
      "userId": "06313166903000840460"
     },
     "user_tz": -480
    },
    "id": "RRZcOxRKODxO",
    "outputId": "1e2a5e5d-0435-48ad-c3cf-920b0a8207fb"
   },
   "outputs": [
    {
     "data": {
      "text/plain": [
       "170"
      ]
     },
     "execution_count": 25,
     "metadata": {},
     "output_type": "execute_result"
    }
   ],
   "source": [
    "david = {\"身高\":170,\n",
    "         \"性別\":\"男\",\n",
    "         \"已婚\":True\n",
    "}\n",
    "\n",
    "david[\"身高\"]"
   ]
  },
  {
   "cell_type": "code",
   "execution_count": 27,
   "metadata": {},
   "outputs": [
    {
     "data": {
      "text/plain": [
       "dict_keys(['身高', '性別', '已婚'])"
      ]
     },
     "execution_count": 27,
     "metadata": {},
     "output_type": "execute_result"
    }
   ],
   "source": [
    "david.keys()"
   ]
  },
  {
   "cell_type": "code",
   "execution_count": 26,
   "metadata": {
    "colab": {
     "base_uri": "https://localhost:8080/"
    },
    "executionInfo": {
     "elapsed": 5,
     "status": "ok",
     "timestamp": 1728441724411,
     "user": {
      "displayName": "曾吉弘",
      "userId": "06313166903000840460"
     },
     "user_tz": -480
    },
    "id": "PAokBe74J0_I",
    "outputId": "987b7231-509d-4875-da96-fe36b15f541b"
   },
   "outputs": [
    {
     "data": {
      "text/plain": [
       "dict_values([170, '男', True])"
      ]
     },
     "execution_count": 26,
     "metadata": {},
     "output_type": "execute_result"
    }
   ],
   "source": [
    "david.values()"
   ]
  },
  {
   "cell_type": "markdown",
   "metadata": {
    "id": "ixvk1t_sIlrB"
   },
   "source": [
    "==============\n",
    "\n",
    "+ 試著用不同的key來查字典吧！"
   ]
  },
  {
   "cell_type": "code",
   "execution_count": 29,
   "metadata": {
    "colab": {
     "base_uri": "https://localhost:8080/"
    },
    "executionInfo": {
     "elapsed": 3,
     "status": "ok",
     "timestamp": 1695793707821,
     "user": {
      "displayName": "曾吉弘",
      "userId": "06313166903000840460"
     },
     "user_tz": -480
    },
    "id": "ESz-p8bXIlrD",
    "outputId": "c16620a7-20b5-4fcd-8794-065638befe81"
   },
   "outputs": [
    {
     "name": "stdout",
     "output_type": "stream",
     "text": [
      "星期五\n"
     ]
    }
   ],
   "source": [
    "print(Chinese_dic[\"Friday\"])"
   ]
  },
  {
   "cell_type": "code",
   "execution_count": 28,
   "metadata": {
    "id": "Kz8A2bfkIlrG"
   },
   "outputs": [],
   "source": [
    "Japanese_dic={\"Monday\":\"月曜日\",\n",
    "             \"Tuesday\":\"火曜日\",\n",
    "             \"Wednesday\":\"水曜日\",\n",
    "             \"Thursday\":\"木曜日\",\n",
    "             \"Friday\":\"金曜日\",\n",
    "             \"Saturday\":\"土曜日\",\n",
    "             \"Sunday\":\"日曜日\"\n",
    "            }"
   ]
  },
  {
   "cell_type": "markdown",
   "metadata": {
    "id": "5wW1TjOsIlrQ"
   },
   "source": [
    "==============  \n",
    "\n",
    "+ 同樣的key在不同字典中查到的結果(也就是value)不一樣唷！"
   ]
  },
  {
   "cell_type": "code",
   "execution_count": 30,
   "metadata": {
    "colab": {
     "base_uri": "https://localhost:8080/"
    },
    "executionInfo": {
     "elapsed": 275,
     "status": "ok",
     "timestamp": 1695793732775,
     "user": {
      "displayName": "曾吉弘",
      "userId": "06313166903000840460"
     },
     "user_tz": -480
    },
    "id": "D_0BdzPDIlrR",
    "outputId": "274162d5-7185-4a3c-d3bf-ee8f54f88c30"
   },
   "outputs": [
    {
     "name": "stdout",
     "output_type": "stream",
     "text": [
      "星期一\n",
      "月曜日\n"
     ]
    }
   ],
   "source": [
    "print(Chinese_dic[\"Monday\"])\n",
    "print(Japanese_dic[\"Monday\"])"
   ]
  },
  {
   "cell_type": "code",
   "execution_count": null,
   "metadata": {
    "colab": {
     "base_uri": "https://localhost:8080/"
    },
    "executionInfo": {
     "elapsed": 264,
     "status": "ok",
     "timestamp": 1695793797740,
     "user": {
      "displayName": "曾吉弘",
      "userId": "06313166903000840460"
     },
     "user_tz": -480
    },
    "id": "KskrOck5SYIi",
    "outputId": "6c349541-58a1-46dc-bc4d-f1d75e80ea18"
   },
   "outputs": [
    {
     "name": "stdout",
     "output_type": "stream",
     "text": [
      "dict_keys(['Monday', 'Tuesday', 'Wednesday', 'Thursday', 'Friday', 'Saturday', 'Sunday'])\n",
      "dict_values(['月曜日', '火曜日', '水曜日', '木曜日', '金曜日', '土曜日', '日曜日'])\n",
      "NO\n"
     ]
    }
   ],
   "source": [
    "print(Chinese_dic.keys())\n",
    "print(Japanese_dic.values())\n",
    "\n",
    "if \"HAHA\" in Chinese_dic.keys(): #values()\n",
    "  print(\"YES\")\n",
    "else:\n",
    "  print(\"NO\")"
   ]
  },
  {
   "cell_type": "markdown",
   "metadata": {
    "id": "ovaWqBv2Ilpc"
   },
   "source": [
    "## 建立互動式介面  \n",
    "\n",
    "==============\n"
   ]
  },
  {
   "cell_type": "markdown",
   "metadata": {
    "id": "JwzeNHFlIlpd"
   },
   "source": [
    "ipywidgets函式庫提供不同的互動式元件，讓使用者能在Jupyter Notebook/Jupyter Lab上輕鬆建立互動式介面。\n",
    "\n",
    "首先，先匯入函式庫："
   ]
  },
  {
   "cell_type": "code",
   "execution_count": 37,
   "metadata": {
    "id": "LCSHPRSrIlpe"
   },
   "outputs": [],
   "source": [
    "import ipywidgets as widgets\n",
    "from IPython.display import display, clear_output"
   ]
  },
  {
   "cell_type": "markdown",
   "metadata": {
    "id": "hJxvpXDZIlph"
   },
   "source": [
    "==============\n",
    "\n",
    "### 設計使用者輸入介面\n",
    "\n",
    "前兩堂課教大家使用**input()**來取得使用者輸入內容  \n",
    "\n",
    "下面範例中將使用**widgets.Text()**來建立使用者友善的輸入介面  \n",
    "\n",
    "撰寫格式如下，不同的設定之間會用**逗號**做分隔：  \n",
    "\n",
    "<pre>\n",
    "輸入文字元件的變數名稱 = widgets.Text(\n",
    "    value = 預設數值,\n",
    "    placeholder = 提示內容,\n",
    "    description = 輸入框前的文字,\n",
    "    disabled = 用True或False決定這個輸入文字框可不可以使用\n",
    ")\n",
    "</pre>\n",
    "\n",
    "+ 修改看看文字輸入元件的設定內容"
   ]
  },
  {
   "cell_type": "code",
   "execution_count": 33,
   "metadata": {},
   "outputs": [
    {
     "name": "stdout",
     "output_type": "stream",
     "text": [
      "Requirement already satisfied: ipywidgets in c:\\users\\user\\anaconda3\\lib\\site-packages (8.1.7)\n",
      "Requirement already satisfied: jupyterlab_widgets in c:\\users\\user\\anaconda3\\lib\\site-packages (3.0.15)\n",
      "Requirement already satisfied: widgetsnbextension in c:\\users\\user\\anaconda3\\lib\\site-packages (4.0.14)\n",
      "Requirement already satisfied: comm>=0.1.3 in c:\\users\\user\\anaconda3\\lib\\site-packages (from ipywidgets) (0.2.3)\n",
      "Requirement already satisfied: ipython>=6.1.0 in c:\\users\\user\\anaconda3\\lib\\site-packages (from ipywidgets) (8.20.0)\n",
      "Requirement already satisfied: traitlets>=4.3.1 in c:\\users\\user\\anaconda3\\lib\\site-packages (from ipywidgets) (5.7.1)\n",
      "Requirement already satisfied: decorator in c:\\users\\user\\anaconda3\\lib\\site-packages (from ipython>=6.1.0->ipywidgets) (5.1.1)\n",
      "Requirement already satisfied: jedi>=0.16 in c:\\users\\user\\anaconda3\\lib\\site-packages (from ipython>=6.1.0->ipywidgets) (0.18.1)\n",
      "Requirement already satisfied: matplotlib-inline in c:\\users\\user\\anaconda3\\lib\\site-packages (from ipython>=6.1.0->ipywidgets) (0.1.6)\n",
      "Requirement already satisfied: prompt-toolkit<3.1.0,>=3.0.41 in c:\\users\\user\\anaconda3\\lib\\site-packages (from ipython>=6.1.0->ipywidgets) (3.0.43)\n",
      "Requirement already satisfied: pygments>=2.4.0 in c:\\users\\user\\anaconda3\\lib\\site-packages (from ipython>=6.1.0->ipywidgets) (2.15.1)\n",
      "Requirement already satisfied: stack-data in c:\\users\\user\\anaconda3\\lib\\site-packages (from ipython>=6.1.0->ipywidgets) (0.2.0)\n",
      "Requirement already satisfied: colorama in c:\\users\\user\\anaconda3\\lib\\site-packages (from ipython>=6.1.0->ipywidgets) (0.4.6)\n",
      "Requirement already satisfied: parso<0.9.0,>=0.8.0 in c:\\users\\user\\anaconda3\\lib\\site-packages (from jedi>=0.16->ipython>=6.1.0->ipywidgets) (0.8.3)\n",
      "Requirement already satisfied: wcwidth in c:\\users\\user\\anaconda3\\lib\\site-packages (from prompt-toolkit<3.1.0,>=3.0.41->ipython>=6.1.0->ipywidgets) (0.2.5)\n",
      "Requirement already satisfied: executing in c:\\users\\user\\anaconda3\\lib\\site-packages (from stack-data->ipython>=6.1.0->ipywidgets) (0.8.3)\n",
      "Requirement already satisfied: asttokens in c:\\users\\user\\anaconda3\\lib\\site-packages (from stack-data->ipython>=6.1.0->ipywidgets) (2.0.5)\n",
      "Requirement already satisfied: pure-eval in c:\\users\\user\\anaconda3\\lib\\site-packages (from stack-data->ipython>=6.1.0->ipywidgets) (0.2.2)\n",
      "Requirement already satisfied: six in c:\\users\\user\\anaconda3\\lib\\site-packages (from asttokens->stack-data->ipython>=6.1.0->ipywidgets) (1.16.0)\n"
     ]
    }
   ],
   "source": [
    "# 在 Notebook 裡跑\n",
    "import sys\n",
    "!{sys.executable} -m pip install -U ipywidgets jupyterlab_widgets widgetsnbextension"
   ]
  },
  {
   "cell_type": "code",
   "execution_count": 34,
   "metadata": {},
   "outputs": [
    {
     "name": "stdout",
     "output_type": "stream",
     "text": [
      "ipywidgets: 8.1.7\n",
      "jupyterlab_widgets: 3.0.15\n",
      "widgetsnbextension: 4.0.14\n"
     ]
    }
   ],
   "source": [
    "import ipywidgets, jupyterlab_widgets, widgetsnbextension\n",
    "print(\"ipywidgets:\", ipywidgets.__version__)\n",
    "print(\"jupyterlab_widgets:\", jupyterlab_widgets.__version__)\n",
    "print(\"widgetsnbextension:\", widgetsnbextension.__version__)"
   ]
  },
  {
   "cell_type": "code",
   "execution_count": 35,
   "metadata": {},
   "outputs": [
    {
     "data": {
      "application/vnd.jupyter.widget-view+json": {
       "model_id": "31d1a993c76740e086e92f4abacd465d",
       "version_major": 2,
       "version_minor": 0
      },
      "text/plain": [
       "HTML(value='<b>ipywidgets OK</b>')"
      ]
     },
     "metadata": {},
     "output_type": "display_data"
    },
    {
     "data": {
      "application/vnd.jupyter.widget-view+json": {
       "model_id": "cacbf190c7714a20a3b8224ac6a11e44",
       "version_major": 2,
       "version_minor": 0
      },
      "text/plain": [
       "IntSlider(value=3, description='測試滑桿', max=10)"
      ]
     },
     "metadata": {},
     "output_type": "display_data"
    }
   ],
   "source": [
    "import ipywidgets as W\n",
    "from IPython.display import display\n",
    "\n",
    "display(W.HTML(\"<b>ipywidgets OK</b>\"))\n",
    "display(W.IntSlider(value=3, min=0, max=10, description=\"測試滑桿\"))"
   ]
  },
  {
   "cell_type": "code",
   "execution_count": 39,
   "metadata": {
    "colab": {
     "base_uri": "https://localhost:8080/",
     "height": 49,
     "referenced_widgets": [
      "52aa5c391f19432e868bc3f3463fe9e8",
      "c253852ae99241aa81f00db2a0996e60",
      "bd0d66ae103d4ef59c1e554f5ccf38dc"
     ]
    },
    "executionInfo": {
     "elapsed": 472,
     "status": "ok",
     "timestamp": 1728442059461,
     "user": {
      "displayName": "曾吉弘",
      "userId": "06313166903000840460"
     },
     "user_tz": -480
    },
    "id": "mBYukE1gIlpi",
    "outputId": "293a6b43-04e1-495c-d242-76b6f94e55c4"
   },
   "outputs": [
    {
     "data": {
      "application/vnd.jupyter.widget-view+json": {
       "model_id": "83452eb9ea1d4ed5bf9f425a5b7d4b2a",
       "version_major": 2,
       "version_minor": 0
      },
      "text/plain": [
       "Text(value='Lisa', description='使用者名稱:', placeholder='請輸入你的名字')"
      ]
     },
     "metadata": {},
     "output_type": "display_data"
    }
   ],
   "source": [
    "username = widgets.Text(\n",
    "    value='Lisa',\n",
    "    placeholder='請輸入你的名字',\n",
    "    description='使用者名稱:',\n",
    "    disabled=False\n",
    ")\n",
    "display(username)"
   ]
  },
  {
   "cell_type": "code",
   "execution_count": 40,
   "metadata": {
    "colab": {
     "base_uri": "https://localhost:8080/",
     "height": 36
    },
    "executionInfo": {
     "elapsed": 608,
     "status": "ok",
     "timestamp": 1728441859565,
     "user": {
      "displayName": "曾吉弘",
      "userId": "06313166903000840460"
     },
     "user_tz": -480
    },
    "id": "J4N3t7WWKWdJ",
    "outputId": "626f1c5f-5ff8-4b45-a42a-fdfb46c0d6ef"
   },
   "outputs": [
    {
     "data": {
      "text/plain": [
       "'Lisa'"
      ]
     },
     "execution_count": 40,
     "metadata": {},
     "output_type": "execute_result"
    }
   ],
   "source": [
    "username.value"
   ]
  },
  {
   "cell_type": "code",
   "execution_count": 41,
   "metadata": {
    "colab": {
     "base_uri": "https://localhost:8080/",
     "height": 121
    },
    "executionInfo": {
     "elapsed": 4,
     "status": "ok",
     "timestamp": 1728442061993,
     "user": {
      "displayName": "曾吉弘",
      "userId": "06313166903000840460"
     },
     "user_tz": -480
    },
    "id": "UMHJG-YdNBjM",
    "outputId": "e09276a4-6ff5-4ba9-c5af-d0fa21f4c831"
   },
   "outputs": [
    {
     "data": {
      "text/plain": [
       "ipywidgets.widgets.widget_string.Text"
      ]
     },
     "execution_count": 41,
     "metadata": {},
     "output_type": "execute_result"
    }
   ],
   "source": [
    "type(username)"
   ]
  },
  {
   "cell_type": "markdown",
   "metadata": {
    "id": "AaJMaSljIlpn"
   },
   "source": [
    "==============  \n",
    "\n",
    "使用者輸入的資訊當然要好好使用囉！  \n",
    "上一段程式中，使用者輸入的內容儲存在username.value中  \n",
    "+ 試試看修改上一段程式中的使用者名稱"
   ]
  },
  {
   "cell_type": "code",
   "execution_count": 42,
   "metadata": {
    "colab": {
     "base_uri": "https://localhost:8080/"
    },
    "executionInfo": {
     "elapsed": 467,
     "status": "ok",
     "timestamp": 1728442081661,
     "user": {
      "displayName": "曾吉弘",
      "userId": "06313166903000840460"
     },
     "user_tz": -480
    },
    "id": "2XiTt1TfIlpo",
    "outputId": "c5b65bee-da3c-439a-a607-5b3bf4789e29",
    "scrolled": true
   },
   "outputs": [
    {
     "name": "stdout",
     "output_type": "stream",
     "text": [
      "<class 'ipywidgets.widgets.widget_string.Text'>\n",
      "<class 'str'>\n",
      "歡迎 Lisa 來到淡江蛋捲廣場!\n"
     ]
    }
   ],
   "source": [
    "welcome_message = \"歡迎 {} 來到淡江蛋捲廣場!\".format(username.value)\n",
    "print(type(username))\n",
    "print(type(username.value))\n",
    "print(welcome_message)"
   ]
  },
  {
   "cell_type": "markdown",
   "metadata": {
    "id": "jHMiyUVeIlpr"
   },
   "source": [
    "==============\n",
    "\n",
    "### 建立選單\n",
    "\n",
    "接下來要講解如何製作選單，預設一系列選項讓使用者快速選擇。  \n",
    "\n",
    "ipywidgets提供很多選單的類型：\n",
    "\n",
    "+ 下拉式選單(Dropdown)\n",
    "+ 單選按鈕(RadioButton)\n",
    "+ 滾動式選單(Select)\n",
    "+ 核取方塊(Checkbox)\n",
    "\n",
    "撰寫格式如下，不同的設定之間會用逗號做分隔：\n",
    "<pre>\n",
    "輸入文字元件的變數名稱 = widgets.選單類型(\n",
    "    options = [選項一,選項二,選項三],\n",
    "    value = 預設選項,\n",
    "    description = 選單前的文字,\n",
    "    disabled = 用True或False決定這個選單可不可以使用\n",
    ")\n",
    "</pre>"
   ]
  },
  {
   "cell_type": "code",
   "execution_count": 43,
   "metadata": {
    "colab": {
     "base_uri": "https://localhost:8080/",
     "height": 49,
     "referenced_widgets": [
      "a80f381737e04a0f9f5adb7a8723835f",
      "197716470a0143f3889b49c320c6b747",
      "955885e9a7bd49c5a1ae7fa833ddd7e4"
     ]
    },
    "executionInfo": {
     "elapsed": 465,
     "status": "ok",
     "timestamp": 1728442362254,
     "user": {
      "displayName": "曾吉弘",
      "userId": "06313166903000840460"
     },
     "user_tz": -480
    },
    "id": "CaoAFG_mIlps",
    "outputId": "df2e475c-92aa-4335-a9af-a47ae7e6bc20"
   },
   "outputs": [
    {
     "data": {
      "application/vnd.jupyter.widget-view+json": {
       "model_id": "26195e066a014a14addf906e16504045",
       "version_major": 2,
       "version_minor": 0
      },
      "text/plain": [
       "Dropdown(description='早餐主食：', options=('無', '原味蛋餅', '起司薯餅蛋餅', '肉蛋蔬菜總匯土司', '鮪魚蛋餅', '蜂蜜法式土司', '墨西哥煎雞堡', '麥克雞', '…"
      ]
     },
     "metadata": {},
     "output_type": "display_data"
    }
   ],
   "source": [
    "# Dropdown\n",
    "\n",
    "breakfast = widgets.Dropdown(\n",
    "    options=['無','原味蛋餅', '起司薯餅蛋餅', '肉蛋蔬菜總匯土司',\n",
    "            '鮪魚蛋餅', '蜂蜜法式土司', '墨西哥煎雞堡' , '麥克雞', '滷肉飯'],\n",
    "    value='無',\n",
    "    description='早餐主食：',\n",
    "    disabled=False,\n",
    ")\n",
    "display(breakfast) #breakfast.value"
   ]
  },
  {
   "cell_type": "code",
   "execution_count": 44,
   "metadata": {
    "colab": {
     "base_uri": "https://localhost:8080/",
     "height": 36
    },
    "executionInfo": {
     "elapsed": 1091,
     "status": "ok",
     "timestamp": 1728442395291,
     "user": {
      "displayName": "曾吉弘",
      "userId": "06313166903000840460"
     },
     "user_tz": -480
    },
    "id": "9kq5Vpg1NytJ",
    "outputId": "25ed4640-8ca2-47b9-8000-12ba18f3bd5d"
   },
   "outputs": [
    {
     "data": {
      "text/plain": [
       "'麥克雞'"
      ]
     },
     "execution_count": 44,
     "metadata": {},
     "output_type": "execute_result"
    }
   ],
   "source": [
    "breakfast.value"
   ]
  },
  {
   "cell_type": "code",
   "execution_count": 45,
   "metadata": {
    "colab": {
     "base_uri": "https://localhost:8080/",
     "height": 209,
     "referenced_widgets": [
      "f39d47314e2342d9a21513e2fac0545b",
      "9ea27a1038d649b49b9cf04242b84e2d",
      "9f699830a8c94544a0702a2b0a1b3dab"
     ]
    },
    "executionInfo": {
     "elapsed": 497,
     "status": "ok",
     "timestamp": 1728442624422,
     "user": {
      "displayName": "曾吉弘",
      "userId": "06313166903000840460"
     },
     "user_tz": -480
    },
    "id": "jx4Bhmv6Ilpv",
    "outputId": "42912baf-3816-4f76-c1b2-bfcaed32d115"
   },
   "outputs": [
    {
     "data": {
      "application/vnd.jupyter.widget-view+json": {
       "model_id": "339f9d691b9a419f824d4932007468f4",
       "version_major": 2,
       "version_minor": 0
      },
      "text/plain": [
       "RadioButtons(description='飲料：', options=('紅茶', '招牌奶茶', '鮮奶茶', '無糖綠茶', '鮮奶', '豆漿', '美式咖啡', '拿鐵'), value='紅茶')"
      ]
     },
     "metadata": {},
     "output_type": "display_data"
    }
   ],
   "source": [
    "#RadioButtons 只能單選\n",
    "\n",
    "drink = widgets.RadioButtons(\n",
    "    options=['紅茶', '招牌奶茶', '鮮奶茶',\n",
    "            '無糖綠茶', '鮮奶', '豆漿', '美式咖啡','拿鐵'],\n",
    "    value='紅茶',\n",
    "    description='飲料：',\n",
    "    disabled=False,\n",
    ")\n",
    "display(drink)"
   ]
  },
  {
   "cell_type": "code",
   "execution_count": 46,
   "metadata": {
    "colab": {
     "base_uri": "https://localhost:8080/"
    },
    "executionInfo": {
     "elapsed": 479,
     "status": "ok",
     "timestamp": 1728442707712,
     "user": {
      "displayName": "曾吉弘",
      "userId": "06313166903000840460"
     },
     "user_tz": -480
    },
    "id": "r9gWOmpciNf1",
    "outputId": "ef86be46-f6f6-460f-b90e-a6022f16fec0"
   },
   "outputs": [
    {
     "name": "stdout",
     "output_type": "stream",
     "text": [
      "<class 'ipywidgets.widgets.widget_selection.RadioButtons'>\n",
      "您喜歡的飲料是鮮奶\n"
     ]
    }
   ],
   "source": [
    "print (type(drink))\n",
    "print (\"您喜歡的飲料是\" + str(drink.value))"
   ]
  },
  {
   "cell_type": "code",
   "execution_count": 47,
   "metadata": {
    "colab": {
     "base_uri": "https://localhost:8080/",
     "height": 117,
     "referenced_widgets": [
      "ad43600fd1974136808dc6633f4ff0cb",
      "5e7870ab6b74484da2b9f29fbe6f9957",
      "9340017cdf014b1b969b277bbc1568f5"
     ]
    },
    "executionInfo": {
     "elapsed": 483,
     "status": "ok",
     "timestamp": 1728442740962,
     "user": {
      "displayName": "曾吉弘",
      "userId": "06313166903000840460"
     },
     "user_tz": -480
    },
    "id": "wdp-xR85Ilpy",
    "outputId": "e737130f-a866-4c66-cc4c-756e6277bd07"
   },
   "outputs": [
    {
     "data": {
      "application/vnd.jupyter.widget-view+json": {
       "model_id": "c5bd95fe328e484da6eaffb338b534ef",
       "version_major": 2,
       "version_minor": 0
      },
      "text/plain": [
       "Select(description='小點心：', options=('無', '薯餅', '小熱狗', '雞塊', '地瓜球', '碎蛋沙拉', '薯餅起司塔'), value='無')"
      ]
     },
     "metadata": {},
     "output_type": "display_data"
    }
   ],
   "source": [
    "dessert = widgets.Select(\n",
    "    options=['無', '薯餅', '小熱狗', '雞塊', '地瓜球', '碎蛋沙拉', '薯餅起司塔'],\n",
    "    #value='薯餅',\n",
    "    description='小點心：',\n",
    "    disabled=False,\n",
    ")\n",
    "dessert_price = [0, 40, 30, 50, 45, 60, 80]\n",
    "display(dessert)\n"
   ]
  },
  {
   "cell_type": "code",
   "execution_count": 48,
   "metadata": {
    "colab": {
     "base_uri": "https://localhost:8080/"
    },
    "executionInfo": {
     "elapsed": 3,
     "status": "ok",
     "timestamp": 1728442774860,
     "user": {
      "displayName": "曾吉弘",
      "userId": "06313166903000840460"
     },
     "user_tz": -480
    },
    "id": "h7O4L82wQwod",
    "outputId": "5a271e1d-9fb7-4107-ccdd-c3dd649ee3be"
   },
   "outputs": [
    {
     "name": "stdout",
     "output_type": "stream",
     "text": [
      "<class 'ipywidgets.widgets.widget_selection.Select'>\n",
      "您喜歡吃碎蛋沙拉\n"
     ]
    }
   ],
   "source": [
    "print (type(dessert))\n",
    "print (\"您喜歡吃\"+ str(dessert.value))"
   ]
  },
  {
   "cell_type": "markdown",
   "metadata": {
    "id": "YS3vGI_OIlp0"
   },
   "source": [
    "==============  \n",
    "\n",
    "訂單結算如下："
   ]
  },
  {
   "cell_type": "code",
   "execution_count": 49,
   "metadata": {
    "colab": {
     "base_uri": "https://localhost:8080/"
    },
    "executionInfo": {
     "elapsed": 437,
     "status": "ok",
     "timestamp": 1728442777502,
     "user": {
      "displayName": "曾吉弘",
      "userId": "06313166903000840460"
     },
     "user_tz": -480
    },
    "id": "8iYSO7r9Ilp1",
    "outputId": "62dd93ea-4753-459b-df1d-9fc3ecab7140"
   },
   "outputs": [
    {
     "name": "stdout",
     "output_type": "stream",
     "text": [
      "你的訂單如下：主食為麥克雞，飲料為鮮奶，小點心是碎蛋沙拉! \n",
      "請耐心稍候片刻～\n"
     ]
    }
   ],
   "source": [
    "order = \"你的訂單如下：主食為{}，飲料為{}，小點心是{}! \".format(breakfast.value, drink.value, dessert.value)\n",
    "print(order)\n",
    "print(\"請耐心稍候片刻～\")"
   ]
  },
  {
   "cell_type": "markdown",
   "metadata": {
    "id": "mkEN2a9TIlp3"
   },
   "source": [
    "==============  \n",
    "\n",
    "**Checkbox**比較特別，用於決定單一項目是否被勾選（True/False）。\n",
    "可以建立多個Checkbox，創造出複選的效果。\n",
    "<pre>\n",
    "撰寫格式如下，不同的設定之間會用逗號做分隔：\n",
    "\n",
    "輸入文字元件的變數名稱 = widgets.Checkbox(\n",
    "    value = 預設布林值（True/False）,\n",
    "    description = 該選項文字,\n",
    "    disabled = 用True或False決定這個選項可不可以使用\n",
    ")\n",
    "</pre>\n",
    "\n",
    "+ 下方範例中，點完餐店員會問帥哥/美女要內用還是外帶，根據不同的回覆做出不同應對"
   ]
  },
  {
   "cell_type": "code",
   "execution_count": 50,
   "metadata": {
    "colab": {
     "base_uri": "https://localhost:8080/",
     "height": 49,
     "referenced_widgets": [
      "2b4c6f0f4efb4ab0ae37c45385ed1fa1",
      "200c9d2514e34ff486500ce4fd7e22ca",
      "e82568b668cf481baf04423cc588672f"
     ]
    },
    "executionInfo": {
     "elapsed": 481,
     "status": "ok",
     "timestamp": 1728442847744,
     "user": {
      "displayName": "曾吉弘",
      "userId": "06313166903000840460"
     },
     "user_tz": -480
    },
    "id": "ajIkT-ETIlp4",
    "outputId": "77c7dea2-ae2e-4107-92f5-7e8620ec9273"
   },
   "outputs": [
    {
     "data": {
      "application/vnd.jupyter.widget-view+json": {
       "model_id": "694f2b4299a54ee58265af9de376c5fa",
       "version_major": 2,
       "version_minor": 0
      },
      "text/plain": [
       "Checkbox(value=False, description='餐點內用')"
      ]
     },
     "metadata": {},
     "output_type": "display_data"
    }
   ],
   "source": [
    "yes_or_no = widgets.Checkbox(\n",
    "    #value = True,\n",
    "    description = \"餐點內用\",\n",
    "    disabled = False\n",
    ")\n",
    "display(yes_or_no)"
   ]
  },
  {
   "cell_type": "code",
   "execution_count": 51,
   "metadata": {
    "colab": {
     "base_uri": "https://localhost:8080/"
    },
    "executionInfo": {
     "elapsed": 2,
     "status": "ok",
     "timestamp": 1728442858914,
     "user": {
      "displayName": "曾吉弘",
      "userId": "06313166903000840460"
     },
     "user_tz": -480
    },
    "id": "nDcv5n14Ilp7",
    "outputId": "d5b161df-6793-4df0-c586-16eaf19284d0"
   },
   "outputs": [
    {
     "name": "stdout",
     "output_type": "stream",
     "text": [
      "False\n",
      "稍候片刻～\n"
     ]
    }
   ],
   "source": [
    "#True代表要內用, False則會進入else的情況，表示要外帶\n",
    "print (yes_or_no.value)\n",
    "if yes_or_no.value == True:\n",
    "    print(\"裡面坐唷！\")\n",
    "else:\n",
    "    print(\"稍候片刻～\")"
   ]
  },
  {
   "cell_type": "markdown",
   "metadata": {
    "id": "eU0g3-IhIlp_"
   },
   "source": [
    "==============\n",
    "### 排版設計\n",
    "\n",
    "為了版面美觀，可以使用**VBox**使元件**垂直(Vertical)**排列，或是使用**HBox**使元件**水平(Horizontal)**排列\n",
    "\n",
    "撰寫格式如下，元件之間用逗號分隔：\n",
    "<pre>\n",
    "垂直排列元件的變數名稱 = widgets.VBox([元件一,元件二,元件三])\n",
    "水平排列元件的變數名稱 = widgets.HBox([元件一,元件二,元件三])\n",
    "</pre>\n",
    "\n",
    "+ 試著將上面提到的食物選單合併起來吧！"
   ]
  },
  {
   "cell_type": "code",
   "execution_count": 52,
   "metadata": {
    "colab": {
     "base_uri": "https://localhost:8080/",
     "height": 223,
     "referenced_widgets": [
      "4317a1342af946e1a85c3ebe5f0ad3e6",
      "a80f381737e04a0f9f5adb7a8723835f",
      "f39d47314e2342d9a21513e2fac0545b",
      "ad43600fd1974136808dc6633f4ff0cb",
      "2b4c6f0f4efb4ab0ae37c45385ed1fa1",
      "7c57f59cbed74a8ba38c416425fd9977",
      "197716470a0143f3889b49c320c6b747",
      "955885e9a7bd49c5a1ae7fa833ddd7e4",
      "9ea27a1038d649b49b9cf04242b84e2d",
      "9f699830a8c94544a0702a2b0a1b3dab",
      "5e7870ab6b74484da2b9f29fbe6f9957",
      "9340017cdf014b1b969b277bbc1568f5",
      "200c9d2514e34ff486500ce4fd7e22ca",
      "e82568b668cf481baf04423cc588672f"
     ]
    },
    "executionInfo": {
     "elapsed": 780,
     "status": "ok",
     "timestamp": 1728443621791,
     "user": {
      "displayName": "曾吉弘",
      "userId": "06313166903000840460"
     },
     "user_tz": -480
    },
    "id": "Bp0nhzKYIlqB",
    "outputId": "2de64e4d-1100-4bf5-812a-adadc9afde85"
   },
   "outputs": [
    {
     "data": {
      "application/vnd.jupyter.widget-view+json": {
       "model_id": "0deec69ba8884b31835590bb9f50840c",
       "version_major": 2,
       "version_minor": 0
      },
      "text/plain": [
       "HBox(children=(Dropdown(description='早餐主食：', index=7, options=('無', '原味蛋餅', '起司薯餅蛋餅', '肉蛋蔬菜總匯土司', '鮪魚蛋餅', '蜂蜜法…"
      ]
     },
     "execution_count": 52,
     "metadata": {},
     "output_type": "execute_result"
    }
   ],
   "source": [
    "#橫的菜單!!!\n",
    "order_H = widgets.HBox([breakfast, drink, dessert, yes_or_no])\n",
    "order_H"
   ]
  },
  {
   "cell_type": "code",
   "execution_count": 53,
   "metadata": {
    "colab": {
     "base_uri": "https://localhost:8080/",
     "height": 341,
     "referenced_widgets": [
      "6086852763a541b1a4c9f39bafca6200",
      "a80f381737e04a0f9f5adb7a8723835f",
      "f39d47314e2342d9a21513e2fac0545b",
      "ad43600fd1974136808dc6633f4ff0cb",
      "c52d82797bc54662ab2deb039591f6a5",
      "197716470a0143f3889b49c320c6b747",
      "955885e9a7bd49c5a1ae7fa833ddd7e4",
      "9ea27a1038d649b49b9cf04242b84e2d",
      "9f699830a8c94544a0702a2b0a1b3dab",
      "5e7870ab6b74484da2b9f29fbe6f9957",
      "9340017cdf014b1b969b277bbc1568f5"
     ]
    },
    "executionInfo": {
     "elapsed": 488,
     "status": "ok",
     "timestamp": 1728443663633,
     "user": {
      "displayName": "曾吉弘",
      "userId": "06313166903000840460"
     },
     "user_tz": -480
    },
    "id": "YsJH5TdoIlqE",
    "outputId": "cda056d7-6d42-4f2b-ad2a-8a711b6426ca"
   },
   "outputs": [
    {
     "data": {
      "application/vnd.jupyter.widget-view+json": {
       "model_id": "71def0b0b7544e79aa4b7b484c5e08ce",
       "version_major": 2,
       "version_minor": 0
      },
      "text/plain": [
       "VBox(children=(Dropdown(description='早餐主食：', index=7, options=('無', '原味蛋餅', '起司薯餅蛋餅', '肉蛋蔬菜總匯土司', '鮪魚蛋餅', '蜂蜜法…"
      ]
     },
     "execution_count": 53,
     "metadata": {},
     "output_type": "execute_result"
    }
   ],
   "source": [
    "#直的菜單!!!\n",
    "order_V = widgets.VBox([breakfast, drink, dessert])\n",
    "order_V"
   ]
  },
  {
   "cell_type": "code",
   "execution_count": 54,
   "metadata": {
    "colab": {
     "base_uri": "https://localhost:8080/",
     "height": 209,
     "referenced_widgets": [
      "4f958528fb8444709cd8044a215eab77",
      "281c4e29c25a4ab08ad768f83124853d",
      "bf5e4aa7c7b94e0795dc50b775ec3d19",
      "03d00fee42ed422c8d14355c18b1b61a",
      "2a963ad9245b4db8864b0b78f85a7b15",
      "75846189cc8749d791376cbae07e9daa",
      "a20fbcdf96ad4c6a848b1151b31e9da8",
      "ea0e212ca74541eea42c3d3293084d4e",
      "aafcf535a96547a580d30c6e5350f001",
      "5130d4f456924efca49f5920e7269146",
      "17c8616ed1b241fa8c72799a497e07b0",
      "be3bc2e194be42f194a25b0523208e41",
      "df3429c5f2924a33a0eb05252b8418de",
      "ae6670fe25164c93b5b64cb9bae33a56",
      "a1dbe2c126034d95b4da137d743b65d5",
      "19a0e74b46214e9f8d53cacfb4b7ffca"
     ]
    },
    "executionInfo": {
     "elapsed": 293,
     "status": "ok",
     "timestamp": 1695796404841,
     "user": {
      "displayName": "曾吉弘",
      "userId": "06313166903000840460"
     },
     "user_tz": -480
    },
    "id": "t8RcT-1iVcPq",
    "outputId": "466caa9f-0290-4119-a7b6-3de0faba3323"
   },
   "outputs": [
    {
     "data": {
      "application/vnd.jupyter.widget-view+json": {
       "model_id": "f2a8b41ccc7540e6a745d3b2f8862f4f",
       "version_major": 2,
       "version_minor": 0
      },
      "text/plain": [
       "HBox(children=(Dropdown(description='早餐主食：', index=7, options=('無', '原味蛋餅', '起司薯餅蛋餅', '肉蛋蔬菜總匯土司', '鮪魚蛋餅', '蜂蜜法…"
      ]
     },
     "metadata": {},
     "output_type": "display_data"
    }
   ],
   "source": [
    "order_V = widgets.VBox([dessert, yes_or_no])\n",
    "order_H = widgets.HBox([breakfast, drink, order_V])\n",
    "display(order_H)"
   ]
  },
  {
   "cell_type": "markdown",
   "metadata": {
    "id": "xHH2U_kJIlqH"
   },
   "source": [
    "==============  \n",
    "\n",
    "+ 進階挑戰：試著設計一個遊戲的登入介面，需要使用者輸入暱稱跟選擇職業\n",
    "\n",
    "==============  \n",
    "\n",
    "除了使用VBox/HBox排版之外，也可以使用**Tab元件**來做**分頁**。\n",
    "\n",
    "撰寫格式如下，元件之間用逗號分隔：\n",
    "\n",
    "<pre>\n",
    "分頁元件的變數名稱 = widgets.Tab([分頁一元件,分頁二元件,分頁三元件])\n",
    "</pre>\n",
    "可以使用**set_title(分頁編號,分頁標題文字)**來讓主題一目了然！\n"
   ]
  },
  {
   "cell_type": "code",
   "execution_count": 55,
   "metadata": {
    "colab": {
     "base_uri": "https://localhost:8080/",
     "height": 111,
     "referenced_widgets": [
      "2e47f89b265148ada4d9223f10439aa1",
      "a80f381737e04a0f9f5adb7a8723835f",
      "f39d47314e2342d9a21513e2fac0545b",
      "ad43600fd1974136808dc6633f4ff0cb",
      "2b4c6f0f4efb4ab0ae37c45385ed1fa1",
      "e01e4d00122a4c1198f7778f7197a3fb",
      "197716470a0143f3889b49c320c6b747",
      "955885e9a7bd49c5a1ae7fa833ddd7e4",
      "9ea27a1038d649b49b9cf04242b84e2d",
      "9f699830a8c94544a0702a2b0a1b3dab",
      "5e7870ab6b74484da2b9f29fbe6f9957",
      "9340017cdf014b1b969b277bbc1568f5",
      "200c9d2514e34ff486500ce4fd7e22ca",
      "e82568b668cf481baf04423cc588672f"
     ]
    },
    "executionInfo": {
     "elapsed": 538,
     "status": "ok",
     "timestamp": 1728443745579,
     "user": {
      "displayName": "曾吉弘",
      "userId": "06313166903000840460"
     },
     "user_tz": -480
    },
    "id": "ZV9ANXAsIlqI",
    "outputId": "d7c493e4-fc51-451a-b863-3b456ac3e0db"
   },
   "outputs": [
    {
     "data": {
      "application/vnd.jupyter.widget-view+json": {
       "model_id": "7874fd22a5ff43f886f9e7ad2496523c",
       "version_major": 2,
       "version_minor": 0
      },
      "text/plain": [
       "Tab(children=(Dropdown(description='早餐主食：', index=7, options=('無', '原味蛋餅', '起司薯餅蛋餅', '肉蛋蔬菜總匯土司', '鮪魚蛋餅', '蜂蜜法式…"
      ]
     },
     "execution_count": 55,
     "metadata": {},
     "output_type": "execute_result"
    }
   ],
   "source": [
    "menu = widgets.Tab([breakfast,drink,dessert,yes_or_no])\n",
    "menu.set_title(0,\"主食\")\n",
    "menu.set_title(1,\"飲料\")\n",
    "menu.set_title(2,\"小點心\")\n",
    "menu.set_title(3,\"外帶?\")\n",
    "menu"
   ]
  },
  {
   "cell_type": "markdown",
   "metadata": {
    "id": "cZHDmXZhIlqM"
   },
   "source": [
    "==============  \n",
    "\n",
    "\n",
    "\n",
    "### 按鈕（Button）\n",
    "\n",
    "按鈕的撰寫格式如下：\n",
    "<pre>\n",
    "按鈕元件變數名稱 = widgets.Button(description = 按鈕上的文字)\n",
    "</pre>\n",
    "\n",
    "+ 下方範例為模仿駭客任務(Matrix)墨菲斯，順便複習怎麼定義函式\n",
    "\n",
    "可以使用widgets.Output()指定要print文字的內容  \n",
    "clear_ouput()可以清除Output元件上的文字"
   ]
  },
  {
   "cell_type": "code",
   "execution_count": 56,
   "metadata": {
    "colab": {
     "base_uri": "https://localhost:8080/",
     "height": 67,
     "referenced_widgets": [
      "b79e4bc685fc4b1f8ef597b97814542d",
      "9fcd316cc22542d389800f3bcba0c2b6",
      "f7f65d333f7940fb9929610cfa31ef39",
      "8ce513aebdf1407e907030cfb3fd8699",
      "79a9e4bb4fd143b39c9c732216d9f2d5",
      "3ba9c085045647008ddf7aa09d07a74b",
      "7bfc52a26c9947c7b08c49cf4b4746b1",
      "6125add6b46947c69aa3513f6666aacf",
      "8d8f3ef4c8624ced91f65dc2782d9190",
      "42562574b8084e819c1ad8ae83077e19"
     ]
    },
    "executionInfo": {
     "elapsed": 485,
     "status": "ok",
     "timestamp": 1728443961107,
     "user": {
      "displayName": "曾吉弘",
      "userId": "06313166903000840460"
     },
     "user_tz": -480
    },
    "id": "38x3RgS1IlqO",
    "outputId": "82a5fccd-6207-4dad-cfec-be94905d4158"
   },
   "outputs": [
    {
     "data": {
      "application/vnd.jupyter.widget-view+json": {
       "model_id": "fe3a4ccaa29c4edca5565366cc4472a1",
       "version_major": 2,
       "version_minor": 0
      },
      "text/plain": [
       "HBox(children=(Button(description='紅色藥丸', style=ButtonStyle()), Button(description='藍色藥丸', style=ButtonStyle()…"
      ]
     },
     "execution_count": 56,
     "metadata": {},
     "output_type": "execute_result"
    }
   ],
   "source": [
    "#建立元件\n",
    "button_red = widgets.Button(description=\"紅色藥丸\")\n",
    "button_blue = widgets.Button(description=\"藍色藥丸\")\n",
    "out = widgets.Output()\n",
    "\n",
    "#定義函式\n",
    "def on_button_red_clicked(_):\n",
    "      with out:\n",
    "          clear_output()\n",
    "          print(\"領你去看真相！\")\n",
    "def on_button_blue_clicked(_):\n",
    "      with out:\n",
    "          clear_output()\n",
    "          print(\"歡迎來到安逸的虛擬世界～\")\n",
    "\n",
    "#設定按鈕被按下後會觸發的函式\n",
    "button_red.on_click(on_button_red_clicked)\n",
    "button_blue.on_click(on_button_blue_clicked)\n",
    "\n",
    "#排版並輸出\n",
    "results = widgets.HBox([button_red,button_blue,out])\n",
    "results\n",
    "#display(button_red)\n",
    "#display(button_blue)\n",
    "#display(out)"
   ]
  },
  {
   "cell_type": "markdown",
   "metadata": {
    "id": "2z6M1BpVIlqR"
   },
   "source": [
    "==============  \n",
    "\n",
    "### 其他的好用小工具\n",
    "\n",
    "有興趣更深入研究ipywidgets的人可以參考官方教學文件：https://ipywidgets.readthedocs.io/en/latest/#ipywidgets\n",
    "\n",
    "**DatePicker - 日期選取**\n",
    "<pre>\n",
    "日期選擇元件變數名稱 = widgets.DatePicker(\n",
    "    description = 標題文字\n",
    ")\n",
    "</pre>\n",
    "+ 範例：慶生"
   ]
  },
  {
   "cell_type": "code",
   "execution_count": null,
   "metadata": {
    "colab": {
     "base_uri": "https://localhost:8080/",
     "height": 49,
     "referenced_widgets": [
      "95669673db8140a2b13afa58611e3052",
      "9010f5e3885d4aafa41253099ed9188f",
      "b601dce7c76f41638234e0d003f37267"
     ]
    },
    "executionInfo": {
     "elapsed": 310,
     "status": "ok",
     "timestamp": 1696396977600,
     "user": {
      "displayName": "曾吉弘",
      "userId": "06313166903000840460"
     },
     "user_tz": -480
    },
    "id": "JEVCIz7XIlqS",
    "outputId": "c7c645a7-7495-495e-fa8f-d251297bfc48"
   },
   "outputs": [
    {
     "data": {
      "application/vnd.jupyter.widget-view+json": {
       "model_id": "95669673db8140a2b13afa58611e3052",
       "version_major": 2,
       "version_minor": 0
      },
      "text/plain": [
       "DatePicker(value=None, description='你的生日')"
      ]
     },
     "metadata": {},
     "output_type": "display_data"
    }
   ],
   "source": [
    "birthday = widgets.DatePicker(\n",
    "    description=\"你的生日\"\n",
    ")\n",
    "display(birthday)"
   ]
  },
  {
   "cell_type": "code",
   "execution_count": null,
   "metadata": {
    "colab": {
     "base_uri": "https://localhost:8080/"
    },
    "executionInfo": {
     "elapsed": 310,
     "status": "ok",
     "timestamp": 1696397018498,
     "user": {
      "displayName": "曾吉弘",
      "userId": "06313166903000840460"
     },
     "user_tz": -480
    },
    "id": "JSDWF9lOIlqW",
    "outputId": "432faa95-6507-4de7-fb24-781c0d83fa9f"
   },
   "outputs": [
    {
     "name": "stdout",
     "output_type": "stream",
     "text": [
      "<class 'datetime.date'>\n",
      "<class 'int'>\n",
      "10\n",
      "<class 'int'>\n",
      "4\n",
      "我們 1982-10-04 去你家幫你慶生.\n"
     ]
    }
   ],
   "source": [
    "txt = \"我們 {} 去你家幫你慶生.\".format(birthday.value)\n",
    "print(type(birthday.value))\n",
    "\n",
    "print(type(birthday.value.month))\n",
    "print(birthday.value.month) #取出月份數字\n",
    "\n",
    "print(type(birthday.value.day))\n",
    "print(birthday.value.day)   #取出日期數字\n",
    "print(txt)\n",
    "\n"
   ]
  },
  {
   "cell_type": "markdown",
   "metadata": {
    "id": "OHr3V1lReInL"
   },
   "source": [
    "挑戰：請根據使用者的選擇結果來判斷星座"
   ]
  },
  {
   "cell_type": "code",
   "execution_count": null,
   "metadata": {
    "colab": {
     "base_uri": "https://localhost:8080/"
    },
    "executionInfo": {
     "elapsed": 295,
     "status": "ok",
     "timestamp": 1696397110799,
     "user": {
      "displayName": "曾吉弘",
      "userId": "06313166903000840460"
     },
     "user_tz": -480
    },
    "id": "NaxnoQbbiNgr",
    "outputId": "cc12e280-3bcc-4888-837f-1aaf2f8984f7"
   },
   "outputs": [
    {
     "name": "stdout",
     "output_type": "stream",
     "text": [
      "其他星座\n"
     ]
    }
   ],
   "source": [
    "lion = False\n",
    "if birthday.value.month == 7:    #判斷月份\n",
    "    if birthday.value.day >= 23: #判斷日期\n",
    "        lion = True\n",
    "elif birthday.value.month == 8:\n",
    "    if birthday.value.day <= 22:\n",
    "        lion = True\n",
    "else:\n",
    "    lion = False\n",
    "\n",
    "if lion:\n",
    "    print(\"我是獅子座\")\n",
    "else:\n",
    "    print(\"其他星座\")"
   ]
  },
  {
   "cell_type": "markdown",
   "metadata": {
    "id": "xonAmn_OIlqZ"
   },
   "source": [
    "==============  \n",
    "\n",
    "\n",
    "**IntSlider/FloatSlider - 數值滑桿**\n",
    "<pre>\n",
    "數值滑桿變數名稱 = widgets.widgets.IntSlider(\n",
    "    value=預設數值,\n",
    "    min=最小值,\n",
    "    max=最大值,\n",
    "    step=每一次增減的數值大小,\n",
    "    description=文字敘述,\n",
    "    disabled=決定是否啟用此元件,\n",
    "    continuous_update=決定是否持續更新,\n",
    "    orientation=用'horizontal'或是'vertical'決定滑桿是水平還是垂直方向\n",
    ")\n",
    "</pre>\n",
    "+ 範例：每月存錢目標"
   ]
  },
  {
   "cell_type": "code",
   "execution_count": null,
   "metadata": {
    "colab": {
     "base_uri": "https://localhost:8080/",
     "height": 49,
     "referenced_widgets": [
      "75967392e7d743de9cd008db06f45c06",
      "96c396fc17194cb093407aaa587e6526",
      "0ccdab94f4e546eebdb563d123a081fd"
     ]
    },
    "executionInfo": {
     "elapsed": 491,
     "status": "ok",
     "timestamp": 1728444047274,
     "user": {
      "displayName": "曾吉弘",
      "userId": "06313166903000840460"
     },
     "user_tz": -480
    },
    "id": "mRfS958RIlqa",
    "outputId": "d50dc1cb-794f-4e4a-cedb-99ec4d870fe8"
   },
   "outputs": [
    {
     "data": {
      "application/vnd.jupyter.widget-view+json": {
       "model_id": "75967392e7d743de9cd008db06f45c06",
       "version_major": 2,
       "version_minor": 0
      },
      "text/plain": [
       "FloatSlider(value=5.0, continuous_update=False, description='每月存錢目標：', max=10.0, step=0.5)"
      ]
     },
     "metadata": {},
     "output_type": "display_data"
    }
   ],
   "source": [
    "save_money = widgets.widgets.FloatSlider(\n",
    "    value=5,\n",
    "    min=0,\n",
    "    max=10,\n",
    "    step=0.5,\n",
    "    description=\"每月存錢目標：\",\n",
    "    disabled=False,\n",
    "    continuous_update=False,\n",
    "    orientation=\"horizontal\"\n",
    ")\n",
    "display(save_money)"
   ]
  },
  {
   "cell_type": "code",
   "execution_count": null,
   "metadata": {
    "colab": {
     "base_uri": "https://localhost:8080/"
    },
    "executionInfo": {
     "elapsed": 5,
     "status": "ok",
     "timestamp": 1696397228307,
     "user": {
      "displayName": "曾吉弘",
      "userId": "06313166903000840460"
     },
     "user_tz": -480
    },
    "id": "fnOSCpkrJ2yR",
    "outputId": "13ecdfc1-f30e-463c-de70-40011bfbc329"
   },
   "outputs": [
    {
     "data": {
      "text/plain": [
       "6.5"
      ]
     },
     "execution_count": 9,
     "metadata": {},
     "output_type": "execute_result"
    }
   ],
   "source": [
    "save_money.value"
   ]
  },
  {
   "cell_type": "markdown",
   "metadata": {
    "id": "Hzyy2-RbIlqf"
   },
   "source": [
    "==============  \n",
    "\n",
    "**Label - 標籤**\n",
    "<pre>\n",
    "標籤變數名稱 = widgets.Label(文字內容)\n",
    "</pre>\n",
    "+ 範例：修改上方程式"
   ]
  },
  {
   "cell_type": "code",
   "execution_count": null,
   "metadata": {
    "colab": {
     "base_uri": "https://localhost:8080/",
     "height": 81,
     "referenced_widgets": [
      "f1554179789b4fe88daee1f7c6f123f9",
      "6de544d5140b40d9a122a1f95beb8861",
      "851a640b27b04208a2fc558e924ff1bf",
      "c8cfdfcf2ad349e0aa3336dfb0e797c9",
      "b6d89f15b9c54688b573d6dbc2c21b21",
      "4135284cfbda43b083ec3273ed02c41a",
      "1bd085ccbcf14fe085c6c4b697533563",
      "9c9d9ae2f23349368956d32b0d371c8b"
     ]
    },
    "executionInfo": {
     "elapsed": 319,
     "status": "ok",
     "timestamp": 1696397625550,
     "user": {
      "displayName": "曾吉弘",
      "userId": "06313166903000840460"
     },
     "user_tz": -480
    },
    "id": "ulWPhWtXIlqh",
    "outputId": "1a698933-82ab-468c-a623-a9373a41b1e3"
   },
   "outputs": [
    {
     "data": {
      "application/vnd.jupyter.widget-view+json": {
       "model_id": "f1554179789b4fe88daee1f7c6f123f9",
       "version_major": 2,
       "version_minor": 0
      },
      "text/plain": [
       "VBox(children=(Label(value='每月存錢目標'), IntSlider(value=1000, continuous_update=False, max=10000, step=1000)))"
      ]
     },
     "metadata": {},
     "output_type": "display_data"
    }
   ],
   "source": [
    "save_money = widgets.widgets.IntSlider(\n",
    "    value=1000,\n",
    "    min=0,\n",
    "    max=10000,\n",
    "    step=1000,\n",
    "    disabled=False,\n",
    "    continuous_update=False,\n",
    "    orientation=\"horizontal\"\n",
    ")\n",
    "txt = widgets.Label(\"每月存錢目標\")\n",
    "results = widgets.VBox([txt,save_money])\n",
    "results"
   ]
  },
  {
   "cell_type": "markdown",
   "metadata": {
    "id": "ZpRafkt-oJgu"
   },
   "source": [
    "**Image - 圖片**\n",
    "<pre>\n",
    "file = open(\"檔案路徑\", \"rb\")\n",
    "image = file.read()\n",
    "widgets.Image(\n",
    "    value=image,\n",
    "    format='jpg', #副檔名格式\n",
    "    width=150,\n",
    "    height=150,\n",
    ")\n",
    "</pre>\n",
    "+ 範例："
   ]
  },
  {
   "cell_type": "code",
   "execution_count": null,
   "metadata": {
    "colab": {
     "base_uri": "https://localhost:8080/",
     "height": 325,
     "referenced_widgets": [
      "72ff8ab3cf8f413a943924f59be192a9",
      "188c943699f341cc82f2a969a4b70584"
     ]
    },
    "executionInfo": {
     "elapsed": 5122,
     "status": "ok",
     "timestamp": 1728444253823,
     "user": {
      "displayName": "曾吉弘",
      "userId": "06313166903000840460"
     },
     "user_tz": -480
    },
    "id": "pe7h_TNZoJEu",
    "outputId": "b0d0983a-751c-421d-eb33-ea9810ec96d6"
   },
   "outputs": [
    {
     "data": {
      "application/vnd.jupyter.widget-view+json": {
       "model_id": "72ff8ab3cf8f413a943924f59be192a9",
       "version_major": 2,
       "version_minor": 0
      },
      "text/plain": [
       "Image(value=b'\\xff\\xd8\\xff\\xe0\\x00\\x10JFIF\\x00\\x01\\x01\\x00\\x00\\x01\\x00\\x01\\x00\\x00\\xff\\xfe\\x00<CREATOR: gd-jpe…"
      ]
     },
     "metadata": {},
     "output_type": "display_data"
    }
   ],
   "source": [
    "file = open(\"bn.jpg\", \"rb\")\n",
    "#file = open(\"https://d3l76hx23vw40a.cloudfront.net/recipe/bk76-016b.jpg\", \"rb\")\n",
    "image = file.read()\n",
    "widgets.Image(\n",
    "    value=image,\n",
    "    format='jpg',\n",
    "    width=300,\n",
    "    height=300,\n",
    ")\n",
    "#display(image)"
   ]
  },
  {
   "cell_type": "markdown",
   "metadata": {
    "id": "T4Xl5j117YYJ"
   },
   "source": [
    "1016 由此開始\n",
    "\n",
    "##  讀寫檔案\n",
    "\n",
    "+ #### 檔案資料讀取/儲存\n",
    "    + 文字檔案\n",
    "    + 圖片\n",
    "    + 表格資料"
   ]
  },
  {
   "cell_type": "markdown",
   "metadata": {
    "id": "Tk0CDWuH7jOb"
   },
   "source": [
    "有了基礎Python知識後，我們要來練習檔案的**讀取及儲存**。  \n",
    "\n",
    "本篇會分成**文字檔案(.txt)、圖片(.jpg/.png)、表格資料(.csv)**三部分進行教學。"
   ]
  },
  {
   "cell_type": "markdown",
   "metadata": {
    "id": "2TdWmA8I7eRZ"
   },
   "source": [
    "==============\n",
    "\n",
    "### 讀寫文字檔 .txt\n",
    "\n",
    "先介紹開啟檔案的參數：  \n",
    "\n",
    "<pre>\n",
    "    r - 唯讀（read）  - 只能讀取檔案\n",
    "    w - 寫入（write） - 可以寫入檔案，會覆蓋原有內容\n",
    "    a - 附加（append）- 可以寫入檔案，不會覆蓋原有內容\n",
    "</pre>\n",
    "\n",
    "+ 試著修改寫入文件檔案的內容或是檔名"
   ]
  },
  {
   "cell_type": "code",
   "execution_count": 3,
   "metadata": {
    "executionInfo": {
     "elapsed": 2,
     "status": "ok",
     "timestamp": 1729045764596,
     "user": {
      "displayName": "曾吉弘",
      "userId": "06313166903000840460"
     },
     "user_tz": -480
    },
    "id": "4_8QMoFv7tA-"
   },
   "outputs": [],
   "source": [
    "#開啟檔案或是建立新檔案\n",
    "file = open(\"newfile.txt\",\"w\") #txt dat\n",
    "\n",
    "#寫入文字\n",
    "file.write(\"r - 唯讀（read）  - 只能讀取檔案\\n\")\n",
    "file.write(\"w - 寫入（write） - 可以寫入檔案，會覆蓋原有內容\\n\")\n",
    "file.write(\"a - 附加（append）- 可以寫入檔案，不會覆蓋原有內容\\n\")\n",
    "\n",
    "#關閉檔案\n",
    "file.close()"
   ]
  },
  {
   "cell_type": "markdown",
   "metadata": {
    "id": "jXXrFHuz7uBs"
   },
   "source": [
    "==============  \n",
    "\n",
    "前往與此.ipynb檔案同位置的資料夾底下就可以找到newfile.txt  \n",
    "點開檢查文字內容是否一樣呢？\n",
    "\n",
    "==============  \n",
    "\n",
    "接下來要試試看附加功能 - a\n",
    "\n",
    "\n",
    "+ 試試看改成使用w的寫入功能-可以寫入檔案，會覆蓋原有內容。"
   ]
  },
  {
   "cell_type": "code",
   "execution_count": 4,
   "metadata": {
    "executionInfo": {
     "elapsed": 335,
     "status": "ok",
     "timestamp": 1729045812715,
     "user": {
      "displayName": "曾吉弘",
      "userId": "06313166903000840460"
     },
     "user_tz": -480
    },
    "id": "Q6urXLFz8P7C"
   },
   "outputs": [],
   "source": [
    "#開啟檔案或是建立新檔案\n",
    "file = open(\"newfile.txt\",\"a\")\n",
    "\n",
    "#寫入文字\n",
    "file.write(\"淡江 python 我最行~\\n\")\n",
    "file.write(\"CAVEDU教育團隊\\n\")\n",
    "\n",
    "#關閉檔案\n",
    "file.close()"
   ]
  },
  {
   "cell_type": "markdown",
   "metadata": {
    "id": "VqZXF8998SpM"
   },
   "source": [
    "==============\n",
    "\n",
    "再打開一次newfile.txt這個檔案，看看內容有什麼不同。\n",
    "  \n",
    "==============\n",
    "\n",
    "### 補充：寫入檔案也有很多其他有趣的寫法\n",
    "\n",
    "#### 利用print"
   ]
  },
  {
   "cell_type": "code",
   "execution_count": 5,
   "metadata": {
    "executionInfo": {
     "elapsed": 312,
     "status": "ok",
     "timestamp": 1729045848748,
     "user": {
      "displayName": "曾吉弘",
      "userId": "06313166903000840460"
     },
     "user_tz": -480
    },
    "id": "smm60ToZ8XQD"
   },
   "outputs": [],
   "source": [
    "#開啟檔案或是建立新檔案\n",
    "file = open(\"newfile.txt\",\"a\")\n",
    "\n",
    "#用print寫入文字\n",
    "print(\"我這次用print寫！\\n\",file=file)\n",
    "\n",
    "#關閉檔案\n",
    "file.close()"
   ]
  },
  {
   "cell_type": "markdown",
   "metadata": {
    "id": "J8oE0CEc8Zif"
   },
   "source": [
    "#### 使用writelines一次寫入好多列"
   ]
  },
  {
   "cell_type": "code",
   "execution_count": 6,
   "metadata": {
    "executionInfo": {
     "elapsed": 312,
     "status": "ok",
     "timestamp": 1729045890777,
     "user": {
      "displayName": "曾吉弘",
      "userId": "06313166903000840460"
     },
     "user_tz": -480
    },
    "id": "GncLsycj8fJc"
   },
   "outputs": [],
   "source": [
    "#開啟檔案或是建立新檔案\n",
    "file = open(\"newfile.txt\",\"a\")\n",
    "\n",
    "#建立一個lines清單放所有想寫入的內容\n",
    "lines = [\"我這次\\n\",\"使用\\n\",\"writelines\\n\",\"寫！\\n\"]\n",
    "\n",
    "#使用writelines一次將lines清單中所有內容寫入\n",
    "file.writelines(lines)\n",
    "\n",
    "line = [\"我這次\",\"使用\",\"writelines\",\"寫而且不換行！\"]\n",
    "\n",
    "#使用writelines一次將lines清單中所有內容寫入\n",
    "file.writelines(line)\n",
    "\n",
    "#關閉檔案\n",
    "file.close()"
   ]
  },
  {
   "cell_type": "markdown",
   "metadata": {
    "id": "JM1BztuT8kV1"
   },
   "source": [
    "#### 優雅的使用with寫入檔案，不怕忘記用close()關閉檔案"
   ]
  },
  {
   "cell_type": "code",
   "execution_count": 7,
   "metadata": {
    "executionInfo": {
     "elapsed": 388,
     "status": "ok",
     "timestamp": 1729046074313,
     "user": {
      "displayName": "曾吉弘",
      "userId": "06313166903000840460"
     },
     "user_tz": -480
    },
    "id": "3v1eJjiH8od4"
   },
   "outputs": [],
   "source": [
    "#開啟檔案或是建立新檔案後寫入\n",
    "with open(\"newfile.txt\",\"a\") as file:\n",
    "    file.write(\"使用with寫入！\")"
   ]
  },
  {
   "cell_type": "markdown",
   "metadata": {
    "id": "cjpia0Du8pjB"
   },
   "source": [
    "使用迴圈持續寫入\n",
    "例如 \"現在時間：yyyy/mm/dd hh/mm/ss, 按鈕按下\"\n",
    "延伸：按下按鈕時，將現在的時間寫入指定 .txt 檔案中\n"
   ]
  },
  {
   "cell_type": "code",
   "execution_count": 8,
   "metadata": {
    "colab": {
     "base_uri": "https://localhost:8080/",
     "height": 582
    },
    "executionInfo": {
     "elapsed": 11067,
     "status": "error",
     "timestamp": 1729046177343,
     "user": {
      "displayName": "曾吉弘",
      "userId": "06313166903000840460"
     },
     "user_tz": -480
    },
    "id": "moiN0XR78ytq",
    "outputId": "f72d1742-785e-445f-b813-668894f50f47"
   },
   "outputs": [
    {
     "name": "stdout",
     "output_type": "stream",
     "text": [
      "寫入成功\n",
      "寫入成功\n",
      "寫入成功\n",
      "寫入成功\n",
      "寫入成功\n",
      "寫入成功\n",
      "寫入成功\n",
      "寫入成功\n",
      "寫入成功\n",
      "寫入成功\n",
      "寫入成功\n",
      "寫入成功\n",
      "寫入成功\n",
      "寫入成功\n",
      "寫入成功\n",
      "寫入成功\n",
      "寫入成功\n",
      "寫入成功\n",
      "寫入成功\n",
      "寫入成功\n",
      "寫入成功\n"
     ]
    },
    {
     "ename": "KeyboardInterrupt",
     "evalue": "",
     "output_type": "error",
     "traceback": [
      "\u001b[0;31m---------------------------------------------------------------------------\u001b[0m",
      "\u001b[0;31mKeyboardInterrupt\u001b[0m                         Traceback (most recent call last)",
      "\u001b[0;32m<ipython-input-8-254ca8f68a0f>\u001b[0m in \u001b[0;36m<cell line: 3>\u001b[0;34m()\u001b[0m\n\u001b[1;32m      4\u001b[0m     \u001b[0;32mwith\u001b[0m \u001b[0mopen\u001b[0m\u001b[0;34m(\u001b[0m\u001b[0;34m\"test.txt\"\u001b[0m\u001b[0;34m,\u001b[0m\u001b[0;34m\"a\"\u001b[0m\u001b[0;34m)\u001b[0m \u001b[0;32mas\u001b[0m \u001b[0mfile\u001b[0m\u001b[0;34m:\u001b[0m\u001b[0;34m\u001b[0m\u001b[0;34m\u001b[0m\u001b[0m\n\u001b[1;32m      5\u001b[0m         \u001b[0mfile\u001b[0m\u001b[0;34m.\u001b[0m\u001b[0mwrite\u001b[0m\u001b[0;34m(\u001b[0m\u001b[0;34m\"寫入時間:\"\u001b[0m \u001b[0;34m+\u001b[0m \u001b[0mstr\u001b[0m\u001b[0;34m(\u001b[0m\u001b[0mdatetime\u001b[0m\u001b[0;34m.\u001b[0m\u001b[0mdatetime\u001b[0m\u001b[0;34m.\u001b[0m\u001b[0mnow\u001b[0m\u001b[0;34m(\u001b[0m\u001b[0;34m)\u001b[0m\u001b[0;34m)\u001b[0m \u001b[0;34m+\u001b[0m \u001b[0;34m\"\\n\"\u001b[0m\u001b[0;34m)\u001b[0m\u001b[0;34m\u001b[0m\u001b[0;34m\u001b[0m\u001b[0m\n\u001b[0;32m----> 6\u001b[0;31m         \u001b[0mtime\u001b[0m\u001b[0;34m.\u001b[0m\u001b[0msleep\u001b[0m\u001b[0;34m(\u001b[0m\u001b[0;36m0.5\u001b[0m\u001b[0;34m)\u001b[0m\u001b[0;34m\u001b[0m\u001b[0;34m\u001b[0m\u001b[0m\n\u001b[0m\u001b[1;32m      7\u001b[0m         \u001b[0mprint\u001b[0m\u001b[0;34m(\u001b[0m\u001b[0;34m\"寫入成功\"\u001b[0m\u001b[0;34m)\u001b[0m\u001b[0;34m\u001b[0m\u001b[0;34m\u001b[0m\u001b[0m\n",
      "\u001b[0;31mKeyboardInterrupt\u001b[0m: "
     ]
    }
   ],
   "source": [
    "import datetime, time\n",
    "\n",
    "while True:\n",
    "    with open(\"test.txt\",\"a\") as file:\n",
    "        file.write(\"寫入時間:\" + str(datetime.datetime.now()) + \"\\n\")\n",
    "        time.sleep(0.5)\n",
    "        print(\"寫入成功\")"
   ]
  },
  {
   "cell_type": "markdown",
   "metadata": {
    "id": "nPkz3YQU82Jl"
   },
   "source": [
    "==============\n",
    "\n",
    "### 讀取文字檔案\n",
    "\n",
    "使用讀取檔案功能 - r，還有read()來協助讀取文字檔案。"
   ]
  },
  {
   "cell_type": "code",
   "execution_count": 9,
   "metadata": {
    "colab": {
     "base_uri": "https://localhost:8080/"
    },
    "executionInfo": {
     "elapsed": 311,
     "status": "ok",
     "timestamp": 1729046369834,
     "user": {
      "displayName": "曾吉弘",
      "userId": "06313166903000840460"
     },
     "user_tz": -480
    },
    "id": "JO8aDOlb83YC",
    "outputId": "d8262079-05a2-40c1-d395-b6c7aa35d303"
   },
   "outputs": [
    {
     "name": "stdout",
     "output_type": "stream",
     "text": [
      "r - 唯讀（read）  - 只能讀取檔案\n",
      "w - 寫入（write） - 可以寫入檔案，會覆蓋原有內容\n",
      "a - 附加（append）- 可以寫入檔案，不會覆蓋原有內容\n",
      "淡江 python 我最行~\n",
      "CAVEDU教育團隊\n",
      "我這次用print寫！\n",
      "\n",
      "我這次\n",
      "使用\n",
      "writelines\n",
      "寫！\n",
      "我這次使用writelines寫而且不換行！使用with寫入！\n"
     ]
    }
   ],
   "source": [
    "#用唯讀模式開啟檔案\n",
    "file = open(\"newfile.txt\", \"r\")\n",
    "\n",
    "#印出讀取的文字檔案內容\n",
    "print(file.read())\n",
    "\n",
    "#關閉檔案\n",
    "file.close()"
   ]
  },
  {
   "cell_type": "markdown",
   "metadata": {
    "id": "dFjwT1yW89A2"
   },
   "source": [
    "==============\n",
    "\n",
    "在read()括號之間加數字代表你要讀取文字檔案中的**前幾個字元**"
   ]
  },
  {
   "cell_type": "code",
   "execution_count": 10,
   "metadata": {
    "colab": {
     "base_uri": "https://localhost:8080/"
    },
    "executionInfo": {
     "elapsed": 341,
     "status": "ok",
     "timestamp": 1729046387566,
     "user": {
      "displayName": "曾吉弘",
      "userId": "06313166903000840460"
     },
     "user_tz": -480
    },
    "id": "g1nlyoIN8-As",
    "outputId": "ea6961f4-ed5d-452b-8f32-8de2bdd58134"
   },
   "outputs": [
    {
     "name": "stdout",
     "output_type": "stream",
     "text": [
      "r - 唯讀（rea\n"
     ]
    }
   ],
   "source": [
    "#用唯讀模式開啟檔案\n",
    "file = open(\"newfile.txt\", \"r\")\n",
    "\n",
    "#讀前5個字元\n",
    "print(file.read(10))\n",
    "\n",
    "#關閉檔案\n",
    "file.close()"
   ]
  },
  {
   "cell_type": "markdown",
   "metadata": {
    "id": "9Jm3WVGB9C91"
   },
   "source": [
    "==============  \n",
    "\n",
    "readline()可以讀取**文字檔案第一列**"
   ]
  },
  {
   "cell_type": "code",
   "execution_count": 13,
   "metadata": {
    "colab": {
     "base_uri": "https://localhost:8080/"
    },
    "executionInfo": {
     "elapsed": 312,
     "status": "ok",
     "timestamp": 1729046425297,
     "user": {
      "displayName": "曾吉弘",
      "userId": "06313166903000840460"
     },
     "user_tz": -480
    },
    "id": "piY00RF59ER9",
    "outputId": "d58a2880-a1b1-45f3-d83c-6bed52fc702d"
   },
   "outputs": [
    {
     "name": "stdout",
     "output_type": "stream",
     "text": [
      "r - 唯讀（read）  - 只能讀取檔案\n",
      "\n"
     ]
    }
   ],
   "source": [
    "#用唯讀模式開啟檔案\n",
    "file = open(\"newfile.txt\", \"r\")\n",
    "\n",
    "#讀取文字檔案第一列\n",
    "print(file.readline())\n",
    "\n",
    "#關閉檔案\n",
    "file.close()"
   ]
  },
  {
   "cell_type": "markdown",
   "metadata": {
    "id": "8N6TnPe19Hbe"
   },
   "source": [
    "==============  \n",
    "\n",
    "readlines()可以獲得文字檔案**以行為單位的清單**"
   ]
  },
  {
   "cell_type": "code",
   "execution_count": 14,
   "metadata": {
    "colab": {
     "base_uri": "https://localhost:8080/"
    },
    "executionInfo": {
     "elapsed": 332,
     "status": "ok",
     "timestamp": 1729046441923,
     "user": {
      "displayName": "曾吉弘",
      "userId": "06313166903000840460"
     },
     "user_tz": -480
    },
    "id": "t3UzHltl9Kok",
    "outputId": "cbe9e485-fc0b-4360-ab7b-403af23a23a9"
   },
   "outputs": [
    {
     "name": "stdout",
     "output_type": "stream",
     "text": [
      "['r - 唯讀（read）  - 只能讀取檔案\\n', 'w - 寫入（write） - 可以寫入檔案，會覆蓋原有內容\\n', 'a - 附加（append）- 可以寫入檔案，不會覆蓋原有內容\\n', '淡江 python 我最行~\\n', 'CAVEDU教育團隊\\n', '我這次用print寫！\\n', '\\n', '我這次\\n', '使用\\n', 'writelines\\n', '寫！\\n', '我這次使用writelines寫而且不換行！使用with寫入！']\n"
     ]
    }
   ],
   "source": [
    "#用唯讀模式開啟檔案\n",
    "file = open(\"newfile.txt\", \"r\")\n",
    "\n",
    "#獲得文字檔案以列為單位的清單\n",
    "print(file.readlines())\n",
    "\n",
    "#關閉檔案\n",
    "file.close()"
   ]
  },
  {
   "cell_type": "markdown",
   "metadata": {
    "id": "bhndliLl9T2z"
   },
   "source": [
    "==============  \n",
    "### 搭配 for 迴圈讀取文字內容\n",
    "\n",
    "*   當一個文字檔案有很**多列(row)**，且需要**按順序處理每一列**時，可以使用**for迴圈**來協助檔案的讀取！\n",
    "*   後續不論是 .json / .csv/ .xml / .html 都是一樣的作法，差別在於檔案格式不同\n",
    "\n",
    "\n"
   ]
  },
  {
   "cell_type": "code",
   "execution_count": 15,
   "metadata": {
    "colab": {
     "base_uri": "https://localhost:8080/"
    },
    "executionInfo": {
     "elapsed": 327,
     "status": "ok",
     "timestamp": 1729046506758,
     "user": {
      "displayName": "曾吉弘",
      "userId": "06313166903000840460"
     },
     "user_tz": -480
    },
    "id": "ACUFYsjz9Zxm",
    "outputId": "778db6c4-b1b2-4168-abfe-e6f768b7f10c"
   },
   "outputs": [
    {
     "name": "stdout",
     "output_type": "stream",
     "text": [
      "第1列：r - 唯讀（read）  - 只能讀取檔案\n",
      "\n",
      "第2列：w - 寫入（write） - 可以寫入檔案，會覆蓋原有內容\n",
      "\n",
      "第3列：a - 附加（append）- 可以寫入檔案，不會覆蓋原有內容\n",
      "\n",
      "第4列：淡江 python 我最行~\n",
      "\n",
      "第5列：CAVEDU教育團隊\n",
      "\n",
      "第6列：我這次用print寫！\n",
      "\n",
      "第7列：\n",
      "\n",
      "第8列：我這次\n",
      "\n",
      "第9列：使用\n",
      "\n",
      "第10列：writelines\n",
      "\n",
      "第11列：寫！\n",
      "\n",
      "第12列：我這次使用writelines寫而且不換行！使用with寫入！\n"
     ]
    }
   ],
   "source": [
    "#用唯讀模式開啟檔案\n",
    "file = open(\"newfile.txt\", \"r\")\n",
    "\n",
    "#計算行數用的變數\n",
    "i = 1\n",
    "\n",
    "#使用for迴圈按順序處理每一列\n",
    "for line in file:\n",
    "    print(\"第\"+str(i)+\"列：\"+ line)\n",
    "    i+=1  #列數變數+1\n",
    "\n",
    "#關閉檔案\n",
    "file.close()"
   ]
  },
  {
   "cell_type": "markdown",
   "metadata": {
    "id": "E63mTcoceIpD"
   },
   "source": [
    "補充：文字 list 一口氣轉"
   ]
  },
  {
   "cell_type": "code",
   "execution_count": null,
   "metadata": {
    "id": "Zfc9jTy2eIpD",
    "outputId": "343d86fc-ef14-4608-cce3-353e464efeb1"
   },
   "outputs": [
    {
     "name": "stdout",
     "output_type": "stream",
     "text": [
      "[1, 2, 3]\n",
      "6\n"
     ]
    }
   ],
   "source": [
    "result = ['1', '2', '3']\n",
    "x = list(map(int, result))\n",
    "print (x)\n",
    "print (sum(x))"
   ]
  },
  {
   "cell_type": "markdown",
   "metadata": {
    "id": "6y6g_P5Dwyfb"
   },
   "source": [
    "## 補充：文字 format\n",
    "\n",
    "在 Python3 以後，開始引進新串格式化，也就是使用 format() 函式來讓字串格式化，其功能和舊式格式化相差無幾，但主要是捨去 % 讓字串格式化使用上可以更加正常、規律，可讀性也相對提升。"
   ]
  },
  {
   "cell_type": "code",
   "execution_count": null,
   "metadata": {
    "colab": {
     "base_uri": "https://localhost:8080/",
     "height": 36
    },
    "executionInfo": {
     "elapsed": 864,
     "status": "ok",
     "timestamp": 1583899482994,
     "user": {
      "displayName": "曾吉弘",
      "photoUrl": "",
      "userId": "05182442915746015943"
     },
     "user_tz": -480
    },
    "id": "lOfX6QYoeIpF",
    "outputId": "4a9c495a-ec99-4195-dba4-5737696e769f"
   },
   "outputs": [
    {
     "name": "stdout",
     "output_type": "stream",
     "text": [
      "hello world\n"
     ]
    }
   ],
   "source": [
    "text = 'world'\n",
    "print('hello {}'.format(text))\n",
    "# hello world"
   ]
  },
  {
   "cell_type": "code",
   "execution_count": null,
   "metadata": {
    "id": "BZjirm6dxL9k"
   },
   "outputs": [],
   "source": [
    "#也可以使用名稱來指定變數變換順序：\n",
    "\n",
    "name = 'Jack'\n",
    "text = 'world'\n",
    "\n",
    "print('hello {name}, hello {text}'.format(name=name, text=text))\n",
    "# hello Jack, hello world"
   ]
  },
  {
   "cell_type": "code",
   "execution_count": null,
   "metadata": {
    "id": "8htm7JeFxNh0"
   },
   "outputs": [],
   "source": [
    "#若是希望把內容轉成十六進位的話可以使用 format spec 在 {} 新增 :x：\n",
    "\n",
    "print('{:x}'.format(23))\n",
    "# 17"
   ]
  },
  {
   "cell_type": "markdown",
   "metadata": {
    "id": "b75_HnfpxSHh"
   },
   "source": [
    "###  字串插值（Formatted String Literal）\n",
    "雖然已經有了新式字串格式化，然而在 Python 3.6 又新增了格式字串字面值（Formatted String Literal）此一作法可以把 Python 運算式嵌入在字串常數中。來看一下一般的使用方式："
   ]
  },
  {
   "cell_type": "code",
   "execution_count": null,
   "metadata": {
    "colab": {
     "base_uri": "https://localhost:8080/",
     "height": 36
    },
    "executionInfo": {
     "elapsed": 560,
     "status": "ok",
     "timestamp": 1583899611093,
     "user": {
      "displayName": "曾吉弘",
      "photoUrl": "",
      "userId": "05182442915746015943"
     },
     "user_tz": -480
    },
    "id": "Fk5dDxaMxRk6",
    "outputId": "87d3a0b8-9447-4801-e08f-f117aa4f6ffd"
   },
   "outputs": [
    {
     "name": "stdout",
     "output_type": "stream",
     "text": [
      "Hello, world\n"
     ]
    }
   ],
   "source": [
    "text = 'world'\n",
    "print(f'Hello, {text}')"
   ]
  },
  {
   "cell_type": "code",
   "execution_count": null,
   "metadata": {
    "colab": {
     "base_uri": "https://localhost:8080/",
     "height": 36
    },
    "executionInfo": {
     "elapsed": 1272,
     "status": "ok",
     "timestamp": 1586165514507,
     "user": {
      "displayName": "曾吉弘",
      "photoUrl": "https://lh3.googleusercontent.com/a-/AOh14GhPBVfQL-fJErJNWwYssV_biT7vT2hSmwMvNUmN=s64",
      "userId": "06313166903000840460"
     },
     "user_tz": -480
    },
    "id": "3rkKF6jgxg0Q",
    "outputId": "44669856-00d8-4892-a7e2-fc4e9e1530e6"
   },
   "outputs": [
    {
     "name": "stdout",
     "output_type": "stream",
     "text": [
      "x + y = 37\n"
     ]
    }
   ],
   "source": [
    "#新的字串插值語法特點在於可以嵌入任何 Python 的運算式，舉例來說，我們想要呈現整數相加：\n",
    "\n",
    "x = 10\n",
    "y = 27\n",
    "\n",
    "print(f'x + y = {x + y}')\n",
    "# 37"
   ]
  },
  {
   "cell_type": "code",
   "execution_count": null,
   "metadata": {
    "id": "feqqDRdvxppO"
   },
   "outputs": [],
   "source": [
    "#同樣，若是希望把內容轉成十六進位的話可以使用 format spec 在 {} 新增 :x：\n",
    "\n",
    "print('{:x}'.format(23))\n",
    "# 17"
   ]
  },
  {
   "cell_type": "code",
   "execution_count": null,
   "metadata": {
    "id": "qarnvrt7xs0o"
   },
   "outputs": [],
   "source": [
    "#背後原理是由 Python 語法解析器把 f-string 字串插值格式字串轉成一連串的字串常數和運算式，最後結合成最終的字串。\n",
    "\n",
    "def hello(text, name):\n",
    "    return f'hello {text}, hello {name}'\n",
    "\n",
    "# 實際上 Python 會把它變成字串常數和變數（過程中有優化）\n",
    "\n",
    "def hello(text, name):\n",
    "    return 'hello ' + text + ', hello' + name"
   ]
  },
  {
   "cell_type": "markdown",
   "metadata": {
    "id": "Qj162DZLyB8d"
   },
   "source": [
    "###  字串格式化\n",
    "\n",
    "格式化字串時，所使用的%d、%f、%s等 與C語 言類似，之後使用%接上一個tuple， 也就是範例中以()包 括的實字表示部份。一些可用的字串格式字列舉如下：\n",
    "%%\t在字串 中顯示%\n",
    "\n",
    "*   List item\n",
    "*   List item\n",
    "\n",
    "\n",
    "%d\t以10 進位整數方式輸出\n",
    "%f\t將浮點 數以10進位方式輸出\n",
    "%e, %E\t將浮點 數以10進位方式輸出，並使用科學記號\n",
    "%o\t以8進 位整數方式輸出\n",
    "%x, %X\t將整 數以16進位方式輸出\n",
    "%s\t使用str()將字串輸出\n",
    "%c\t以字元 方式輸出\n",
    "%r\t使用repr()輸 出字串"
   ]
  },
  {
   "cell_type": "code",
   "execution_count": null,
   "metadata": {
    "colab": {
     "base_uri": "https://localhost:8080/",
     "height": 36
    },
    "executionInfo": {
     "elapsed": 637,
     "status": "ok",
     "timestamp": 1583899721975,
     "user": {
      "displayName": "曾吉弘",
      "photoUrl": "",
      "userId": "05182442915746015943"
     },
     "user_tz": -480
    },
    "id": "pa2Dp8AGxwmp",
    "outputId": "bea45bac-a220-4d51-f068-a58f4101b82d"
   },
   "outputs": [
    {
     "name": "stdout",
     "output_type": "stream",
     "text": [
      "1 99.30 Justin\n"
     ]
    }
   ],
   "source": [
    "text = '%d %.2f %s' % (1, 99.3, 'Justin')\n",
    "print(text)"
   ]
  },
  {
   "cell_type": "code",
   "execution_count": null,
   "metadata": {
    "colab": {
     "base_uri": "https://localhost:8080/",
     "height": 36
    },
    "executionInfo": {
     "elapsed": 763,
     "status": "ok",
     "timestamp": 1583899733075,
     "user": {
      "displayName": "曾吉弘",
      "photoUrl": "",
      "userId": "05182442915746015943"
     },
     "user_tz": -480
    },
    "id": "5975Fzuax73O",
    "outputId": "b8806bfe-897f-405e-fa2a-522442854f7b"
   },
   "outputs": [
    {
     "name": "stdout",
     "output_type": "stream",
     "text": [
      "1 99.30 Justin\n"
     ]
    }
   ],
   "source": [
    "print('%d %.2f %s' % (1, 99.3, 'Justin'))"
   ]
  },
  {
   "cell_type": "code",
   "execution_count": null,
   "metadata": {
    "id": "wvPD-9prx-jT"
   },
   "outputs": [],
   "source": [
    "#指定位數\n",
    "\n",
    "'example:%.2f' % 19.234"
   ]
  },
  {
   "cell_type": "code",
   "execution_count": null,
   "metadata": {
    "colab": {
     "base_uri": "https://localhost:8080/",
     "height": 36
    },
    "executionInfo": {
     "elapsed": 649,
     "status": "ok",
     "timestamp": 1583899827430,
     "user": {
      "displayName": "曾吉弘",
      "photoUrl": "",
      "userId": "05182442915746015943"
     },
     "user_tz": -480
    },
    "id": "MpZX2BU-yQbz",
    "outputId": "1a58b10e-7d6b-48e9-e287-f74effa0f940"
   },
   "outputs": [
    {
     "data": {
      "text/plain": [
       "'example: 19.23'"
      ]
     },
     "execution_count": 9,
     "metadata": {
      "tags": []
     },
     "output_type": "execute_result"
    }
   ],
   "source": [
    "#指定輸出時預留的字元寬度\n",
    "\"example:%6.2f\" % 19.234"
   ]
  },
  {
   "cell_type": "markdown",
   "metadata": {
    "id": "LtUQ7wRh4Z6c"
   },
   "source": [
    "根據位置、關鍵字（或兩者混合）來進行字串格式化，例如："
   ]
  },
  {
   "cell_type": "code",
   "execution_count": null,
   "metadata": {
    "colab": {
     "base_uri": "https://localhost:8080/",
     "height": 36
    },
    "executionInfo": {
     "elapsed": 786,
     "status": "ok",
     "timestamp": 1583901341128,
     "user": {
      "displayName": "曾吉弘",
      "photoUrl": "",
      "userId": "05182442915746015943"
     },
     "user_tz": -480
    },
    "id": "whnwgdNXyVni",
    "outputId": "de7b6f67-f400-4785-8ff6-a967efd3d520"
   },
   "outputs": [
    {
     "data": {
      "text/plain": [
       "'Justin is caterpillar!!'"
      ]
     },
     "execution_count": 10,
     "metadata": {
      "tags": []
     },
     "output_type": "execute_result"
    }
   ],
   "source": [
    "'{0} is {1}!!'.format('Justin', 'caterpillar')"
   ]
  },
  {
   "cell_type": "code",
   "execution_count": null,
   "metadata": {
    "colab": {
     "base_uri": "https://localhost:8080/",
     "height": 36
    },
    "executionInfo": {
     "elapsed": 760,
     "status": "ok",
     "timestamp": 1583901358881,
     "user": {
      "displayName": "曾吉弘",
      "photoUrl": "",
      "userId": "05182442915746015943"
     },
     "user_tz": -480
    },
    "id": "ZLJqB9PJ4H_y",
    "outputId": "c9cf0c31-b9e5-426a-b2c1-0c370ff1e284"
   },
   "outputs": [
    {
     "data": {
      "text/plain": [
       "'Justin is caterpillar!!'"
      ]
     },
     "execution_count": 11,
     "metadata": {
      "tags": []
     },
     "output_type": "execute_result"
    }
   ],
   "source": [
    "'{real} is {nick}!!'.format(real = 'Justin', nick = 'caterpillar')"
   ]
  },
  {
   "cell_type": "code",
   "execution_count": null,
   "metadata": {
    "colab": {
     "base_uri": "https://localhost:8080/",
     "height": 36
    },
    "executionInfo": {
     "elapsed": 891,
     "status": "ok",
     "timestamp": 1583901369756,
     "user": {
      "displayName": "曾吉弘",
      "photoUrl": "",
      "userId": "05182442915746015943"
     },
     "user_tz": -480
    },
    "id": "vMlP2y7L4L1J",
    "outputId": "1558482b-4ace-46f7-be3c-f383e4353b0f"
   },
   "outputs": [
    {
     "data": {
      "text/plain": [
       "'Justin is caterpillar!!'"
      ]
     },
     "execution_count": 12,
     "metadata": {
      "tags": []
     },
     "output_type": "execute_result"
    }
   ],
   "source": [
    "'{real} is {nick}!!'.format(nick = 'caterpillar', real = 'Justin')"
   ]
  },
  {
   "cell_type": "code",
   "execution_count": null,
   "metadata": {
    "colab": {
     "base_uri": "https://localhost:8080/",
     "height": 36
    },
    "executionInfo": {
     "elapsed": 714,
     "status": "ok",
     "timestamp": 1583901381879,
     "user": {
      "displayName": "曾吉弘",
      "photoUrl": "",
      "userId": "05182442915746015943"
     },
     "user_tz": -480
    },
    "id": "6VWd08294Otn",
    "outputId": "f57cd79b-fd78-491d-826a-d2a7cf1e8152"
   },
   "outputs": [
    {
     "data": {
      "text/plain": [
       "'Justin is caterpillar!!'"
      ]
     },
     "execution_count": 13,
     "metadata": {
      "tags": []
     },
     "output_type": "execute_result"
    }
   ],
   "source": [
    "'{0} is {nick}!!'.format('Justin', nick = 'caterpillar')"
   ]
  },
  {
   "cell_type": "code",
   "execution_count": null,
   "metadata": {
    "colab": {
     "base_uri": "https://localhost:8080/",
     "height": 36
    },
    "executionInfo": {
     "elapsed": 741,
     "status": "ok",
     "timestamp": 1583901388030,
     "user": {
      "displayName": "曾吉弘",
      "photoUrl": "",
      "userId": "05182442915746015943"
     },
     "user_tz": -480
    },
    "id": "uhMeUA1t4Ro6",
    "outputId": "7c97bdc7-85f2-4795-ee20-f4c48c67e7e8"
   },
   "outputs": [
    {
     "data": {
      "text/plain": [
       "'Justin is 35 years old!'"
      ]
     },
     "execution_count": 14,
     "metadata": {
      "tags": []
     },
     "output_type": "execute_result"
    }
   ],
   "source": [
    "'{name} is {age} years old!'.format(name = 'Justin', age = 35)"
   ]
  },
  {
   "cell_type": "code",
   "execution_count": null,
   "metadata": {
    "colab": {
     "base_uri": "https://localhost:8080/",
     "height": 36
    },
    "executionInfo": {
     "elapsed": 3175,
     "status": "ok",
     "timestamp": 1583901456014,
     "user": {
      "displayName": "曾吉弘",
      "photoUrl": "",
      "userId": "05182442915746015943"
     },
     "user_tz": -480
    },
    "id": "j68pKTDC4cGb",
    "outputId": "3414d1f9-daa2-4490-9f35-e7e1f05f59a2"
   },
   "outputs": [
    {
     "data": {
      "text/plain": [
       "'example:     19.23!!'"
      ]
     },
     "execution_count": 15,
     "metadata": {
      "tags": []
     },
     "output_type": "execute_result"
    }
   ],
   "source": [
    "#在預留空白時，可以使用>指定靠右對齊，使用<指定靠左對齊。例如：\n",
    "'example:{0:>10.2f}!!'.format(19.234)\n"
   ]
  },
  {
   "cell_type": "code",
   "execution_count": null,
   "metadata": {
    "colab": {
     "base_uri": "https://localhost:8080/",
     "height": 36
    },
    "executionInfo": {
     "elapsed": 687,
     "status": "ok",
     "timestamp": 1583901468228,
     "user": {
      "displayName": "曾吉弘",
      "photoUrl": "",
      "userId": "05182442915746015943"
     },
     "user_tz": -480
    },
    "id": "Ta_UqqEx4j99",
    "outputId": "1306ae94-0acb-4b39-de3e-45d9cae47bd5"
   },
   "outputs": [
    {
     "data": {
      "text/plain": [
       "'example:19.23     !!'"
      ]
     },
     "execution_count": 16,
     "metadata": {
      "tags": []
     },
     "output_type": "execute_result"
    }
   ],
   "source": [
    "'example:{0:<10.2f}!!'.format(19.234)"
   ]
  },
  {
   "cell_type": "code",
   "execution_count": null,
   "metadata": {
    "colab": {
     "base_uri": "https://localhost:8080/",
     "height": 36
    },
    "executionInfo": {
     "elapsed": 640,
     "status": "ok",
     "timestamp": 1583901498944,
     "user": {
      "displayName": "曾吉弘",
      "photoUrl": "",
      "userId": "05182442915746015943"
     },
     "user_tz": -480
    },
    "id": "7qHj6Zg64nOu",
    "outputId": "d3b88b68-ad2a-48b1-bdd7-57a16903981c"
   },
   "outputs": [
    {
     "data": {
      "text/plain": [
       "'3.14'"
      ]
     },
     "execution_count": 17,
     "metadata": {
      "tags": []
     },
     "output_type": "execute_result"
    }
   ],
   "source": [
    "#格式化單一數值，則可以使用format()函式。\n",
    "import math\n",
    "format(math.pi, '.2f')"
   ]
  },
  {
   "cell_type": "code",
   "execution_count": null,
   "metadata": {
    "colab": {
     "base_uri": "https://localhost:8080/"
    },
    "executionInfo": {
     "elapsed": 189500,
     "status": "ok",
     "timestamp": 1728403541186,
     "user": {
      "displayName": "曾吉弘",
      "userId": "06313166903000840460"
     },
     "user_tz": -480
    },
    "id": "_IEjnV8P2yGG",
    "outputId": "fd09b30e-e923-441c-8836-27bb22d7d6c7"
   },
   "outputs": [
    {
     "name": "stdout",
     "output_type": "stream",
     "text": [
      "https://cache.ptt.cc/c/https/i.imgur.com/zt0jEp8l.jpg?e=1728550891&s=OQtw-AiNRROq4tTqdL-1HA\n",
      "https://cache.ptt.cc/c/https/i.imgur.com/oXkUQbRl.jpg?e=1728514522&s=j2bvPXUyeXmmW9UDSkTmRw\n",
      "https://cache.ptt.cc/c/https/i.imgur.com/Xlj6p8Xl.jpg?e=1728530708&s=E4QF_ZygiSjeV4Yo0IqAEg\n",
      "https://cache.ptt.cc/c/https/i.imgur.com/qJk4NAll.jpg?e=1728521003&s=R1aDVBb0PDGPT8QGZ7N9_Q\n",
      "https://cache.ptt.cc/c/https/i.imgur.com/wjk2LgGl.jpg?e=1728571386&s=hsZ_kTa3N2jYVbi4uV3U4g\n",
      "https://cache.ptt.cc/c/https/i.imgur.com/psYDTpGl.jpg?e=1728550193&s=Spa9maZlvcvFMh0-8kbB6Q\n",
      "https://cache.ptt.cc/c/https/i.imgur.com/PQwRhFkl.jpg?e=1728549241&s=qzYCxAhYwCuWos8SYW1Zug\n",
      "https://cache.ptt.cc/c/https/i.imgur.com/ycblypul.jpg?e=1728518694&s=LegE-h7Pz1hblBRZUc_biA\n",
      "https://cache.ptt.cc/c/https/i.imgur.com/t2K6QjIl.jpg?e=1728565095&s=SUWUs4Ibq61N5Orm4hSDOw\n",
      "https://cache.ptt.cc/c/https/i.imgur.com/PJ6iRQjl.jpg?e=1728570668&s=S98eHGd2snxnW-rICgCQGA\n"
     ]
    }
   ],
   "source": [
    "import requests\n",
    "from bs4 import BeautifulSoup\n",
    "\n",
    "web = requests.get('https://www.ptt.cc/bbs/Beauty/M.1638380033.A.7C7.html', cookies={'over18':'1'})\n",
    "soup = BeautifulSoup(web.text, \"html.parser\")\n",
    "imgs = soup.find_all('img')\n",
    "name = 0    #  設定圖片編號\n",
    "for i in imgs:\n",
    "    print(i['src'])\n",
    "    jpg = requests.get(i['src'])     # 使用 requests 讀取圖片網址，取得圖片編碼\n",
    "    f = open(f'./test_{name}.jpg', 'wb')    # 使用 open 設定以二進位格式寫入圖片檔案\n",
    "    f.write(jpg.content)   # 寫入圖片的 content\n",
    "    f.close()              # 寫入完成後關閉圖片檔案\n",
    "    name = name + 1        # 編號增加 1\n"
   ]
  },
  {
   "cell_type": "markdown",
   "metadata": {
    "id": "NR4eR-W36ZSp"
   },
   "source": [
    "## 地圖應用"
   ]
  },
  {
   "cell_type": "code",
   "execution_count": null,
   "metadata": {
    "colab": {
     "base_uri": "https://localhost:8080/"
    },
    "executionInfo": {
     "elapsed": 5045,
     "status": "ok",
     "timestamp": 1728404007673,
     "user": {
      "displayName": "曾吉弘",
      "userId": "06313166903000840460"
     },
     "user_tz": -480
    },
    "id": "0xHi0-Tg3G2n",
    "outputId": "32cd8b00-a53f-4f44-8782-d40b01aced43"
   },
   "outputs": [
    {
     "name": "stdout",
     "output_type": "stream",
     "text": [
      "Requirement already satisfied: folium in /usr/local/lib/python3.10/dist-packages (0.17.0)\n",
      "Requirement already satisfied: branca>=0.6.0 in /usr/local/lib/python3.10/dist-packages (from folium) (0.8.0)\n",
      "Requirement already satisfied: jinja2>=2.9 in /usr/local/lib/python3.10/dist-packages (from folium) (3.1.4)\n",
      "Requirement already satisfied: numpy in /usr/local/lib/python3.10/dist-packages (from folium) (1.26.4)\n",
      "Requirement already satisfied: requests in /usr/local/lib/python3.10/dist-packages (from folium) (2.32.3)\n",
      "Requirement already satisfied: xyzservices in /usr/local/lib/python3.10/dist-packages (from folium) (2024.9.0)\n",
      "Requirement already satisfied: MarkupSafe>=2.0 in /usr/local/lib/python3.10/dist-packages (from jinja2>=2.9->folium) (2.1.5)\n",
      "Requirement already satisfied: charset-normalizer<4,>=2 in /usr/local/lib/python3.10/dist-packages (from requests->folium) (3.3.2)\n",
      "Requirement already satisfied: idna<4,>=2.5 in /usr/local/lib/python3.10/dist-packages (from requests->folium) (3.10)\n",
      "Requirement already satisfied: urllib3<3,>=1.21.1 in /usr/local/lib/python3.10/dist-packages (from requests->folium) (2.2.3)\n",
      "Requirement already satisfied: certifi>=2017.4.17 in /usr/local/lib/python3.10/dist-packages (from requests->folium) (2024.8.30)\n"
     ]
    }
   ],
   "source": [
    "!pip install folium"
   ]
  },
  {
   "cell_type": "code",
   "execution_count": null,
   "metadata": {
    "colab": {
     "base_uri": "https://localhost:8080/",
     "height": 481
    },
    "executionInfo": {
     "elapsed": 1397,
     "status": "ok",
     "timestamp": 1728404009610,
     "user": {
      "displayName": "曾吉弘",
      "userId": "06313166903000840460"
     },
     "user_tz": -480
    },
    "id": "qiIqyzfJ6BVO",
    "outputId": "010fb2c9-cecd-4ab5-9d40-1d8b6b0c5e7a"
   },
   "outputs": [
    {
     "data": {
      "text/html": [
       "<div style=\"width:100%;\"><div style=\"position:relative;width:100%;height:0;padding-bottom:60%;\"><span style=\"color:#565656\">Make this Notebook Trusted to load map: File -> Trust Notebook</span><iframe srcdoc=\"&lt;!DOCTYPE html&gt;\n",
       "&lt;html&gt;\n",
       "&lt;head&gt;\n",
       "    \n",
       "    &lt;meta http-equiv=&quot;content-type&quot; content=&quot;text/html; charset=UTF-8&quot; /&gt;\n",
       "    \n",
       "        &lt;script&gt;\n",
       "            L_NO_TOUCH = false;\n",
       "            L_DISABLE_3D = false;\n",
       "        &lt;/script&gt;\n",
       "    \n",
       "    &lt;style&gt;html, body {width: 100%;height: 100%;margin: 0;padding: 0;}&lt;/style&gt;\n",
       "    &lt;style&gt;#map {position:absolute;top:0;bottom:0;right:0;left:0;}&lt;/style&gt;\n",
       "    &lt;script src=&quot;https://cdn.jsdelivr.net/npm/leaflet@1.9.3/dist/leaflet.js&quot;&gt;&lt;/script&gt;\n",
       "    &lt;script src=&quot;https://code.jquery.com/jquery-3.7.1.min.js&quot;&gt;&lt;/script&gt;\n",
       "    &lt;script src=&quot;https://cdn.jsdelivr.net/npm/bootstrap@5.2.2/dist/js/bootstrap.bundle.min.js&quot;&gt;&lt;/script&gt;\n",
       "    &lt;script src=&quot;https://cdnjs.cloudflare.com/ajax/libs/Leaflet.awesome-markers/2.0.2/leaflet.awesome-markers.js&quot;&gt;&lt;/script&gt;\n",
       "    &lt;link rel=&quot;stylesheet&quot; href=&quot;https://cdn.jsdelivr.net/npm/leaflet@1.9.3/dist/leaflet.css&quot;/&gt;\n",
       "    &lt;link rel=&quot;stylesheet&quot; href=&quot;https://cdn.jsdelivr.net/npm/bootstrap@5.2.2/dist/css/bootstrap.min.css&quot;/&gt;\n",
       "    &lt;link rel=&quot;stylesheet&quot; href=&quot;https://netdna.bootstrapcdn.com/bootstrap/3.0.0/css/bootstrap-glyphicons.css&quot;/&gt;\n",
       "    &lt;link rel=&quot;stylesheet&quot; href=&quot;https://cdn.jsdelivr.net/npm/@fortawesome/fontawesome-free@6.2.0/css/all.min.css&quot;/&gt;\n",
       "    &lt;link rel=&quot;stylesheet&quot; href=&quot;https://cdnjs.cloudflare.com/ajax/libs/Leaflet.awesome-markers/2.0.2/leaflet.awesome-markers.css&quot;/&gt;\n",
       "    &lt;link rel=&quot;stylesheet&quot; href=&quot;https://cdn.jsdelivr.net/gh/python-visualization/folium/folium/templates/leaflet.awesome.rotate.min.css&quot;/&gt;\n",
       "    \n",
       "            &lt;meta name=&quot;viewport&quot; content=&quot;width=device-width,\n",
       "                initial-scale=1.0, maximum-scale=1.0, user-scalable=no&quot; /&gt;\n",
       "            &lt;style&gt;\n",
       "                #map_7b57e1b8b5253b52b4a8f3286e449290 {\n",
       "                    position: relative;\n",
       "                    width: 100.0%;\n",
       "                    height: 100.0%;\n",
       "                    left: 0.0%;\n",
       "                    top: 0.0%;\n",
       "                }\n",
       "                .leaflet-container { font-size: 1rem; }\n",
       "            &lt;/style&gt;\n",
       "        \n",
       "&lt;/head&gt;\n",
       "&lt;body&gt;\n",
       "    \n",
       "    \n",
       "            &lt;div class=&quot;folium-map&quot; id=&quot;map_7b57e1b8b5253b52b4a8f3286e449290&quot; &gt;&lt;/div&gt;\n",
       "        \n",
       "&lt;/body&gt;\n",
       "&lt;script&gt;\n",
       "    \n",
       "    \n",
       "            var map_7b57e1b8b5253b52b4a8f3286e449290 = L.map(\n",
       "                &quot;map_7b57e1b8b5253b52b4a8f3286e449290&quot;,\n",
       "                {\n",
       "                    center: [25.033964, 121.564468],\n",
       "                    crs: L.CRS.EPSG3857,\n",
       "                    zoom: 12,\n",
       "                    zoomControl: true,\n",
       "                    preferCanvas: false,\n",
       "                }\n",
       "            );\n",
       "\n",
       "            \n",
       "\n",
       "        \n",
       "    \n",
       "            var tile_layer_66eac5f544962137341d8f22a5a9e5aa = L.tileLayer(\n",
       "                &quot;https://tile.openstreetmap.org/{z}/{x}/{y}.png&quot;,\n",
       "                {&quot;attribution&quot;: &quot;\\u0026copy; \\u003ca href=\\&quot;https://www.openstreetmap.org/copyright\\&quot;\\u003eOpenStreetMap\\u003c/a\\u003e contributors&quot;, &quot;detectRetina&quot;: false, &quot;maxNativeZoom&quot;: 19, &quot;maxZoom&quot;: 19, &quot;minZoom&quot;: 0, &quot;noWrap&quot;: false, &quot;opacity&quot;: 1, &quot;subdomains&quot;: &quot;abc&quot;, &quot;tms&quot;: false}\n",
       "            );\n",
       "        \n",
       "    \n",
       "            tile_layer_66eac5f544962137341d8f22a5a9e5aa.addTo(map_7b57e1b8b5253b52b4a8f3286e449290);\n",
       "        \n",
       "&lt;/script&gt;\n",
       "&lt;/html&gt;\" style=\"position:absolute;width:100%;height:100%;left:0;top:0;border:none !important;\" allowfullscreen webkitallowfullscreen mozallowfullscreen></iframe></div></div>"
      ],
      "text/plain": [
       "<folium.folium.Map at 0x7ede448a7fd0>"
      ]
     },
     "execution_count": 6,
     "metadata": {},
     "output_type": "execute_result"
    }
   ],
   "source": [
    "import folium\n",
    "\n",
    "# Specify your latitude and longitude\n",
    "latitude = 25.033964\n",
    "longitude = 121.564468\n",
    "\n",
    "# Create a map centered at the specified location\n",
    "map = folium.Map(location=[latitude, longitude], zoom_start=12, tiles='OpenStreetMap')\n",
    "\n",
    "# Display the map\n",
    "map"
   ]
  },
  {
   "cell_type": "code",
   "execution_count": null,
   "metadata": {
    "colab": {
     "base_uri": "https://localhost:8080/",
     "height": 481
    },
    "executionInfo": {
     "elapsed": 386,
     "status": "ok",
     "timestamp": 1728404183296,
     "user": {
      "displayName": "曾吉弘",
      "userId": "06313166903000840460"
     },
     "user_tz": -480
    },
    "id": "PPp0J6zq6Cqb",
    "outputId": "710b7b69-0be4-4848-c2f7-1dd9043bec49"
   },
   "outputs": [
    {
     "data": {
      "text/html": [
       "<div style=\"width:100%;\"><div style=\"position:relative;width:100%;height:0;padding-bottom:60%;\"><span style=\"color:#565656\">Make this Notebook Trusted to load map: File -> Trust Notebook</span><iframe srcdoc=\"&lt;!DOCTYPE html&gt;\n",
       "&lt;html&gt;\n",
       "&lt;head&gt;\n",
       "    \n",
       "    &lt;meta http-equiv=&quot;content-type&quot; content=&quot;text/html; charset=UTF-8&quot; /&gt;\n",
       "    \n",
       "        &lt;script&gt;\n",
       "            L_NO_TOUCH = false;\n",
       "            L_DISABLE_3D = false;\n",
       "        &lt;/script&gt;\n",
       "    \n",
       "    &lt;style&gt;html, body {width: 100%;height: 100%;margin: 0;padding: 0;}&lt;/style&gt;\n",
       "    &lt;style&gt;#map {position:absolute;top:0;bottom:0;right:0;left:0;}&lt;/style&gt;\n",
       "    &lt;script src=&quot;https://cdn.jsdelivr.net/npm/leaflet@1.9.3/dist/leaflet.js&quot;&gt;&lt;/script&gt;\n",
       "    &lt;script src=&quot;https://code.jquery.com/jquery-3.7.1.min.js&quot;&gt;&lt;/script&gt;\n",
       "    &lt;script src=&quot;https://cdn.jsdelivr.net/npm/bootstrap@5.2.2/dist/js/bootstrap.bundle.min.js&quot;&gt;&lt;/script&gt;\n",
       "    &lt;script src=&quot;https://cdnjs.cloudflare.com/ajax/libs/Leaflet.awesome-markers/2.0.2/leaflet.awesome-markers.js&quot;&gt;&lt;/script&gt;\n",
       "    &lt;link rel=&quot;stylesheet&quot; href=&quot;https://cdn.jsdelivr.net/npm/leaflet@1.9.3/dist/leaflet.css&quot;/&gt;\n",
       "    &lt;link rel=&quot;stylesheet&quot; href=&quot;https://cdn.jsdelivr.net/npm/bootstrap@5.2.2/dist/css/bootstrap.min.css&quot;/&gt;\n",
       "    &lt;link rel=&quot;stylesheet&quot; href=&quot;https://netdna.bootstrapcdn.com/bootstrap/3.0.0/css/bootstrap-glyphicons.css&quot;/&gt;\n",
       "    &lt;link rel=&quot;stylesheet&quot; href=&quot;https://cdn.jsdelivr.net/npm/@fortawesome/fontawesome-free@6.2.0/css/all.min.css&quot;/&gt;\n",
       "    &lt;link rel=&quot;stylesheet&quot; href=&quot;https://cdnjs.cloudflare.com/ajax/libs/Leaflet.awesome-markers/2.0.2/leaflet.awesome-markers.css&quot;/&gt;\n",
       "    &lt;link rel=&quot;stylesheet&quot; href=&quot;https://cdn.jsdelivr.net/gh/python-visualization/folium/folium/templates/leaflet.awesome.rotate.min.css&quot;/&gt;\n",
       "    \n",
       "            &lt;meta name=&quot;viewport&quot; content=&quot;width=device-width,\n",
       "                initial-scale=1.0, maximum-scale=1.0, user-scalable=no&quot; /&gt;\n",
       "            &lt;style&gt;\n",
       "                #map_248513838de49fa9b64f1cd23b95ca9b {\n",
       "                    position: relative;\n",
       "                    width: 100.0%;\n",
       "                    height: 100.0%;\n",
       "                    left: 0.0%;\n",
       "                    top: 0.0%;\n",
       "                }\n",
       "                .leaflet-container { font-size: 1rem; }\n",
       "            &lt;/style&gt;\n",
       "        \n",
       "&lt;/head&gt;\n",
       "&lt;body&gt;\n",
       "    \n",
       "    \n",
       "            &lt;div class=&quot;folium-map&quot; id=&quot;map_248513838de49fa9b64f1cd23b95ca9b&quot; &gt;&lt;/div&gt;\n",
       "        \n",
       "&lt;/body&gt;\n",
       "&lt;script&gt;\n",
       "    \n",
       "    \n",
       "            var map_248513838de49fa9b64f1cd23b95ca9b = L.map(\n",
       "                &quot;map_248513838de49fa9b64f1cd23b95ca9b&quot;,\n",
       "                {\n",
       "                    center: [25.033964, 121.564468],\n",
       "                    crs: L.CRS.EPSG3857,\n",
       "                    zoom: 16,\n",
       "                    zoomControl: false,\n",
       "                    preferCanvas: false,\n",
       "                    dragging: false,\n",
       "                }\n",
       "            );\n",
       "\n",
       "            \n",
       "\n",
       "        \n",
       "    \n",
       "            var tile_layer_c192347e5d5d45c93a69d97a5151dcc2 = L.tileLayer(\n",
       "                &quot;https://tile.openstreetmap.org/{z}/{x}/{y}.png&quot;,\n",
       "                {&quot;attribution&quot;: &quot;\\u0026copy; \\u003ca href=\\&quot;https://www.openstreetmap.org/copyright\\&quot;\\u003eOpenStreetMap\\u003c/a\\u003e contributors&quot;, &quot;detectRetina&quot;: false, &quot;maxNativeZoom&quot;: 19, &quot;maxZoom&quot;: 19, &quot;minZoom&quot;: 0, &quot;noWrap&quot;: false, &quot;opacity&quot;: 1, &quot;subdomains&quot;: &quot;abc&quot;, &quot;tms&quot;: false}\n",
       "            );\n",
       "        \n",
       "    \n",
       "            tile_layer_c192347e5d5d45c93a69d97a5151dcc2.addTo(map_248513838de49fa9b64f1cd23b95ca9b);\n",
       "        \n",
       "    \n",
       "            var marker_c6e955f180807db55e0dc5b491a54fac = L.marker(\n",
       "                [25.033964, 121.564468],\n",
       "                {}\n",
       "            ).addTo(map_248513838de49fa9b64f1cd23b95ca9b);\n",
       "        \n",
       "    \n",
       "            marker_c6e955f180807db55e0dc5b491a54fac.bindTooltip(\n",
       "                `&lt;div&gt;\n",
       "                     淡江大學\n",
       "                 &lt;/div&gt;`,\n",
       "                {&quot;sticky&quot;: true}\n",
       "            );\n",
       "        \n",
       "&lt;/script&gt;\n",
       "&lt;/html&gt;\" style=\"position:absolute;width:100%;height:100%;left:0;top:0;border:none !important;\" allowfullscreen webkitallowfullscreen mozallowfullscreen></iframe></div></div>"
      ],
      "text/plain": [
       "<folium.folium.Map at 0x7ede23ff5e70>"
      ]
     },
     "execution_count": 10,
     "metadata": {},
     "output_type": "execute_result"
    }
   ],
   "source": [
    "# prompt: 修改以上範例，在指定經緯度座標處放置大頭針，初始縮放比16，且鎖定平移與縮放\n",
    "\n",
    "import math\n",
    "import numpy as np\n",
    "import random\n",
    "from collections import deque\n",
    "import ipywidgets as widgets\n",
    "from IPython.display import display, clear_output\n",
    "import datetime, time\n",
    "import requests\n",
    "from bs4 import BeautifulSoup\n",
    "import folium\n",
    "\n",
    "# Specify your latitude and longitude\n",
    "latitude = 25.033964\n",
    "longitude = 121.564468\n",
    "\n",
    "# Create a map centered at the specified location\n",
    "map = folium.Map(location=[latitude, longitude], zoom_start=16,\n",
    "                 dragging=False, # 鎖定地圖平移\n",
    "                 zoom_control=False) # 鎖定地圖縮放\n",
    "\n",
    "\n",
    "# Add a marker to the map\n",
    "folium.Marker([latitude, longitude], tooltip=\"淡江大學\").add_to(map)\n",
    "\n",
    "# Display the map\n",
    "map\n"
   ]
  },
  {
   "cell_type": "code",
   "execution_count": null,
   "metadata": {
    "id": "A9-1wb_07E80"
   },
   "outputs": [],
   "source": []
  }
 ],
 "metadata": {
  "colab": {
   "collapsed_sections": [
    "cZHDmXZhIlqM"
   ],
   "provenance": []
  },
  "kernelspec": {
   "display_name": "Python 3 (ipykernel)",
   "language": "python",
   "name": "python3"
  },
  "language_info": {
   "codemirror_mode": {
    "name": "ipython",
    "version": 3
   },
   "file_extension": ".py",
   "mimetype": "text/x-python",
   "name": "python",
   "nbconvert_exporter": "python",
   "pygments_lexer": "ipython3",
   "version": "3.11.7"
  },
  "widgets": {
   "application/vnd.jupyter.widget-state+json": {
    "03d00fee42ed422c8d14355c18b1b61a": {
     "model_module": "@jupyter-widgets/controls",
     "model_module_version": "1.5.0",
     "model_name": "VBoxModel",
     "state": {
      "_dom_classes": [],
      "_model_module": "@jupyter-widgets/controls",
      "_model_module_version": "1.5.0",
      "_model_name": "VBoxModel",
      "_view_count": null,
      "_view_module": "@jupyter-widgets/controls",
      "_view_module_version": "1.5.0",
      "_view_name": "VBoxView",
      "box_style": "",
      "children": [
       "IPY_MODEL_5130d4f456924efca49f5920e7269146",
       "IPY_MODEL_17c8616ed1b241fa8c72799a497e07b0"
      ],
      "layout": "IPY_MODEL_be3bc2e194be42f194a25b0523208e41"
     }
    },
    "0ccdab94f4e546eebdb563d123a081fd": {
     "model_module": "@jupyter-widgets/controls",
     "model_module_version": "1.5.0",
     "model_name": "SliderStyleModel",
     "state": {
      "_model_module": "@jupyter-widgets/controls",
      "_model_module_version": "1.5.0",
      "_model_name": "SliderStyleModel",
      "_view_count": null,
      "_view_module": "@jupyter-widgets/base",
      "_view_module_version": "1.2.0",
      "_view_name": "StyleView",
      "description_width": "",
      "handle_color": null
     }
    },
    "17c8616ed1b241fa8c72799a497e07b0": {
     "model_module": "@jupyter-widgets/controls",
     "model_module_version": "1.5.0",
     "model_name": "CheckboxModel",
     "state": {
      "_dom_classes": [],
      "_model_module": "@jupyter-widgets/controls",
      "_model_module_version": "1.5.0",
      "_model_name": "CheckboxModel",
      "_view_count": null,
      "_view_module": "@jupyter-widgets/controls",
      "_view_module_version": "1.5.0",
      "_view_name": "CheckboxView",
      "description": "餐點內用",
      "description_tooltip": null,
      "disabled": false,
      "indent": true,
      "layout": "IPY_MODEL_a1dbe2c126034d95b4da137d743b65d5",
      "style": "IPY_MODEL_19a0e74b46214e9f8d53cacfb4b7ffca",
      "value": true
     }
    },
    "188c943699f341cc82f2a969a4b70584": {
     "model_module": "@jupyter-widgets/base",
     "model_module_version": "1.2.0",
     "model_name": "LayoutModel",
     "state": {
      "_model_module": "@jupyter-widgets/base",
      "_model_module_version": "1.2.0",
      "_model_name": "LayoutModel",
      "_view_count": null,
      "_view_module": "@jupyter-widgets/base",
      "_view_module_version": "1.2.0",
      "_view_name": "LayoutView",
      "align_content": null,
      "align_items": null,
      "align_self": null,
      "border": null,
      "bottom": null,
      "display": null,
      "flex": null,
      "flex_flow": null,
      "grid_area": null,
      "grid_auto_columns": null,
      "grid_auto_flow": null,
      "grid_auto_rows": null,
      "grid_column": null,
      "grid_gap": null,
      "grid_row": null,
      "grid_template_areas": null,
      "grid_template_columns": null,
      "grid_template_rows": null,
      "height": null,
      "justify_content": null,
      "justify_items": null,
      "left": null,
      "margin": null,
      "max_height": null,
      "max_width": null,
      "min_height": null,
      "min_width": null,
      "object_fit": null,
      "object_position": null,
      "order": null,
      "overflow": null,
      "overflow_x": null,
      "overflow_y": null,
      "padding": null,
      "right": null,
      "top": null,
      "visibility": null,
      "width": null
     }
    },
    "197716470a0143f3889b49c320c6b747": {
     "model_module": "@jupyter-widgets/base",
     "model_module_version": "1.2.0",
     "model_name": "LayoutModel",
     "state": {
      "_model_module": "@jupyter-widgets/base",
      "_model_module_version": "1.2.0",
      "_model_name": "LayoutModel",
      "_view_count": null,
      "_view_module": "@jupyter-widgets/base",
      "_view_module_version": "1.2.0",
      "_view_name": "LayoutView",
      "align_content": null,
      "align_items": null,
      "align_self": null,
      "border": null,
      "bottom": null,
      "display": null,
      "flex": null,
      "flex_flow": null,
      "grid_area": null,
      "grid_auto_columns": null,
      "grid_auto_flow": null,
      "grid_auto_rows": null,
      "grid_column": null,
      "grid_gap": null,
      "grid_row": null,
      "grid_template_areas": null,
      "grid_template_columns": null,
      "grid_template_rows": null,
      "height": null,
      "justify_content": null,
      "justify_items": null,
      "left": null,
      "margin": null,
      "max_height": null,
      "max_width": null,
      "min_height": null,
      "min_width": null,
      "object_fit": null,
      "object_position": null,
      "order": null,
      "overflow": null,
      "overflow_x": null,
      "overflow_y": null,
      "padding": null,
      "right": null,
      "top": null,
      "visibility": null,
      "width": null
     }
    },
    "19a0e74b46214e9f8d53cacfb4b7ffca": {
     "model_module": "@jupyter-widgets/controls",
     "model_module_version": "1.5.0",
     "model_name": "DescriptionStyleModel",
     "state": {
      "_model_module": "@jupyter-widgets/controls",
      "_model_module_version": "1.5.0",
      "_model_name": "DescriptionStyleModel",
      "_view_count": null,
      "_view_module": "@jupyter-widgets/base",
      "_view_module_version": "1.2.0",
      "_view_name": "StyleView",
      "description_width": ""
     }
    },
    "1bd085ccbcf14fe085c6c4b697533563": {
     "model_module": "@jupyter-widgets/base",
     "model_module_version": "1.2.0",
     "model_name": "LayoutModel",
     "state": {
      "_model_module": "@jupyter-widgets/base",
      "_model_module_version": "1.2.0",
      "_model_name": "LayoutModel",
      "_view_count": null,
      "_view_module": "@jupyter-widgets/base",
      "_view_module_version": "1.2.0",
      "_view_name": "LayoutView",
      "align_content": null,
      "align_items": null,
      "align_self": null,
      "border": null,
      "bottom": null,
      "display": null,
      "flex": null,
      "flex_flow": null,
      "grid_area": null,
      "grid_auto_columns": null,
      "grid_auto_flow": null,
      "grid_auto_rows": null,
      "grid_column": null,
      "grid_gap": null,
      "grid_row": null,
      "grid_template_areas": null,
      "grid_template_columns": null,
      "grid_template_rows": null,
      "height": null,
      "justify_content": null,
      "justify_items": null,
      "left": null,
      "margin": null,
      "max_height": null,
      "max_width": null,
      "min_height": null,
      "min_width": null,
      "object_fit": null,
      "object_position": null,
      "order": null,
      "overflow": null,
      "overflow_x": null,
      "overflow_y": null,
      "padding": null,
      "right": null,
      "top": null,
      "visibility": null,
      "width": null
     }
    },
    "200c9d2514e34ff486500ce4fd7e22ca": {
     "model_module": "@jupyter-widgets/base",
     "model_module_version": "1.2.0",
     "model_name": "LayoutModel",
     "state": {
      "_model_module": "@jupyter-widgets/base",
      "_model_module_version": "1.2.0",
      "_model_name": "LayoutModel",
      "_view_count": null,
      "_view_module": "@jupyter-widgets/base",
      "_view_module_version": "1.2.0",
      "_view_name": "LayoutView",
      "align_content": null,
      "align_items": null,
      "align_self": null,
      "border": null,
      "bottom": null,
      "display": null,
      "flex": null,
      "flex_flow": null,
      "grid_area": null,
      "grid_auto_columns": null,
      "grid_auto_flow": null,
      "grid_auto_rows": null,
      "grid_column": null,
      "grid_gap": null,
      "grid_row": null,
      "grid_template_areas": null,
      "grid_template_columns": null,
      "grid_template_rows": null,
      "height": null,
      "justify_content": null,
      "justify_items": null,
      "left": null,
      "margin": null,
      "max_height": null,
      "max_width": null,
      "min_height": null,
      "min_width": null,
      "object_fit": null,
      "object_position": null,
      "order": null,
      "overflow": null,
      "overflow_x": null,
      "overflow_y": null,
      "padding": null,
      "right": null,
      "top": null,
      "visibility": null,
      "width": null
     }
    },
    "281c4e29c25a4ab08ad768f83124853d": {
     "model_module": "@jupyter-widgets/controls",
     "model_module_version": "1.5.0",
     "model_name": "DropdownModel",
     "state": {
      "_dom_classes": [],
      "_model_module": "@jupyter-widgets/controls",
      "_model_module_version": "1.5.0",
      "_model_name": "DropdownModel",
      "_options_labels": [
       "無",
       "原味蛋餅",
       "起司薯餅蛋餅",
       "肉蛋蔬菜總匯土司",
       "鮪魚蛋餅",
       "蜂蜜法式土司",
       "墨西哥煎雞堡",
       "麥克雞",
       "滷肉飯"
      ],
      "_view_count": null,
      "_view_module": "@jupyter-widgets/controls",
      "_view_module_version": "1.5.0",
      "_view_name": "DropdownView",
      "description": "早餐主食：",
      "description_tooltip": null,
      "disabled": false,
      "index": 2,
      "layout": "IPY_MODEL_75846189cc8749d791376cbae07e9daa",
      "style": "IPY_MODEL_a20fbcdf96ad4c6a848b1151b31e9da8"
     }
    },
    "2a963ad9245b4db8864b0b78f85a7b15": {
     "model_module": "@jupyter-widgets/base",
     "model_module_version": "1.2.0",
     "model_name": "LayoutModel",
     "state": {
      "_model_module": "@jupyter-widgets/base",
      "_model_module_version": "1.2.0",
      "_model_name": "LayoutModel",
      "_view_count": null,
      "_view_module": "@jupyter-widgets/base",
      "_view_module_version": "1.2.0",
      "_view_name": "LayoutView",
      "align_content": null,
      "align_items": null,
      "align_self": null,
      "border": null,
      "bottom": null,
      "display": null,
      "flex": null,
      "flex_flow": null,
      "grid_area": null,
      "grid_auto_columns": null,
      "grid_auto_flow": null,
      "grid_auto_rows": null,
      "grid_column": null,
      "grid_gap": null,
      "grid_row": null,
      "grid_template_areas": null,
      "grid_template_columns": null,
      "grid_template_rows": null,
      "height": null,
      "justify_content": null,
      "justify_items": null,
      "left": null,
      "margin": null,
      "max_height": null,
      "max_width": null,
      "min_height": null,
      "min_width": null,
      "object_fit": null,
      "object_position": null,
      "order": null,
      "overflow": null,
      "overflow_x": null,
      "overflow_y": null,
      "padding": null,
      "right": null,
      "top": null,
      "visibility": null,
      "width": null
     }
    },
    "2b4c6f0f4efb4ab0ae37c45385ed1fa1": {
     "model_module": "@jupyter-widgets/controls",
     "model_module_version": "1.5.0",
     "model_name": "CheckboxModel",
     "state": {
      "_dom_classes": [],
      "_model_module": "@jupyter-widgets/controls",
      "_model_module_version": "1.5.0",
      "_model_name": "CheckboxModel",
      "_view_count": null,
      "_view_module": "@jupyter-widgets/controls",
      "_view_module_version": "1.5.0",
      "_view_name": "CheckboxView",
      "description": "餐點內用",
      "description_tooltip": null,
      "disabled": false,
      "indent": true,
      "layout": "IPY_MODEL_200c9d2514e34ff486500ce4fd7e22ca",
      "style": "IPY_MODEL_e82568b668cf481baf04423cc588672f",
      "value": true
     }
    },
    "2e47f89b265148ada4d9223f10439aa1": {
     "model_module": "@jupyter-widgets/controls",
     "model_module_version": "1.5.0",
     "model_name": "TabModel",
     "state": {
      "_dom_classes": [],
      "_model_module": "@jupyter-widgets/controls",
      "_model_module_version": "1.5.0",
      "_model_name": "TabModel",
      "_titles": {
       "0": "主食",
       "1": "飲料",
       "2": "小點心",
       "3": "外帶?"
      },
      "_view_count": null,
      "_view_module": "@jupyter-widgets/controls",
      "_view_module_version": "1.5.0",
      "_view_name": "TabView",
      "box_style": "",
      "children": [
       "IPY_MODEL_a80f381737e04a0f9f5adb7a8723835f",
       "IPY_MODEL_f39d47314e2342d9a21513e2fac0545b",
       "IPY_MODEL_ad43600fd1974136808dc6633f4ff0cb",
       "IPY_MODEL_2b4c6f0f4efb4ab0ae37c45385ed1fa1"
      ],
      "layout": "IPY_MODEL_e01e4d00122a4c1198f7778f7197a3fb",
      "selected_index": 0
     }
    },
    "3ba9c085045647008ddf7aa09d07a74b": {
     "model_module": "@jupyter-widgets/controls",
     "model_module_version": "1.5.0",
     "model_name": "ButtonStyleModel",
     "state": {
      "_model_module": "@jupyter-widgets/controls",
      "_model_module_version": "1.5.0",
      "_model_name": "ButtonStyleModel",
      "_view_count": null,
      "_view_module": "@jupyter-widgets/base",
      "_view_module_version": "1.2.0",
      "_view_name": "StyleView",
      "button_color": null,
      "font_weight": ""
     }
    },
    "4135284cfbda43b083ec3273ed02c41a": {
     "model_module": "@jupyter-widgets/controls",
     "model_module_version": "1.5.0",
     "model_name": "DescriptionStyleModel",
     "state": {
      "_model_module": "@jupyter-widgets/controls",
      "_model_module_version": "1.5.0",
      "_model_name": "DescriptionStyleModel",
      "_view_count": null,
      "_view_module": "@jupyter-widgets/base",
      "_view_module_version": "1.2.0",
      "_view_name": "StyleView",
      "description_width": ""
     }
    },
    "42562574b8084e819c1ad8ae83077e19": {
     "model_module": "@jupyter-widgets/base",
     "model_module_version": "1.2.0",
     "model_name": "LayoutModel",
     "state": {
      "_model_module": "@jupyter-widgets/base",
      "_model_module_version": "1.2.0",
      "_model_name": "LayoutModel",
      "_view_count": null,
      "_view_module": "@jupyter-widgets/base",
      "_view_module_version": "1.2.0",
      "_view_name": "LayoutView",
      "align_content": null,
      "align_items": null,
      "align_self": null,
      "border": null,
      "bottom": null,
      "display": null,
      "flex": null,
      "flex_flow": null,
      "grid_area": null,
      "grid_auto_columns": null,
      "grid_auto_flow": null,
      "grid_auto_rows": null,
      "grid_column": null,
      "grid_gap": null,
      "grid_row": null,
      "grid_template_areas": null,
      "grid_template_columns": null,
      "grid_template_rows": null,
      "height": null,
      "justify_content": null,
      "justify_items": null,
      "left": null,
      "margin": null,
      "max_height": null,
      "max_width": null,
      "min_height": null,
      "min_width": null,
      "object_fit": null,
      "object_position": null,
      "order": null,
      "overflow": null,
      "overflow_x": null,
      "overflow_y": null,
      "padding": null,
      "right": null,
      "top": null,
      "visibility": null,
      "width": null
     }
    },
    "4317a1342af946e1a85c3ebe5f0ad3e6": {
     "model_module": "@jupyter-widgets/controls",
     "model_module_version": "1.5.0",
     "model_name": "HBoxModel",
     "state": {
      "_dom_classes": [],
      "_model_module": "@jupyter-widgets/controls",
      "_model_module_version": "1.5.0",
      "_model_name": "HBoxModel",
      "_view_count": null,
      "_view_module": "@jupyter-widgets/controls",
      "_view_module_version": "1.5.0",
      "_view_name": "HBoxView",
      "box_style": "",
      "children": [
       "IPY_MODEL_a80f381737e04a0f9f5adb7a8723835f",
       "IPY_MODEL_f39d47314e2342d9a21513e2fac0545b",
       "IPY_MODEL_ad43600fd1974136808dc6633f4ff0cb",
       "IPY_MODEL_2b4c6f0f4efb4ab0ae37c45385ed1fa1"
      ],
      "layout": "IPY_MODEL_7c57f59cbed74a8ba38c416425fd9977"
     }
    },
    "4f958528fb8444709cd8044a215eab77": {
     "model_module": "@jupyter-widgets/controls",
     "model_module_version": "1.5.0",
     "model_name": "HBoxModel",
     "state": {
      "_dom_classes": [],
      "_model_module": "@jupyter-widgets/controls",
      "_model_module_version": "1.5.0",
      "_model_name": "HBoxModel",
      "_view_count": null,
      "_view_module": "@jupyter-widgets/controls",
      "_view_module_version": "1.5.0",
      "_view_name": "HBoxView",
      "box_style": "",
      "children": [
       "IPY_MODEL_281c4e29c25a4ab08ad768f83124853d",
       "IPY_MODEL_bf5e4aa7c7b94e0795dc50b775ec3d19",
       "IPY_MODEL_03d00fee42ed422c8d14355c18b1b61a"
      ],
      "layout": "IPY_MODEL_2a963ad9245b4db8864b0b78f85a7b15"
     }
    },
    "5130d4f456924efca49f5920e7269146": {
     "model_module": "@jupyter-widgets/controls",
     "model_module_version": "1.5.0",
     "model_name": "SelectModel",
     "state": {
      "_dom_classes": [],
      "_model_module": "@jupyter-widgets/controls",
      "_model_module_version": "1.5.0",
      "_model_name": "SelectModel",
      "_options_labels": [
       "無",
       "薯餅",
       "小熱狗",
       "雞塊",
       "地瓜球",
       "碎蛋沙拉",
       "薯餅起司塔"
      ],
      "_view_count": null,
      "_view_module": "@jupyter-widgets/controls",
      "_view_module_version": "1.5.0",
      "_view_name": "SelectView",
      "description": "小點心：",
      "description_tooltip": null,
      "disabled": false,
      "index": 1,
      "layout": "IPY_MODEL_df3429c5f2924a33a0eb05252b8418de",
      "rows": 5,
      "style": "IPY_MODEL_ae6670fe25164c93b5b64cb9bae33a56"
     }
    },
    "52aa5c391f19432e868bc3f3463fe9e8": {
     "model_module": "@jupyter-widgets/controls",
     "model_module_version": "1.5.0",
     "model_name": "TextModel",
     "state": {
      "_dom_classes": [],
      "_model_module": "@jupyter-widgets/controls",
      "_model_module_version": "1.5.0",
      "_model_name": "TextModel",
      "_view_count": null,
      "_view_module": "@jupyter-widgets/controls",
      "_view_module_version": "1.5.0",
      "_view_name": "TextView",
      "continuous_update": true,
      "description": "使用者名稱:",
      "description_tooltip": null,
      "disabled": false,
      "layout": "IPY_MODEL_c253852ae99241aa81f00db2a0996e60",
      "placeholder": "請輸入你的名字",
      "style": "IPY_MODEL_bd0d66ae103d4ef59c1e554f5ccf38dc",
      "value": "Lisa"
     }
    },
    "5e7870ab6b74484da2b9f29fbe6f9957": {
     "model_module": "@jupyter-widgets/base",
     "model_module_version": "1.2.0",
     "model_name": "LayoutModel",
     "state": {
      "_model_module": "@jupyter-widgets/base",
      "_model_module_version": "1.2.0",
      "_model_name": "LayoutModel",
      "_view_count": null,
      "_view_module": "@jupyter-widgets/base",
      "_view_module_version": "1.2.0",
      "_view_name": "LayoutView",
      "align_content": null,
      "align_items": null,
      "align_self": null,
      "border": null,
      "bottom": null,
      "display": null,
      "flex": null,
      "flex_flow": null,
      "grid_area": null,
      "grid_auto_columns": null,
      "grid_auto_flow": null,
      "grid_auto_rows": null,
      "grid_column": null,
      "grid_gap": null,
      "grid_row": null,
      "grid_template_areas": null,
      "grid_template_columns": null,
      "grid_template_rows": null,
      "height": null,
      "justify_content": null,
      "justify_items": null,
      "left": null,
      "margin": null,
      "max_height": null,
      "max_width": null,
      "min_height": null,
      "min_width": null,
      "object_fit": null,
      "object_position": null,
      "order": null,
      "overflow": null,
      "overflow_x": null,
      "overflow_y": null,
      "padding": null,
      "right": null,
      "top": null,
      "visibility": null,
      "width": null
     }
    },
    "6086852763a541b1a4c9f39bafca6200": {
     "model_module": "@jupyter-widgets/controls",
     "model_module_version": "1.5.0",
     "model_name": "VBoxModel",
     "state": {
      "_dom_classes": [],
      "_model_module": "@jupyter-widgets/controls",
      "_model_module_version": "1.5.0",
      "_model_name": "VBoxModel",
      "_view_count": null,
      "_view_module": "@jupyter-widgets/controls",
      "_view_module_version": "1.5.0",
      "_view_name": "VBoxView",
      "box_style": "",
      "children": [
       "IPY_MODEL_a80f381737e04a0f9f5adb7a8723835f",
       "IPY_MODEL_f39d47314e2342d9a21513e2fac0545b",
       "IPY_MODEL_ad43600fd1974136808dc6633f4ff0cb"
      ],
      "layout": "IPY_MODEL_c52d82797bc54662ab2deb039591f6a5"
     }
    },
    "6125add6b46947c69aa3513f6666aacf": {
     "model_module": "@jupyter-widgets/controls",
     "model_module_version": "1.5.0",
     "model_name": "ButtonStyleModel",
     "state": {
      "_model_module": "@jupyter-widgets/controls",
      "_model_module_version": "1.5.0",
      "_model_name": "ButtonStyleModel",
      "_view_count": null,
      "_view_module": "@jupyter-widgets/base",
      "_view_module_version": "1.2.0",
      "_view_name": "StyleView",
      "button_color": null,
      "font_weight": ""
     }
    },
    "6de544d5140b40d9a122a1f95beb8861": {
     "model_module": "@jupyter-widgets/controls",
     "model_module_version": "1.5.0",
     "model_name": "LabelModel",
     "state": {
      "_dom_classes": [],
      "_model_module": "@jupyter-widgets/controls",
      "_model_module_version": "1.5.0",
      "_model_name": "LabelModel",
      "_view_count": null,
      "_view_module": "@jupyter-widgets/controls",
      "_view_module_version": "1.5.0",
      "_view_name": "LabelView",
      "description": "",
      "description_tooltip": null,
      "layout": "IPY_MODEL_b6d89f15b9c54688b573d6dbc2c21b21",
      "placeholder": "​",
      "style": "IPY_MODEL_4135284cfbda43b083ec3273ed02c41a",
      "value": "每月存錢目標"
     }
    },
    "72ff8ab3cf8f413a943924f59be192a9": {
     "model_module": "@jupyter-widgets/controls",
     "model_module_version": "1.5.0",
     "model_name": "ImageModel",
     "state": {
      "_dom_classes": [],
      "_model_module": "@jupyter-widgets/controls",
      "_model_module_version": "1.5.0",
      "_model_name": "ImageModel",
      "_view_count": null,
      "_view_module": "@jupyter-widgets/controls",
      "_view_module_version": "1.5.0",
      "_view_name": "ImageView",
      "format": "jpg",
      "height": "300",
      "layout": "IPY_MODEL_188c943699f341cc82f2a969a4b70584",
      "width": "300"
     }
    },
    "75846189cc8749d791376cbae07e9daa": {
     "model_module": "@jupyter-widgets/base",
     "model_module_version": "1.2.0",
     "model_name": "LayoutModel",
     "state": {
      "_model_module": "@jupyter-widgets/base",
      "_model_module_version": "1.2.0",
      "_model_name": "LayoutModel",
      "_view_count": null,
      "_view_module": "@jupyter-widgets/base",
      "_view_module_version": "1.2.0",
      "_view_name": "LayoutView",
      "align_content": null,
      "align_items": null,
      "align_self": null,
      "border": null,
      "bottom": null,
      "display": null,
      "flex": null,
      "flex_flow": null,
      "grid_area": null,
      "grid_auto_columns": null,
      "grid_auto_flow": null,
      "grid_auto_rows": null,
      "grid_column": null,
      "grid_gap": null,
      "grid_row": null,
      "grid_template_areas": null,
      "grid_template_columns": null,
      "grid_template_rows": null,
      "height": null,
      "justify_content": null,
      "justify_items": null,
      "left": null,
      "margin": null,
      "max_height": null,
      "max_width": null,
      "min_height": null,
      "min_width": null,
      "object_fit": null,
      "object_position": null,
      "order": null,
      "overflow": null,
      "overflow_x": null,
      "overflow_y": null,
      "padding": null,
      "right": null,
      "top": null,
      "visibility": null,
      "width": null
     }
    },
    "75967392e7d743de9cd008db06f45c06": {
     "model_module": "@jupyter-widgets/controls",
     "model_module_version": "1.5.0",
     "model_name": "FloatSliderModel",
     "state": {
      "_dom_classes": [],
      "_model_module": "@jupyter-widgets/controls",
      "_model_module_version": "1.5.0",
      "_model_name": "FloatSliderModel",
      "_view_count": null,
      "_view_module": "@jupyter-widgets/controls",
      "_view_module_version": "1.5.0",
      "_view_name": "FloatSliderView",
      "continuous_update": false,
      "description": "每月存錢目標：",
      "description_tooltip": null,
      "disabled": false,
      "layout": "IPY_MODEL_96c396fc17194cb093407aaa587e6526",
      "max": 10,
      "min": 0,
      "orientation": "horizontal",
      "readout": true,
      "readout_format": ".2f",
      "step": 0.5,
      "style": "IPY_MODEL_0ccdab94f4e546eebdb563d123a081fd",
      "value": 6
     }
    },
    "79a9e4bb4fd143b39c9c732216d9f2d5": {
     "model_module": "@jupyter-widgets/base",
     "model_module_version": "1.2.0",
     "model_name": "LayoutModel",
     "state": {
      "_model_module": "@jupyter-widgets/base",
      "_model_module_version": "1.2.0",
      "_model_name": "LayoutModel",
      "_view_count": null,
      "_view_module": "@jupyter-widgets/base",
      "_view_module_version": "1.2.0",
      "_view_name": "LayoutView",
      "align_content": null,
      "align_items": null,
      "align_self": null,
      "border": null,
      "bottom": null,
      "display": null,
      "flex": null,
      "flex_flow": null,
      "grid_area": null,
      "grid_auto_columns": null,
      "grid_auto_flow": null,
      "grid_auto_rows": null,
      "grid_column": null,
      "grid_gap": null,
      "grid_row": null,
      "grid_template_areas": null,
      "grid_template_columns": null,
      "grid_template_rows": null,
      "height": null,
      "justify_content": null,
      "justify_items": null,
      "left": null,
      "margin": null,
      "max_height": null,
      "max_width": null,
      "min_height": null,
      "min_width": null,
      "object_fit": null,
      "object_position": null,
      "order": null,
      "overflow": null,
      "overflow_x": null,
      "overflow_y": null,
      "padding": null,
      "right": null,
      "top": null,
      "visibility": null,
      "width": null
     }
    },
    "7bfc52a26c9947c7b08c49cf4b4746b1": {
     "model_module": "@jupyter-widgets/base",
     "model_module_version": "1.2.0",
     "model_name": "LayoutModel",
     "state": {
      "_model_module": "@jupyter-widgets/base",
      "_model_module_version": "1.2.0",
      "_model_name": "LayoutModel",
      "_view_count": null,
      "_view_module": "@jupyter-widgets/base",
      "_view_module_version": "1.2.0",
      "_view_name": "LayoutView",
      "align_content": null,
      "align_items": null,
      "align_self": null,
      "border": null,
      "bottom": null,
      "display": null,
      "flex": null,
      "flex_flow": null,
      "grid_area": null,
      "grid_auto_columns": null,
      "grid_auto_flow": null,
      "grid_auto_rows": null,
      "grid_column": null,
      "grid_gap": null,
      "grid_row": null,
      "grid_template_areas": null,
      "grid_template_columns": null,
      "grid_template_rows": null,
      "height": null,
      "justify_content": null,
      "justify_items": null,
      "left": null,
      "margin": null,
      "max_height": null,
      "max_width": null,
      "min_height": null,
      "min_width": null,
      "object_fit": null,
      "object_position": null,
      "order": null,
      "overflow": null,
      "overflow_x": null,
      "overflow_y": null,
      "padding": null,
      "right": null,
      "top": null,
      "visibility": null,
      "width": null
     }
    },
    "7c57f59cbed74a8ba38c416425fd9977": {
     "model_module": "@jupyter-widgets/base",
     "model_module_version": "1.2.0",
     "model_name": "LayoutModel",
     "state": {
      "_model_module": "@jupyter-widgets/base",
      "_model_module_version": "1.2.0",
      "_model_name": "LayoutModel",
      "_view_count": null,
      "_view_module": "@jupyter-widgets/base",
      "_view_module_version": "1.2.0",
      "_view_name": "LayoutView",
      "align_content": null,
      "align_items": null,
      "align_self": null,
      "border": null,
      "bottom": null,
      "display": null,
      "flex": null,
      "flex_flow": null,
      "grid_area": null,
      "grid_auto_columns": null,
      "grid_auto_flow": null,
      "grid_auto_rows": null,
      "grid_column": null,
      "grid_gap": null,
      "grid_row": null,
      "grid_template_areas": null,
      "grid_template_columns": null,
      "grid_template_rows": null,
      "height": null,
      "justify_content": null,
      "justify_items": null,
      "left": null,
      "margin": null,
      "max_height": null,
      "max_width": null,
      "min_height": null,
      "min_width": null,
      "object_fit": null,
      "object_position": null,
      "order": null,
      "overflow": null,
      "overflow_x": null,
      "overflow_y": null,
      "padding": null,
      "right": null,
      "top": null,
      "visibility": null,
      "width": null
     }
    },
    "851a640b27b04208a2fc558e924ff1bf": {
     "model_module": "@jupyter-widgets/controls",
     "model_module_version": "1.5.0",
     "model_name": "IntSliderModel",
     "state": {
      "_dom_classes": [],
      "_model_module": "@jupyter-widgets/controls",
      "_model_module_version": "1.5.0",
      "_model_name": "IntSliderModel",
      "_view_count": null,
      "_view_module": "@jupyter-widgets/controls",
      "_view_module_version": "1.5.0",
      "_view_name": "IntSliderView",
      "continuous_update": false,
      "description": "",
      "description_tooltip": null,
      "disabled": false,
      "layout": "IPY_MODEL_1bd085ccbcf14fe085c6c4b697533563",
      "max": 10000,
      "min": 0,
      "orientation": "horizontal",
      "readout": true,
      "readout_format": "d",
      "step": 1000,
      "style": "IPY_MODEL_9c9d9ae2f23349368956d32b0d371c8b",
      "value": 6000
     }
    },
    "8ce513aebdf1407e907030cfb3fd8699": {
     "model_module": "@jupyter-widgets/base",
     "model_module_version": "1.2.0",
     "model_name": "LayoutModel",
     "state": {
      "_model_module": "@jupyter-widgets/base",
      "_model_module_version": "1.2.0",
      "_model_name": "LayoutModel",
      "_view_count": null,
      "_view_module": "@jupyter-widgets/base",
      "_view_module_version": "1.2.0",
      "_view_name": "LayoutView",
      "align_content": null,
      "align_items": null,
      "align_self": null,
      "border": null,
      "bottom": null,
      "display": null,
      "flex": null,
      "flex_flow": null,
      "grid_area": null,
      "grid_auto_columns": null,
      "grid_auto_flow": null,
      "grid_auto_rows": null,
      "grid_column": null,
      "grid_gap": null,
      "grid_row": null,
      "grid_template_areas": null,
      "grid_template_columns": null,
      "grid_template_rows": null,
      "height": null,
      "justify_content": null,
      "justify_items": null,
      "left": null,
      "margin": null,
      "max_height": null,
      "max_width": null,
      "min_height": null,
      "min_width": null,
      "object_fit": null,
      "object_position": null,
      "order": null,
      "overflow": null,
      "overflow_x": null,
      "overflow_y": null,
      "padding": null,
      "right": null,
      "top": null,
      "visibility": null,
      "width": null
     }
    },
    "8d8f3ef4c8624ced91f65dc2782d9190": {
     "model_module": "@jupyter-widgets/output",
     "model_module_version": "1.0.0",
     "model_name": "OutputModel",
     "state": {
      "_dom_classes": [],
      "_model_module": "@jupyter-widgets/output",
      "_model_module_version": "1.0.0",
      "_model_name": "OutputModel",
      "_view_count": null,
      "_view_module": "@jupyter-widgets/output",
      "_view_module_version": "1.0.0",
      "_view_name": "OutputView",
      "layout": "IPY_MODEL_42562574b8084e819c1ad8ae83077e19",
      "msg_id": "",
      "outputs": [
       {
        "name": "stdout",
        "output_type": "stream",
        "text": [
         "領你去看真相！\n"
        ]
       }
      ]
     }
    },
    "9010f5e3885d4aafa41253099ed9188f": {
     "model_module": "@jupyter-widgets/base",
     "model_module_version": "1.2.0",
     "model_name": "LayoutModel",
     "state": {
      "_model_module": "@jupyter-widgets/base",
      "_model_module_version": "1.2.0",
      "_model_name": "LayoutModel",
      "_view_count": null,
      "_view_module": "@jupyter-widgets/base",
      "_view_module_version": "1.2.0",
      "_view_name": "LayoutView",
      "align_content": null,
      "align_items": null,
      "align_self": null,
      "border": null,
      "bottom": null,
      "display": null,
      "flex": null,
      "flex_flow": null,
      "grid_area": null,
      "grid_auto_columns": null,
      "grid_auto_flow": null,
      "grid_auto_rows": null,
      "grid_column": null,
      "grid_gap": null,
      "grid_row": null,
      "grid_template_areas": null,
      "grid_template_columns": null,
      "grid_template_rows": null,
      "height": null,
      "justify_content": null,
      "justify_items": null,
      "left": null,
      "margin": null,
      "max_height": null,
      "max_width": null,
      "min_height": null,
      "min_width": null,
      "object_fit": null,
      "object_position": null,
      "order": null,
      "overflow": null,
      "overflow_x": null,
      "overflow_y": null,
      "padding": null,
      "right": null,
      "top": null,
      "visibility": null,
      "width": null
     }
    },
    "9340017cdf014b1b969b277bbc1568f5": {
     "model_module": "@jupyter-widgets/controls",
     "model_module_version": "1.5.0",
     "model_name": "DescriptionStyleModel",
     "state": {
      "_model_module": "@jupyter-widgets/controls",
      "_model_module_version": "1.5.0",
      "_model_name": "DescriptionStyleModel",
      "_view_count": null,
      "_view_module": "@jupyter-widgets/base",
      "_view_module_version": "1.2.0",
      "_view_name": "StyleView",
      "description_width": ""
     }
    },
    "955885e9a7bd49c5a1ae7fa833ddd7e4": {
     "model_module": "@jupyter-widgets/controls",
     "model_module_version": "1.5.0",
     "model_name": "DescriptionStyleModel",
     "state": {
      "_model_module": "@jupyter-widgets/controls",
      "_model_module_version": "1.5.0",
      "_model_name": "DescriptionStyleModel",
      "_view_count": null,
      "_view_module": "@jupyter-widgets/base",
      "_view_module_version": "1.2.0",
      "_view_name": "StyleView",
      "description_width": ""
     }
    },
    "95669673db8140a2b13afa58611e3052": {
     "model_module": "@jupyter-widgets/controls",
     "model_module_version": "1.5.0",
     "model_name": "DatePickerModel",
     "state": {
      "_dom_classes": [],
      "_model_module": "@jupyter-widgets/controls",
      "_model_module_version": "1.5.0",
      "_model_name": "DatePickerModel",
      "_view_count": null,
      "_view_module": "@jupyter-widgets/controls",
      "_view_module_version": "1.5.0",
      "_view_name": "DatePickerView",
      "description": "你的生日",
      "description_tooltip": null,
      "disabled": false,
      "layout": "IPY_MODEL_9010f5e3885d4aafa41253099ed9188f",
      "style": "IPY_MODEL_b601dce7c76f41638234e0d003f37267",
      "value": {
       "date": 4,
       "month": 9,
       "year": 1982
      }
     }
    },
    "96c396fc17194cb093407aaa587e6526": {
     "model_module": "@jupyter-widgets/base",
     "model_module_version": "1.2.0",
     "model_name": "LayoutModel",
     "state": {
      "_model_module": "@jupyter-widgets/base",
      "_model_module_version": "1.2.0",
      "_model_name": "LayoutModel",
      "_view_count": null,
      "_view_module": "@jupyter-widgets/base",
      "_view_module_version": "1.2.0",
      "_view_name": "LayoutView",
      "align_content": null,
      "align_items": null,
      "align_self": null,
      "border": null,
      "bottom": null,
      "display": null,
      "flex": null,
      "flex_flow": null,
      "grid_area": null,
      "grid_auto_columns": null,
      "grid_auto_flow": null,
      "grid_auto_rows": null,
      "grid_column": null,
      "grid_gap": null,
      "grid_row": null,
      "grid_template_areas": null,
      "grid_template_columns": null,
      "grid_template_rows": null,
      "height": null,
      "justify_content": null,
      "justify_items": null,
      "left": null,
      "margin": null,
      "max_height": null,
      "max_width": null,
      "min_height": null,
      "min_width": null,
      "object_fit": null,
      "object_position": null,
      "order": null,
      "overflow": null,
      "overflow_x": null,
      "overflow_y": null,
      "padding": null,
      "right": null,
      "top": null,
      "visibility": null,
      "width": null
     }
    },
    "9c9d9ae2f23349368956d32b0d371c8b": {
     "model_module": "@jupyter-widgets/controls",
     "model_module_version": "1.5.0",
     "model_name": "SliderStyleModel",
     "state": {
      "_model_module": "@jupyter-widgets/controls",
      "_model_module_version": "1.5.0",
      "_model_name": "SliderStyleModel",
      "_view_count": null,
      "_view_module": "@jupyter-widgets/base",
      "_view_module_version": "1.2.0",
      "_view_name": "StyleView",
      "description_width": "",
      "handle_color": null
     }
    },
    "9ea27a1038d649b49b9cf04242b84e2d": {
     "model_module": "@jupyter-widgets/base",
     "model_module_version": "1.2.0",
     "model_name": "LayoutModel",
     "state": {
      "_model_module": "@jupyter-widgets/base",
      "_model_module_version": "1.2.0",
      "_model_name": "LayoutModel",
      "_view_count": null,
      "_view_module": "@jupyter-widgets/base",
      "_view_module_version": "1.2.0",
      "_view_name": "LayoutView",
      "align_content": null,
      "align_items": null,
      "align_self": null,
      "border": null,
      "bottom": null,
      "display": null,
      "flex": null,
      "flex_flow": null,
      "grid_area": null,
      "grid_auto_columns": null,
      "grid_auto_flow": null,
      "grid_auto_rows": null,
      "grid_column": null,
      "grid_gap": null,
      "grid_row": null,
      "grid_template_areas": null,
      "grid_template_columns": null,
      "grid_template_rows": null,
      "height": null,
      "justify_content": null,
      "justify_items": null,
      "left": null,
      "margin": null,
      "max_height": null,
      "max_width": null,
      "min_height": null,
      "min_width": null,
      "object_fit": null,
      "object_position": null,
      "order": null,
      "overflow": null,
      "overflow_x": null,
      "overflow_y": null,
      "padding": null,
      "right": null,
      "top": null,
      "visibility": null,
      "width": null
     }
    },
    "9f699830a8c94544a0702a2b0a1b3dab": {
     "model_module": "@jupyter-widgets/controls",
     "model_module_version": "1.5.0",
     "model_name": "DescriptionStyleModel",
     "state": {
      "_model_module": "@jupyter-widgets/controls",
      "_model_module_version": "1.5.0",
      "_model_name": "DescriptionStyleModel",
      "_view_count": null,
      "_view_module": "@jupyter-widgets/base",
      "_view_module_version": "1.2.0",
      "_view_name": "StyleView",
      "description_width": ""
     }
    },
    "9fcd316cc22542d389800f3bcba0c2b6": {
     "model_module": "@jupyter-widgets/controls",
     "model_module_version": "1.5.0",
     "model_name": "ButtonModel",
     "state": {
      "_dom_classes": [],
      "_model_module": "@jupyter-widgets/controls",
      "_model_module_version": "1.5.0",
      "_model_name": "ButtonModel",
      "_view_count": null,
      "_view_module": "@jupyter-widgets/controls",
      "_view_module_version": "1.5.0",
      "_view_name": "ButtonView",
      "button_style": "",
      "description": "紅色藥丸",
      "disabled": false,
      "icon": "",
      "layout": "IPY_MODEL_79a9e4bb4fd143b39c9c732216d9f2d5",
      "style": "IPY_MODEL_3ba9c085045647008ddf7aa09d07a74b",
      "tooltip": ""
     }
    },
    "a1dbe2c126034d95b4da137d743b65d5": {
     "model_module": "@jupyter-widgets/base",
     "model_module_version": "1.2.0",
     "model_name": "LayoutModel",
     "state": {
      "_model_module": "@jupyter-widgets/base",
      "_model_module_version": "1.2.0",
      "_model_name": "LayoutModel",
      "_view_count": null,
      "_view_module": "@jupyter-widgets/base",
      "_view_module_version": "1.2.0",
      "_view_name": "LayoutView",
      "align_content": null,
      "align_items": null,
      "align_self": null,
      "border": null,
      "bottom": null,
      "display": null,
      "flex": null,
      "flex_flow": null,
      "grid_area": null,
      "grid_auto_columns": null,
      "grid_auto_flow": null,
      "grid_auto_rows": null,
      "grid_column": null,
      "grid_gap": null,
      "grid_row": null,
      "grid_template_areas": null,
      "grid_template_columns": null,
      "grid_template_rows": null,
      "height": null,
      "justify_content": null,
      "justify_items": null,
      "left": null,
      "margin": null,
      "max_height": null,
      "max_width": null,
      "min_height": null,
      "min_width": null,
      "object_fit": null,
      "object_position": null,
      "order": null,
      "overflow": null,
      "overflow_x": null,
      "overflow_y": null,
      "padding": null,
      "right": null,
      "top": null,
      "visibility": null,
      "width": null
     }
    },
    "a20fbcdf96ad4c6a848b1151b31e9da8": {
     "model_module": "@jupyter-widgets/controls",
     "model_module_version": "1.5.0",
     "model_name": "DescriptionStyleModel",
     "state": {
      "_model_module": "@jupyter-widgets/controls",
      "_model_module_version": "1.5.0",
      "_model_name": "DescriptionStyleModel",
      "_view_count": null,
      "_view_module": "@jupyter-widgets/base",
      "_view_module_version": "1.2.0",
      "_view_name": "StyleView",
      "description_width": ""
     }
    },
    "a80f381737e04a0f9f5adb7a8723835f": {
     "model_module": "@jupyter-widgets/controls",
     "model_module_version": "1.5.0",
     "model_name": "DropdownModel",
     "state": {
      "_dom_classes": [],
      "_model_module": "@jupyter-widgets/controls",
      "_model_module_version": "1.5.0",
      "_model_name": "DropdownModel",
      "_options_labels": [
       "無",
       "原味蛋餅",
       "起司薯餅蛋餅",
       "肉蛋蔬菜總匯土司",
       "鮪魚蛋餅",
       "蜂蜜法式土司",
       "墨西哥煎雞堡",
       "麥克雞",
       "滷肉飯"
      ],
      "_view_count": null,
      "_view_module": "@jupyter-widgets/controls",
      "_view_module_version": "1.5.0",
      "_view_name": "DropdownView",
      "description": "早餐主食：",
      "description_tooltip": null,
      "disabled": false,
      "index": 6,
      "layout": "IPY_MODEL_197716470a0143f3889b49c320c6b747",
      "style": "IPY_MODEL_955885e9a7bd49c5a1ae7fa833ddd7e4"
     }
    },
    "aafcf535a96547a580d30c6e5350f001": {
     "model_module": "@jupyter-widgets/controls",
     "model_module_version": "1.5.0",
     "model_name": "DescriptionStyleModel",
     "state": {
      "_model_module": "@jupyter-widgets/controls",
      "_model_module_version": "1.5.0",
      "_model_name": "DescriptionStyleModel",
      "_view_count": null,
      "_view_module": "@jupyter-widgets/base",
      "_view_module_version": "1.2.0",
      "_view_name": "StyleView",
      "description_width": ""
     }
    },
    "ad43600fd1974136808dc6633f4ff0cb": {
     "model_module": "@jupyter-widgets/controls",
     "model_module_version": "1.5.0",
     "model_name": "SelectModel",
     "state": {
      "_dom_classes": [],
      "_model_module": "@jupyter-widgets/controls",
      "_model_module_version": "1.5.0",
      "_model_name": "SelectModel",
      "_options_labels": [
       "無",
       "薯餅",
       "小熱狗",
       "雞塊",
       "地瓜球",
       "碎蛋沙拉",
       "薯餅起司塔"
      ],
      "_view_count": null,
      "_view_module": "@jupyter-widgets/controls",
      "_view_module_version": "1.5.0",
      "_view_name": "SelectView",
      "description": "小點心：",
      "description_tooltip": null,
      "disabled": false,
      "index": 4,
      "layout": "IPY_MODEL_5e7870ab6b74484da2b9f29fbe6f9957",
      "rows": 5,
      "style": "IPY_MODEL_9340017cdf014b1b969b277bbc1568f5"
     }
    },
    "ae6670fe25164c93b5b64cb9bae33a56": {
     "model_module": "@jupyter-widgets/controls",
     "model_module_version": "1.5.0",
     "model_name": "DescriptionStyleModel",
     "state": {
      "_model_module": "@jupyter-widgets/controls",
      "_model_module_version": "1.5.0",
      "_model_name": "DescriptionStyleModel",
      "_view_count": null,
      "_view_module": "@jupyter-widgets/base",
      "_view_module_version": "1.2.0",
      "_view_name": "StyleView",
      "description_width": ""
     }
    },
    "b601dce7c76f41638234e0d003f37267": {
     "model_module": "@jupyter-widgets/controls",
     "model_module_version": "1.5.0",
     "model_name": "DescriptionStyleModel",
     "state": {
      "_model_module": "@jupyter-widgets/controls",
      "_model_module_version": "1.5.0",
      "_model_name": "DescriptionStyleModel",
      "_view_count": null,
      "_view_module": "@jupyter-widgets/base",
      "_view_module_version": "1.2.0",
      "_view_name": "StyleView",
      "description_width": ""
     }
    },
    "b6d89f15b9c54688b573d6dbc2c21b21": {
     "model_module": "@jupyter-widgets/base",
     "model_module_version": "1.2.0",
     "model_name": "LayoutModel",
     "state": {
      "_model_module": "@jupyter-widgets/base",
      "_model_module_version": "1.2.0",
      "_model_name": "LayoutModel",
      "_view_count": null,
      "_view_module": "@jupyter-widgets/base",
      "_view_module_version": "1.2.0",
      "_view_name": "LayoutView",
      "align_content": null,
      "align_items": null,
      "align_self": null,
      "border": null,
      "bottom": null,
      "display": null,
      "flex": null,
      "flex_flow": null,
      "grid_area": null,
      "grid_auto_columns": null,
      "grid_auto_flow": null,
      "grid_auto_rows": null,
      "grid_column": null,
      "grid_gap": null,
      "grid_row": null,
      "grid_template_areas": null,
      "grid_template_columns": null,
      "grid_template_rows": null,
      "height": null,
      "justify_content": null,
      "justify_items": null,
      "left": null,
      "margin": null,
      "max_height": null,
      "max_width": null,
      "min_height": null,
      "min_width": null,
      "object_fit": null,
      "object_position": null,
      "order": null,
      "overflow": null,
      "overflow_x": null,
      "overflow_y": null,
      "padding": null,
      "right": null,
      "top": null,
      "visibility": null,
      "width": null
     }
    },
    "b79e4bc685fc4b1f8ef597b97814542d": {
     "model_module": "@jupyter-widgets/controls",
     "model_module_version": "1.5.0",
     "model_name": "HBoxModel",
     "state": {
      "_dom_classes": [],
      "_model_module": "@jupyter-widgets/controls",
      "_model_module_version": "1.5.0",
      "_model_name": "HBoxModel",
      "_view_count": null,
      "_view_module": "@jupyter-widgets/controls",
      "_view_module_version": "1.5.0",
      "_view_name": "HBoxView",
      "box_style": "",
      "children": [
       "IPY_MODEL_9fcd316cc22542d389800f3bcba0c2b6",
       "IPY_MODEL_f7f65d333f7940fb9929610cfa31ef39"
      ],
      "layout": "IPY_MODEL_8ce513aebdf1407e907030cfb3fd8699"
     }
    },
    "bd0d66ae103d4ef59c1e554f5ccf38dc": {
     "model_module": "@jupyter-widgets/controls",
     "model_module_version": "1.5.0",
     "model_name": "DescriptionStyleModel",
     "state": {
      "_model_module": "@jupyter-widgets/controls",
      "_model_module_version": "1.5.0",
      "_model_name": "DescriptionStyleModel",
      "_view_count": null,
      "_view_module": "@jupyter-widgets/base",
      "_view_module_version": "1.2.0",
      "_view_name": "StyleView",
      "description_width": ""
     }
    },
    "be3bc2e194be42f194a25b0523208e41": {
     "model_module": "@jupyter-widgets/base",
     "model_module_version": "1.2.0",
     "model_name": "LayoutModel",
     "state": {
      "_model_module": "@jupyter-widgets/base",
      "_model_module_version": "1.2.0",
      "_model_name": "LayoutModel",
      "_view_count": null,
      "_view_module": "@jupyter-widgets/base",
      "_view_module_version": "1.2.0",
      "_view_name": "LayoutView",
      "align_content": null,
      "align_items": null,
      "align_self": null,
      "border": null,
      "bottom": null,
      "display": null,
      "flex": null,
      "flex_flow": null,
      "grid_area": null,
      "grid_auto_columns": null,
      "grid_auto_flow": null,
      "grid_auto_rows": null,
      "grid_column": null,
      "grid_gap": null,
      "grid_row": null,
      "grid_template_areas": null,
      "grid_template_columns": null,
      "grid_template_rows": null,
      "height": null,
      "justify_content": null,
      "justify_items": null,
      "left": null,
      "margin": null,
      "max_height": null,
      "max_width": null,
      "min_height": null,
      "min_width": null,
      "object_fit": null,
      "object_position": null,
      "order": null,
      "overflow": null,
      "overflow_x": null,
      "overflow_y": null,
      "padding": null,
      "right": null,
      "top": null,
      "visibility": null,
      "width": null
     }
    },
    "bf5e4aa7c7b94e0795dc50b775ec3d19": {
     "model_module": "@jupyter-widgets/controls",
     "model_module_version": "1.5.0",
     "model_name": "RadioButtonsModel",
     "state": {
      "_dom_classes": [],
      "_model_module": "@jupyter-widgets/controls",
      "_model_module_version": "1.5.0",
      "_model_name": "RadioButtonsModel",
      "_options_labels": [
       "紅茶",
       "招牌奶茶",
       "鮮奶茶",
       "無糖綠茶",
       "鮮奶",
       "豆漿",
       "美式咖啡",
       "拿鐵"
      ],
      "_view_count": null,
      "_view_module": "@jupyter-widgets/controls",
      "_view_module_version": "1.5.0",
      "_view_name": "RadioButtonsView",
      "description": "飲料：",
      "description_tooltip": null,
      "disabled": false,
      "index": 2,
      "layout": "IPY_MODEL_ea0e212ca74541eea42c3d3293084d4e",
      "style": "IPY_MODEL_aafcf535a96547a580d30c6e5350f001"
     }
    },
    "c253852ae99241aa81f00db2a0996e60": {
     "model_module": "@jupyter-widgets/base",
     "model_module_version": "1.2.0",
     "model_name": "LayoutModel",
     "state": {
      "_model_module": "@jupyter-widgets/base",
      "_model_module_version": "1.2.0",
      "_model_name": "LayoutModel",
      "_view_count": null,
      "_view_module": "@jupyter-widgets/base",
      "_view_module_version": "1.2.0",
      "_view_name": "LayoutView",
      "align_content": null,
      "align_items": null,
      "align_self": null,
      "border": null,
      "bottom": null,
      "display": null,
      "flex": null,
      "flex_flow": null,
      "grid_area": null,
      "grid_auto_columns": null,
      "grid_auto_flow": null,
      "grid_auto_rows": null,
      "grid_column": null,
      "grid_gap": null,
      "grid_row": null,
      "grid_template_areas": null,
      "grid_template_columns": null,
      "grid_template_rows": null,
      "height": null,
      "justify_content": null,
      "justify_items": null,
      "left": null,
      "margin": null,
      "max_height": null,
      "max_width": null,
      "min_height": null,
      "min_width": null,
      "object_fit": null,
      "object_position": null,
      "order": null,
      "overflow": null,
      "overflow_x": null,
      "overflow_y": null,
      "padding": null,
      "right": null,
      "top": null,
      "visibility": null,
      "width": null
     }
    },
    "c52d82797bc54662ab2deb039591f6a5": {
     "model_module": "@jupyter-widgets/base",
     "model_module_version": "1.2.0",
     "model_name": "LayoutModel",
     "state": {
      "_model_module": "@jupyter-widgets/base",
      "_model_module_version": "1.2.0",
      "_model_name": "LayoutModel",
      "_view_count": null,
      "_view_module": "@jupyter-widgets/base",
      "_view_module_version": "1.2.0",
      "_view_name": "LayoutView",
      "align_content": null,
      "align_items": null,
      "align_self": null,
      "border": null,
      "bottom": null,
      "display": null,
      "flex": null,
      "flex_flow": null,
      "grid_area": null,
      "grid_auto_columns": null,
      "grid_auto_flow": null,
      "grid_auto_rows": null,
      "grid_column": null,
      "grid_gap": null,
      "grid_row": null,
      "grid_template_areas": null,
      "grid_template_columns": null,
      "grid_template_rows": null,
      "height": null,
      "justify_content": null,
      "justify_items": null,
      "left": null,
      "margin": null,
      "max_height": null,
      "max_width": null,
      "min_height": null,
      "min_width": null,
      "object_fit": null,
      "object_position": null,
      "order": null,
      "overflow": null,
      "overflow_x": null,
      "overflow_y": null,
      "padding": null,
      "right": null,
      "top": null,
      "visibility": null,
      "width": null
     }
    },
    "c8cfdfcf2ad349e0aa3336dfb0e797c9": {
     "model_module": "@jupyter-widgets/base",
     "model_module_version": "1.2.0",
     "model_name": "LayoutModel",
     "state": {
      "_model_module": "@jupyter-widgets/base",
      "_model_module_version": "1.2.0",
      "_model_name": "LayoutModel",
      "_view_count": null,
      "_view_module": "@jupyter-widgets/base",
      "_view_module_version": "1.2.0",
      "_view_name": "LayoutView",
      "align_content": null,
      "align_items": null,
      "align_self": null,
      "border": null,
      "bottom": null,
      "display": null,
      "flex": null,
      "flex_flow": null,
      "grid_area": null,
      "grid_auto_columns": null,
      "grid_auto_flow": null,
      "grid_auto_rows": null,
      "grid_column": null,
      "grid_gap": null,
      "grid_row": null,
      "grid_template_areas": null,
      "grid_template_columns": null,
      "grid_template_rows": null,
      "height": null,
      "justify_content": null,
      "justify_items": null,
      "left": null,
      "margin": null,
      "max_height": null,
      "max_width": null,
      "min_height": null,
      "min_width": null,
      "object_fit": null,
      "object_position": null,
      "order": null,
      "overflow": null,
      "overflow_x": null,
      "overflow_y": null,
      "padding": null,
      "right": null,
      "top": null,
      "visibility": null,
      "width": null
     }
    },
    "df3429c5f2924a33a0eb05252b8418de": {
     "model_module": "@jupyter-widgets/base",
     "model_module_version": "1.2.0",
     "model_name": "LayoutModel",
     "state": {
      "_model_module": "@jupyter-widgets/base",
      "_model_module_version": "1.2.0",
      "_model_name": "LayoutModel",
      "_view_count": null,
      "_view_module": "@jupyter-widgets/base",
      "_view_module_version": "1.2.0",
      "_view_name": "LayoutView",
      "align_content": null,
      "align_items": null,
      "align_self": null,
      "border": null,
      "bottom": null,
      "display": null,
      "flex": null,
      "flex_flow": null,
      "grid_area": null,
      "grid_auto_columns": null,
      "grid_auto_flow": null,
      "grid_auto_rows": null,
      "grid_column": null,
      "grid_gap": null,
      "grid_row": null,
      "grid_template_areas": null,
      "grid_template_columns": null,
      "grid_template_rows": null,
      "height": null,
      "justify_content": null,
      "justify_items": null,
      "left": null,
      "margin": null,
      "max_height": null,
      "max_width": null,
      "min_height": null,
      "min_width": null,
      "object_fit": null,
      "object_position": null,
      "order": null,
      "overflow": null,
      "overflow_x": null,
      "overflow_y": null,
      "padding": null,
      "right": null,
      "top": null,
      "visibility": null,
      "width": null
     }
    },
    "e01e4d00122a4c1198f7778f7197a3fb": {
     "model_module": "@jupyter-widgets/base",
     "model_module_version": "1.2.0",
     "model_name": "LayoutModel",
     "state": {
      "_model_module": "@jupyter-widgets/base",
      "_model_module_version": "1.2.0",
      "_model_name": "LayoutModel",
      "_view_count": null,
      "_view_module": "@jupyter-widgets/base",
      "_view_module_version": "1.2.0",
      "_view_name": "LayoutView",
      "align_content": null,
      "align_items": null,
      "align_self": null,
      "border": null,
      "bottom": null,
      "display": null,
      "flex": null,
      "flex_flow": null,
      "grid_area": null,
      "grid_auto_columns": null,
      "grid_auto_flow": null,
      "grid_auto_rows": null,
      "grid_column": null,
      "grid_gap": null,
      "grid_row": null,
      "grid_template_areas": null,
      "grid_template_columns": null,
      "grid_template_rows": null,
      "height": null,
      "justify_content": null,
      "justify_items": null,
      "left": null,
      "margin": null,
      "max_height": null,
      "max_width": null,
      "min_height": null,
      "min_width": null,
      "object_fit": null,
      "object_position": null,
      "order": null,
      "overflow": null,
      "overflow_x": null,
      "overflow_y": null,
      "padding": null,
      "right": null,
      "top": null,
      "visibility": null,
      "width": null
     }
    },
    "e82568b668cf481baf04423cc588672f": {
     "model_module": "@jupyter-widgets/controls",
     "model_module_version": "1.5.0",
     "model_name": "DescriptionStyleModel",
     "state": {
      "_model_module": "@jupyter-widgets/controls",
      "_model_module_version": "1.5.0",
      "_model_name": "DescriptionStyleModel",
      "_view_count": null,
      "_view_module": "@jupyter-widgets/base",
      "_view_module_version": "1.2.0",
      "_view_name": "StyleView",
      "description_width": ""
     }
    },
    "ea0e212ca74541eea42c3d3293084d4e": {
     "model_module": "@jupyter-widgets/base",
     "model_module_version": "1.2.0",
     "model_name": "LayoutModel",
     "state": {
      "_model_module": "@jupyter-widgets/base",
      "_model_module_version": "1.2.0",
      "_model_name": "LayoutModel",
      "_view_count": null,
      "_view_module": "@jupyter-widgets/base",
      "_view_module_version": "1.2.0",
      "_view_name": "LayoutView",
      "align_content": null,
      "align_items": null,
      "align_self": null,
      "border": null,
      "bottom": null,
      "display": null,
      "flex": null,
      "flex_flow": null,
      "grid_area": null,
      "grid_auto_columns": null,
      "grid_auto_flow": null,
      "grid_auto_rows": null,
      "grid_column": null,
      "grid_gap": null,
      "grid_row": null,
      "grid_template_areas": null,
      "grid_template_columns": null,
      "grid_template_rows": null,
      "height": null,
      "justify_content": null,
      "justify_items": null,
      "left": null,
      "margin": null,
      "max_height": null,
      "max_width": null,
      "min_height": null,
      "min_width": null,
      "object_fit": null,
      "object_position": null,
      "order": null,
      "overflow": null,
      "overflow_x": null,
      "overflow_y": null,
      "padding": null,
      "right": null,
      "top": null,
      "visibility": null,
      "width": null
     }
    },
    "f1554179789b4fe88daee1f7c6f123f9": {
     "model_module": "@jupyter-widgets/controls",
     "model_module_version": "1.5.0",
     "model_name": "VBoxModel",
     "state": {
      "_dom_classes": [],
      "_model_module": "@jupyter-widgets/controls",
      "_model_module_version": "1.5.0",
      "_model_name": "VBoxModel",
      "_view_count": null,
      "_view_module": "@jupyter-widgets/controls",
      "_view_module_version": "1.5.0",
      "_view_name": "VBoxView",
      "box_style": "",
      "children": [
       "IPY_MODEL_6de544d5140b40d9a122a1f95beb8861",
       "IPY_MODEL_851a640b27b04208a2fc558e924ff1bf"
      ],
      "layout": "IPY_MODEL_c8cfdfcf2ad349e0aa3336dfb0e797c9"
     }
    },
    "f39d47314e2342d9a21513e2fac0545b": {
     "model_module": "@jupyter-widgets/controls",
     "model_module_version": "1.5.0",
     "model_name": "RadioButtonsModel",
     "state": {
      "_dom_classes": [],
      "_model_module": "@jupyter-widgets/controls",
      "_model_module_version": "1.5.0",
      "_model_name": "RadioButtonsModel",
      "_options_labels": [
       "紅茶",
       "招牌奶茶",
       "鮮奶茶",
       "無糖綠茶",
       "鮮奶",
       "豆漿",
       "美式咖啡",
       "拿鐵"
      ],
      "_view_count": null,
      "_view_module": "@jupyter-widgets/controls",
      "_view_module_version": "1.5.0",
      "_view_name": "RadioButtonsView",
      "description": "飲料：",
      "description_tooltip": null,
      "disabled": false,
      "index": 4,
      "layout": "IPY_MODEL_9ea27a1038d649b49b9cf04242b84e2d",
      "style": "IPY_MODEL_9f699830a8c94544a0702a2b0a1b3dab"
     }
    },
    "f7f65d333f7940fb9929610cfa31ef39": {
     "model_module": "@jupyter-widgets/controls",
     "model_module_version": "1.5.0",
     "model_name": "ButtonModel",
     "state": {
      "_dom_classes": [],
      "_model_module": "@jupyter-widgets/controls",
      "_model_module_version": "1.5.0",
      "_model_name": "ButtonModel",
      "_view_count": null,
      "_view_module": "@jupyter-widgets/controls",
      "_view_module_version": "1.5.0",
      "_view_name": "ButtonView",
      "button_style": "",
      "description": "藍色藥丸",
      "disabled": false,
      "icon": "",
      "layout": "IPY_MODEL_7bfc52a26c9947c7b08c49cf4b4746b1",
      "style": "IPY_MODEL_6125add6b46947c69aa3513f6666aacf",
      "tooltip": ""
     }
    }
   }
  }
 },
 "nbformat": 4,
 "nbformat_minor": 4
}
